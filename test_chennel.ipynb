{
 "cells": [
  {
   "cell_type": "code",
   "execution_count": 1,
   "id": "02205a84-afe8-49bb-8ecf-c21bcba6390e",
   "metadata": {},
   "outputs": [],
   "source": [
    "import asyncio\n",
    "from hfc.fabric import Client\n",
    "import nest_asyncio\n",
    "nest_asyncio.apply()"
   ]
  },
  {
   "cell_type": "code",
   "execution_count": 2,
   "id": "ccd0f9da-850a-441e-929d-a1e077180663",
   "metadata": {},
   "outputs": [
    {
     "name": "stderr",
     "output_type": "stream",
     "text": [
      "Init client with profile=test/fixtures/network.json\n",
      "create org with name=orderer.example.com\n",
      "create org with name=org1.example.com\n",
      "create org with name=org2.example.com\n",
      "create ca with name=ca-org1\n",
      "create ca with name=ca-org2\n",
      "Import orderers = dict_keys(['orderer.example.com'])\n",
      "Import peers = dict_keys(['peer0.org1.example.com', 'peer1.org1.example.com', 'peer0.org2.example.com', 'peer1.org2.example.com'])\n"
     ]
    }
   ],
   "source": [
    "loop = asyncio.get_event_loop()\n",
    "\n",
    "cli = Client(net_profile=\"test/fixtures/network.json\")\n",
    "org1_admin = cli.get_user(org_name='org1.example.com', name='Admin')"
   ]
  },
  {
   "cell_type": "code",
   "execution_count": 3,
   "id": "27f2181d-bd0a-43be-8bb8-f5d3c68daf50",
   "metadata": {},
   "outputs": [
    {
     "name": "stderr",
     "output_type": "stream",
     "text": [
      "FABRIC_CFG_PATH set to /home/prixa-ml/PycharmProjects/goProject/fabric-sdk-py/test/fixtures/e2e_cli/\n",
      "Configtx file successfully created in current             directory\n",
      "{'tx_id': 'aeb1525b6c6dede3b0b85f4beaf7b90a2c45395e8019a66a451050a52e506a3e', 'nonce': b'\\xec\\xaa-h\\xd5J\\xa5\\x87@\\t\\xe4\\xcdU0v/3bP\\xf7C\\xe1Ei', 'signatures': [b'\\n\\xd3\\x06\\n\\xb6\\x06\\n\\x07Org1MSP\\x12\\xaa\\x06-----BEGIN CERTIFICATE-----\\nMIICKjCCAdCgAwIBAgIQEn3uLYlL4sXXQBS1/k8u7zAKBggqhkjOPQQDAjBzMQsw\\nCQYDVQQGEwJVUzETMBEGA1UECBMKQ2FsaWZvcm5pYTEWMBQGA1UEBxMNU2FuIEZy\\nYW5jaXNjbzEZMBcGA1UEChMQb3JnMS5leGFtcGxlLmNvbTEcMBoGA1UEAxMTY2Eu\\nb3JnMS5leGFtcGxlLmNvbTAeFw0xODEwMTkwMzQ4MDBaFw0yODEwMTYwMzQ4MDBa\\nMGwxCzAJBgNVBAYTAlVTMRMwEQYDVQQIEwpDYWxpZm9ybmlhMRYwFAYDVQQHEw1T\\nYW4gRnJhbmNpc2NvMQ8wDQYDVQQLEwZjbGllbnQxHzAdBgNVBAMMFkFkbWluQG9y\\nZzEuZXhhbXBsZS5jb20wWTATBgcqhkjOPQIBBggqhkjOPQMBBwNCAAR2zFPDBYIy\\njZSXaB15ILW9MRUYkSiksD6Io+VBbsJex2S7Do7lJhYfpyg5Z1LEHLCQgHH/VJ1F\\nMZmNHgIIHqWPo00wSzAOBgNVHQ8BAf8EBAMCB4AwDAYDVR0TAQH/BAIwADArBgNV\\nHSMEJDAigCBrrGAVZjePzZuDxouWmQ1BrbUVMmQN6w6E+DzsHViX0jAKBggqhkjO\\nPQQDAgNIADBFAiEA0FGz0YuvjPaKGy0h7+AUGJ+02O78VIIJx3wX1SL0ODMCIHSN\\nDX1FwttwXOkNiLBOi9sz04bOXz6ALO0xXtZCE4pi\\n-----END CERTIFICATE-----\\n\\x12\\x18\\xec\\xaa-h\\xd5J\\xa5\\x87@\\t\\xe4\\xcdU0v/3bP\\xf7C\\xe1Ei\\x12F0D\\x02 \\x17]n\\xd8\\x02\\xda\\x17\\xb6\\xbf6=\\x150F\\xbd\\xee\\x9b\\x87=\\r1U\\xdes\\xd8S\\xda\\x81\\xcbP:v\\x02 Ov\\xea\\x11\\xcf\\xbe\\xfb^\\xff\\xeb\\x94\\xae\\x87\"\\xd2\\xc8\\xf2\\xc9*%\\xe0\\x9b*iL\\n\\xd4\\xa5\\xef\\x04\\xb4\\x80'], 'config': b'\\n\\x0btestchannel\\x12;\\x12)\\n\\x0bApplication\\x12\\x1a\\x12\\x0b\\n\\x07Org1MSP\\x12\\x00\\x12\\x0b\\n\\x07Org2MSP\\x12\\x00\\x1a\\x0e\\n\\nConsortium\\x12\\x00\\x1a\\xed\\x01\\x12\\xc6\\x01\\n\\x0bApplication\\x12\\xb6\\x01\\x08\\x01\\x12\\x0b\\n\\x07Org1MSP\\x12\\x00\\x12\\x0b\\n\\x07Org2MSP\\x12\\x00\\x1a$\\n\\x0cCapabilities\\x12\\x14\\x12\\n\\n\\x08\\n\\x04V1_3\\x12\\x00\\x1a\\x06Admins\"\"\\n\\x07Readers\\x12\\x17\\x12\\r\\x08\\x03\\x12\\t\\n\\x07Readers\\x1a\\x06Admins\"\"\\n\\x07Writers\\x12\\x17\\x12\\r\\x08\\x03\\x12\\t\\n\\x07Writers\\x1a\\x06Admins\"\"\\n\\x06Admins\\x12\\x18\\x12\\x0e\\x08\\x03\\x12\\n\\n\\x06Admins\\x10\\x02\\x1a\\x06Admins*\\x06Admins\\x1a\"\\n\\nConsortium\\x12\\x14\\x12\\x12\\n\\x10SampleConsortium', 'orderer': <hfc.fabric.orderer.Orderer object at 0x7f548178f7f0>, 'channel_name': 'testchannel'}\n",
      "_create_or_update_channel - start\n",
      "_create_or_update_channel - have config_update\n",
      "New channel with name = testchannel\n"
     ]
    },
    {
     "name": "stdout",
     "output_type": "stream",
     "text": [
      "True\n",
      "True\n"
     ]
    }
   ],
   "source": [
    "# Create a New Channel, the response should be true if succeed\n",
    "response = loop.run_until_complete(cli.channel_create(\n",
    "            orderer='orderer.example.com',\n",
    "            channel_name='testchannel',\n",
    "            requestor=org1_admin,\n",
    "            config_yaml='test/fixtures/e2e_cli/',\n",
    "            channel_profile='TwoOrgsChannel'\n",
    "            ))\n",
    "print(response)\n",
    "print(response == True)"
   ]
  },
  {
   "cell_type": "code",
   "execution_count": 4,
   "id": "d3db8fde-7024-426e-a64b-1e5e2091a0c5",
   "metadata": {},
   "outputs": [
    {
     "name": "stderr",
     "output_type": "stream",
     "text": [
      "get genesis block successfully, block=data_hash: \"\\335\\002\\250\\2230\\217\\302\\231A\\tVG\\336&\\243+\\312\\221\\214\\031\\001$\\024\\213\\321e5\\217C\\007:\\320\"\n",
      "\n"
     ]
    },
    {
     "name": "stdout",
     "output_type": "stream",
     "text": [
      "[response {\n",
      "  status: 200\n",
      "}\n",
      ", response {\n",
      "  status: 200\n",
      "}\n",
      "]\n",
      "True\n"
     ]
    }
   ],
   "source": [
    "orderer_admin = cli.get_user(org_name='orderer.example.com', name='Admin')\n",
    "responses = loop.run_until_complete(cli.channel_join(\n",
    "               requestor=org1_admin,\n",
    "               channel_name='testchannel',\n",
    "               peers=['peer0.org1.example.com',\n",
    "                      'peer1.org1.example.com'],\n",
    "               orderer='orderer.example.com'\n",
    "               ))\n",
    "\n",
    "print(responses)\n",
    "print(len(responses) == 2)"
   ]
  },
  {
   "cell_type": "code",
   "execution_count": 5,
   "id": "fd9a294e-21b1-4d57-9617-adbfd098da18",
   "metadata": {},
   "outputs": [
    {
     "name": "stderr",
     "output_type": "stream",
     "text": [
      "New channel with name = testchannel\n"
     ]
    },
    {
     "data": {
      "text/plain": [
       "<hfc.fabric.channel.channel.Channel at 0x7f548179df40>"
      ]
     },
     "execution_count": 5,
     "metadata": {},
     "output_type": "execute_result"
    }
   ],
   "source": [
    "cli.new_channel('testchannel')"
   ]
  },
  {
   "cell_type": "code",
   "execution_count": 6,
   "id": "76a10270-2ae7-4188-85fc-6eee4af0e326",
   "metadata": {},
   "outputs": [],
   "source": [
    "# Install Example Chaincode to Peers\n",
    "# GOPATH setting is only needed to use the example chaincode inside sdk\n",
    "import os\n",
    "gopath_bak = os.environ.get('GOPATH', '')\n",
    "gopath = os.path.normpath(os.path.join(\n",
    "                      os.path.dirname(os.path.realpath('__file__')),\n",
    "                      'test/fixtures/chaincode'\n",
    "                     ))\n",
    "os.environ['GOPATH'] = os.path.abspath(gopath)\n",
    "# os.environ['GOPATH'] = os.path.abspath('/home/prixa-ml/go')"
   ]
  },
  {
   "cell_type": "code",
   "execution_count": 7,
   "id": "dca26a98-ba61-4734-9371-f1cef176b73f",
   "metadata": {},
   "outputs": [
    {
     "data": {
      "text/plain": [
       "[response {\n",
       "   status: 200\n",
       "   payload: \"OK\"\n",
       " },\n",
       " response {\n",
       "   status: 200\n",
       "   payload: \"OK\"\n",
       " }]"
      ]
     },
     "execution_count": 7,
     "metadata": {},
     "output_type": "execute_result"
    }
   ],
   "source": [
    "# The response should be true if succeed\n",
    "responses = loop.run_until_complete(cli.chaincode_install(\n",
    "               requestor=org1_admin,\n",
    "               peers=['peer0.org1.example.com',\n",
    "                      'peer1.org1.example.com'],\n",
    "               cc_path='github.com/example_cc',\n",
    "               cc_name='example_cc',\n",
    "               cc_version='v1.0'\n",
    "               ))\n",
    "\n",
    "responses"
   ]
  },
  {
   "cell_type": "code",
   "execution_count": 8,
   "id": "38b39dc7-726d-4ebd-8765-075163d43f13",
   "metadata": {},
   "outputs": [],
   "source": [
    "# Instantiate Chaincode in Channel, the response should be true if succeed\n",
    "args = ['ram', '10000', 'not-ram', '30000']\n",
    "\n",
    "\n",
    "policy = {\n",
    "    'identities': [\n",
    "        {'role': {'name': 'member', 'mspId': 'Org1MSP'}},\n",
    "    ],\n",
    "    'policy': {\n",
    "        '1-of': [\n",
    "            {'signed-by': 0},\n",
    "        ]\n",
    "    }\n",
    "}"
   ]
  },
  {
   "cell_type": "code",
   "execution_count": 10,
   "id": "668957b7-3380-44c1-a19a-329653ce665d",
   "metadata": {},
   "outputs": [
    {
     "name": "stdout",
     "output_type": "stream",
     "text": [
      "x is ------------>>> version: 1\n",
      "response {\n",
      "  status: 200\n",
      "  payload: \"\\n\\nexample_cc\\022\\004v1.0\\032\\004escc\\\"\\004vscc*\\027\\022\\010\\022\\006\\010\\001\\022\\002\\010\\000\\032\\013\\022\\t\\n\\007Org1MSP2D\\n \\261\\374\\334Tl8B\\013[A\\001\\3334\\342\\335\\255^\\256\\352>\\301dU\\3741\\256\\264\\257~\\255\\231\\341\\022 zu\\262KC;A\\273\\263S\\3363b\\364/\\001L\\372\\346\\260\\324\\253\\341\\001\\025\\036\\257\\036mg\\272\\215: \\307\\300\\343\\333VUH\\035O\\201 \\356\\360\\347\\342\\352\\025LZ\\306\\205\\375\\320t\\006\\007Q\\235\\203\\006*\\352B,\\022\\014\\022\\n\\010\\001\\022\\002\\010\\000\\022\\002\\010\\001\\032\\r\\022\\013\\n\\007Org1MSP\\020\\001\\032\\r\\022\\013\\n\\007Org2MSP\\020\\001\"\n",
      "}\n",
      "payload: \"\\n \\314H\\376\\232pE_\\305\\013\\364i\\2043\\023\\\\\\005d\\271\\303\\203(\\307\\220\\346\\2634\\037-\\345Y\\317\\000\\022\\221\\004\\n\\251\\002\\022.\\n\\nexample_cc\\022 \\032\\020\\n\\007not-ram\\032\\00530000\\032\\014\\n\\003ram\\032\\00510000\\022\\366\\001\\n\\004lscc\\022\\355\\001\\n\\014\\n\\nexample_cc\\032\\334\\001\\n\\nexample_cc\\032\\315\\001\\n\\nexample_cc\\022\\004v1.0\\032\\004escc\\\"\\004vscc*\\027\\022\\010\\022\\006\\010\\001\\022\\002\\010\\000\\032\\013\\022\\t\\n\\007Org1MSP2D\\n \\261\\374\\334Tl8B\\013[A\\001\\3334\\342\\335\\255^\\256\\352>\\301dU\\3741\\256\\264\\257~\\255\\231\\341\\022 zu\\262KC;A\\273\\263S\\3363b\\364/\\001L\\372\\346\\260\\324\\253\\341\\001\\025\\036\\257\\036mg\\272\\215: \\307\\300\\343\\333VUH\\035O\\201 \\356\\360\\347\\342\\352\\025LZ\\306\\205\\375\\320t\\006\\007Q\\235\\203\\006*\\352B,\\022\\014\\022\\n\\010\\001\\022\\002\\010\\000\\022\\002\\010\\001\\032\\r\\022\\013\\n\\007Org1MSP\\020\\001\\032\\r\\022\\013\\n\\007Org2MSP\\020\\001\\032\\323\\001\\010\\310\\001\\032\\315\\001\\n\\nexample_cc\\022\\004v1.0\\032\\004escc\\\"\\004vscc*\\027\\022\\010\\022\\006\\010\\001\\022\\002\\010\\000\\032\\013\\022\\t\\n\\007Org1MSP2D\\n \\261\\374\\334Tl8B\\013[A\\001\\3334\\342\\335\\255^\\256\\352>\\301dU\\3741\\256\\264\\257~\\255\\231\\341\\022 zu\\262KC;A\\273\\263S\\3363b\\364/\\001L\\372\\346\\260\\324\\253\\341\\001\\025\\036\\257\\036mg\\272\\215: \\307\\300\\343\\333VUH\\035O\\201 \\356\\360\\347\\342\\352\\025LZ\\306\\205\\375\\320t\\006\\007Q\\235\\203\\006*\\352B,\\022\\014\\022\\n\\010\\001\\022\\002\\010\\000\\022\\002\\010\\001\\032\\r\\022\\013\\n\\007Org1MSP\\020\\001\\032\\r\\022\\013\\n\\007Org2MSP\\020\\001\\\"\\r\\022\\004lscc\\032\\0051.4.6\"\n",
      "endorsement {\n",
      "  endorser: \"\\n\\007Org1MSP\\022\\252\\006-----BEGIN CERTIFICATE-----\\nMIICKDCCAc+gAwIBAgIRAK5JdC2UorbI3GYUD7Z+I08wCgYIKoZIzj0EAwIwczEL\\nMAkGA1UEBhMCVVMxEzARBgNVBAgTCkNhbGlmb3JuaWExFjAUBgNVBAcTDVNhbiBG\\ncmFuY2lzY28xGTAXBgNVBAoTEG9yZzEuZXhhbXBsZS5jb20xHDAaBgNVBAMTE2Nh\\nLm9yZzEuZXhhbXBsZS5jb20wHhcNMTgxMDE5MDM0ODAwWhcNMjgxMDE2MDM0ODAw\\nWjBqMQswCQYDVQQGEwJVUzETMBEGA1UECBMKQ2FsaWZvcm5pYTEWMBQGA1UEBxMN\\nU2FuIEZyYW5jaXNjbzENMAsGA1UECxMEcGVlcjEfMB0GA1UEAxMWcGVlcjAub3Jn\\nMS5leGFtcGxlLmNvbTBZMBMGByqGSM49AgEGCCqGSM49AwEHA0IABF9ACNtWdD+C\\nj5hejCA9qvYEO1pbizsTZzpixLZO96Hv7Bhjke0I4m92+m1QB3j3atPbIqYR1vI8\\n5PsIwdaSnJejTTBLMA4GA1UdDwEB/wQEAwIHgDAMBgNVHRMBAf8EAjAAMCsGA1Ud\\nIwQkMCKAIGusYBVmN4/Nm4PGi5aZDUGttRUyZA3rDoT4POwdWJfSMAoGCCqGSM49\\nBAMCA0cAMEQCIDzfPy6MtrloRm00mm0dXJijLRtqu74TMCdiIz9/PsfHAiBXgK3U\\nKSPOmE1wKHkwr/SUyDPStCXkV5uO9ObjK9bbLA==\\n-----END CERTIFICATE-----\\n\"\n",
      "  signature: \"0D\\002 d.\\222\\226\\177\\356\\272\\323#\\372\\263Q\\216*\\375\\025\\232\\203\\030\\237\\007\\031~]\\222\\306\\206Y\\334,h\\027\\002 Z\\340%\\345\\031Tox\\204\\034i\\234q\\260\\270\\224\\334\\022z\\225\\017\\026\\255T\\324~\\214}\\252k+m\"\n",
      "}\n",
      "\n"
     ]
    },
    {
     "data": {
      "text/plain": [
       "{'name': 'example_cc',\n",
       " 'version': 'v1.0',\n",
       " 'escc': 'escc',\n",
       " 'vscc': 'vscc',\n",
       " 'policy': {'version': 0,\n",
       "  'rule': {'n_out_of': {'n': 1, 'rules': [{'signed_by': 0}]}},\n",
       "  'identities': [{'principal_classification': 'ROLE',\n",
       "    'principal': {'msp_identifier': 'Org1MSP', 'role': 'MEMBER'}}]},\n",
       " 'data': {'hash': b'\\xb1\\xfc\\xdcTl8B\\x0b[A\\x01\\xdb4\\xe2\\xdd\\xad^\\xae\\xea>\\xc1dU\\xfc1\\xae\\xb4\\xaf~\\xad\\x99\\xe1',\n",
       "  'metadatahash': b'zu\\xb2KC;A\\xbb\\xb3S\\xde3b\\xf4/\\x01L\\xfa\\xe6\\xb0\\xd4\\xab\\xe1\\x01\\x15\\x1e\\xaf\\x1emg\\xba\\x8d'},\n",
       " 'id': b'\\xc7\\xc0\\xe3\\xdbVUH\\x1dO\\x81 \\xee\\xf0\\xe7\\xe2\\xea\\x15LZ\\xc6\\x85\\xfd\\xd0t\\x06\\x07Q\\x9d\\x83\\x06*\\xea',\n",
       " 'instantiation_policy': {'version': 0,\n",
       "  'rule': {'n_out_of': {'n': 1,\n",
       "    'rules': [{'signed_by': 0}, {'signed_by': 1}]}},\n",
       "  'identities': [{'principal_classification': 'ROLE',\n",
       "    'principal': {'msp_identifier': 'Org1MSP', 'role': 'ADMIN'}},\n",
       "   {'principal_classification': 'ROLE',\n",
       "    'principal': {'msp_identifier': 'Org2MSP', 'role': 'ADMIN'}}]}}"
      ]
     },
     "execution_count": 10,
     "metadata": {},
     "output_type": "execute_result"
    }
   ],
   "source": [
    "response = loop.run_until_complete(cli.chaincode_instantiate(\n",
    "               requestor=org1_admin,\n",
    "               channel_name='testchannel',\n",
    "               peers=['peer0.org1.example.com'],\n",
    "               args=args,\n",
    "               cc_name='example_cc',\n",
    "               cc_version='v1.0',\n",
    "               cc_endorsement_policy=policy, # optional, but recommended\n",
    "               collections_config=None, # optional, for private data policy\n",
    "               transient_map=None, # optional, for private data\n",
    "               wait_for_event=True # optional, for being sure chaincode is instantiated\n",
    "               ))\n",
    "response"
   ]
  },
  {
   "cell_type": "code",
   "execution_count": 13,
   "id": "a775b0a4-da21-4fa4-ab3c-25f1473ba782",
   "metadata": {},
   "outputs": [
    {
     "data": {
      "text/plain": [
       "'30100'"
      ]
     },
     "execution_count": 13,
     "metadata": {},
     "output_type": "execute_result"
    }
   ],
   "source": [
    "# Invoke a chaincode\n",
    "args = ['ram', 'not-ram', '100']\n",
    "# The response should be true if succeed\n",
    "response = loop.run_until_complete(cli.chaincode_invoke(\n",
    "               requestor=org1_admin,\n",
    "               channel_name='testchannel',\n",
    "               peers=['peer0.org1.example.com'],\n",
    "               args=args,\n",
    "               cc_name='example_cc',\n",
    "               transient_map=None, # optional, for private data\n",
    "               wait_for_event=True, # for being sure chaincode invocation has been commited in the ledger, default is on tx event\n",
    "               #cc_pattern='^invoked*' # if you want to wait for chaincode event and you have a `stub.SetEvent(\"invoked\", value)` in your chaincode\n",
    "               ))\n",
    "\n",
    "response"
   ]
  },
  {
   "cell_type": "code",
   "execution_count": 14,
   "id": "c39012c3-e043-44a7-8011-ac07d090c050",
   "metadata": {},
   "outputs": [],
   "source": [
    "from hfc.fabric.channel.channel import Channel"
   ]
  },
  {
   "cell_type": "code",
   "execution_count": 24,
   "id": "a25ed5ff-57ad-4ec2-ab7d-55834e939478",
   "metadata": {},
   "outputs": [
    {
     "data": {
      "text/plain": [
       "<hfc.fabric.client.Client at 0x7f54a0776640>"
      ]
     },
     "execution_count": 24,
     "metadata": {},
     "output_type": "execute_result"
    }
   ],
   "source": [
    "Channel('testchannel',cli)._client"
   ]
  },
  {
   "cell_type": "code",
   "execution_count": 35,
   "id": "908bb722-8467-4213-a457-8ff855003708",
   "metadata": {},
   "outputs": [],
   "source": [
    "from hfc.fabric.transaction.tx_proposal_request import create_tx_prop_req,TXProposalRequest\n",
    "from hfc.util.consts import SYSTEM_CHANNEL_NAME, CC_INSTANTIATE, CC_UPGRADE, CC_INVOKE, CC_QUERY, CC_TYPE_GOLANG"
   ]
  },
  {
   "cell_type": "code",
   "execution_count": null,
   "id": "3e55252e-b430-492b-ba24-bd0385c4c5a6",
   "metadata": {},
   "outputs": [],
   "source": [
    "from hfc.fabric.transaction import tx_proposal_request"
   ]
  },
  {
   "cell_type": "code",
   "execution_count": 36,
   "id": "8902bab2-af1c-46ac-ad80-ab3ad5798bb4",
   "metadata": {},
   "outputs": [],
   "source": [
    "def create_tx_prop_req(prop_type=None, cc_path=None, cc_type=CC_TYPE_GOLANG,\n",
    "                       cc_name=None, cc_version=None, fcn=None, args=None,\n",
    "                       cc_endorsement_policy=None,\n",
    "                       transient_map=None, packaged_cc=None,\n",
    "                       collections_config=None, package_id=None, is_init=False):\n",
    "    \"\"\"Create a transaction proposal request\n",
    "\n",
    "    :param prop_type: proposal request type (Default value = None)\n",
    "    :param cc_path: chaincode path (Default value = None)\n",
    "    :param cc_name: chaincode name (Default value = None)\n",
    "    :param cc_version: chaincode version (Default value = None)\n",
    "    :param fcn: function name (Default value = None)\n",
    "    :param args: function arguments (Default value = None)\n",
    "    :param cc_endorsement_policy: chaincode endorsement policy (Default value = None)\n",
    "    :param transient_map: transient data map (Default value = None)\n",
    "    :param packaged_cc: packaged chaincode source\n",
    "    :param cc_type:  (Default value = CC_TYPE_GOLANG)\n",
    "    :param collections_config:  (Default value = None)\n",
    "    :return: a transaction proposal request (Default value = None)\n",
    "\n",
    "    \"\"\"\n",
    "    tx_prop_req = TXProposalRequest(\n",
    "        prop_type, cc_path, cc_type, cc_name, cc_version, fcn,\n",
    "        args, cc_endorsement_policy, transient_map,\n",
    "        packaged_cc, collections_config, package_id, is_init)\n",
    "    return tx_prop_req"
   ]
  },
  {
   "cell_type": "code",
   "execution_count": 37,
   "id": "2262a9bb-a81f-4bd6-8a6b-a5f6c28c0f7b",
   "metadata": {},
   "outputs": [],
   "source": [
    "tx_prop_req = create_tx_prop_req(\n",
    "            prop_type=CC_QUERY,\n",
    "            fcn='GetChainInfo',\n",
    "            cc_name='example_cc',\n",
    "            args=['testchannel'],\n",
    "            cc_type=CC_TYPE_GOLANG,\n",
    "            transient_map=None)"
   ]
  },
  {
   "cell_type": "code",
   "execution_count": 39,
   "id": "82652767-4ead-4427-96b9-b4032b5f4d75",
   "metadata": {},
   "outputs": [
    {
     "data": {
      "text/plain": [
       "<hfc.fabric.transaction.tx_proposal_request.TXProposalRequest at 0x7f54806b8850>"
      ]
     },
     "execution_count": 39,
     "metadata": {},
     "output_type": "execute_result"
    }
   ],
   "source": [
    "tx_prop_req"
   ]
  },
  {
   "cell_type": "code",
   "execution_count": 44,
   "id": "04d7b59c-e00b-4990-85ac-78af31e65b42",
   "metadata": {},
   "outputs": [
    {
     "data": {
      "text/plain": [
       "'GetChainInfo'"
      ]
     },
     "execution_count": 44,
     "metadata": {},
     "output_type": "execute_result"
    }
   ],
   "source": [
    "tx_prop_req._fcn"
   ]
  },
  {
   "cell_type": "code",
   "execution_count": 48,
   "id": "ebcf7a11-5522-492b-bc8d-14a3df8272a1",
   "metadata": {},
   "outputs": [],
   "source": [
    "from hfc.fabric.transaction.tx_context import TXContext, create_tx_context\n"
   ]
  },
  {
   "cell_type": "code",
   "execution_count": 49,
   "id": "576bcb09-1179-49a0-afb4-461470b29a7d",
   "metadata": {},
   "outputs": [],
   "source": [
    "requestor = cli.get_user('org1.example.com', 'Admin')"
   ]
  },
  {
   "cell_type": "code",
   "execution_count": 50,
   "id": "63eb2d44-4fd1-402c-ac77-790805456db6",
   "metadata": {},
   "outputs": [],
   "source": [
    "tx_context = create_tx_context(requestor, requestor.cryptoSuite,tx_prop_req)"
   ]
  },
  {
   "cell_type": "code",
   "execution_count": 54,
   "id": "abfd2abc-a56b-4b90-96ed-0fea4a6da1d7",
   "metadata": {},
   "outputs": [
    {
     "data": {
      "text/plain": [
       "<hfc.fabric.user.User at 0x7f548178f040>"
      ]
     },
     "execution_count": 54,
     "metadata": {},
     "output_type": "execute_result"
    }
   ],
   "source": [
    "tx_context._user "
   ]
  },
  {
   "cell_type": "code",
   "execution_count": 55,
   "id": "1fe6cc95-ac64-4029-a8d6-919bb5357c18",
   "metadata": {},
   "outputs": [],
   "source": [
    "peers=['peer0.org1.example.com']"
   ]
  },
  {
   "cell_type": "code",
   "execution_count": 57,
   "id": "e8182cbd-3652-45c8-a2f7-6cbcc1aae8d8",
   "metadata": {},
   "outputs": [],
   "source": [
    "target_peers = cli.get_target_peers(peers)"
   ]
  },
  {
   "cell_type": "code",
   "execution_count": 59,
   "id": "6352f796-fbb4-45ff-acd4-920c2b5523f2",
   "metadata": {},
   "outputs": [],
   "source": [
    "channel = cli.get_channel('testchannel')"
   ]
  },
  {
   "cell_type": "code",
   "execution_count": 65,
   "id": "430cb638-da8a-4b80-a25e-e952e885899e",
   "metadata": {},
   "outputs": [],
   "source": [
    "responses, proposal, header = channel.query_info(tx_context,target_peers)"
   ]
  },
  {
   "cell_type": "code",
   "execution_count": 66,
   "id": "53a71675-ccab-4801-9c3d-3fe30fc586a2",
   "metadata": {},
   "outputs": [
    {
     "data": {
      "text/plain": [
       "[<coroutine object _UnaryUnaryMultiCallable.__call__ at 0x7f5480667dc0>]"
      ]
     },
     "execution_count": 66,
     "metadata": {},
     "output_type": "execute_result"
    }
   ],
   "source": [
    "responses"
   ]
  },
  {
   "cell_type": "code",
   "execution_count": 67,
   "id": "b1e863bc-9572-482e-aa32-17928447a794",
   "metadata": {},
   "outputs": [
    {
     "data": {
      "text/plain": [
       "[version: 1\n",
       " response {\n",
       "   status: 200\n",
       "   payload: \"\\010\\003\\022 \\324\\264:\\212=\\2632\\214}\\022\\354+\\037\\357jHp\\357\\\"z\\214g\\363\\201y\\346\\355^KG\\253i\\032 \\036\\246\\021\\337\\331N0L\\036\\275\\324gW\\271\\374Lzd\\037\\372\\311\\037g\\223\\3742\\312L&us\\t\"\n",
       " }\n",
       " payload: \"\\n 0.-O4\\001_9\\267U\\031q\\364\\232\\004\\210J\\311\\276\\224B\\275\\315\\325\\256\\270\\031\\016s\\300\\204\\362\\022\\\\\\032K\\010\\310\\001\\032F\\010\\003\\022 \\324\\264:\\212=\\2632\\214}\\022\\354+\\037\\357jHp\\357\\\"z\\214g\\363\\201y\\346\\355^KG\\253i\\032 \\036\\246\\021\\337\\331N0L\\036\\275\\324gW\\271\\374Lzd\\037\\372\\311\\037g\\223\\3742\\312L&us\\t\\\"\\r\\022\\004qscc\\032\\0051.4.6\"\n",
       " endorsement {\n",
       "   endorser: \"\\n\\007Org1MSP\\022\\252\\006-----BEGIN CERTIFICATE-----\\nMIICKDCCAc+gAwIBAgIRAK5JdC2UorbI3GYUD7Z+I08wCgYIKoZIzj0EAwIwczEL\\nMAkGA1UEBhMCVVMxEzARBgNVBAgTCkNhbGlmb3JuaWExFjAUBgNVBAcTDVNhbiBG\\ncmFuY2lzY28xGTAXBgNVBAoTEG9yZzEuZXhhbXBsZS5jb20xHDAaBgNVBAMTE2Nh\\nLm9yZzEuZXhhbXBsZS5jb20wHhcNMTgxMDE5MDM0ODAwWhcNMjgxMDE2MDM0ODAw\\nWjBqMQswCQYDVQQGEwJVUzETMBEGA1UECBMKQ2FsaWZvcm5pYTEWMBQGA1UEBxMN\\nU2FuIEZyYW5jaXNjbzENMAsGA1UECxMEcGVlcjEfMB0GA1UEAxMWcGVlcjAub3Jn\\nMS5leGFtcGxlLmNvbTBZMBMGByqGSM49AgEGCCqGSM49AwEHA0IABF9ACNtWdD+C\\nj5hejCA9qvYEO1pbizsTZzpixLZO96Hv7Bhjke0I4m92+m1QB3j3atPbIqYR1vI8\\n5PsIwdaSnJejTTBLMA4GA1UdDwEB/wQEAwIHgDAMBgNVHRMBAf8EAjAAMCsGA1Ud\\nIwQkMCKAIGusYBVmN4/Nm4PGi5aZDUGttRUyZA3rDoT4POwdWJfSMAoGCCqGSM49\\nBAMCA0cAMEQCIDzfPy6MtrloRm00mm0dXJijLRtqu74TMCdiIz9/PsfHAiBXgK3U\\nKSPOmE1wKHkwr/SUyDPStCXkV5uO9ObjK9bbLA==\\n-----END CERTIFICATE-----\\n\"\n",
       "   signature: \"0D\\002 \\007\\327\\204|\\033\\337a\\251/\\033\\270H\\020\\010\\277\\316\\302\\024\\351W\\364\\277\\227\\323#\\300\\355\\007\\002\\374\\033\\267\\002 s\\021\\354\\332\\nG\\311\\003\\364\\337\\345\\250t<\\350\\020@\\316\\\"\\230\\313\\374\\372\\326\\257\\301\\177\\364\\373\\316\\325\\361\"\n",
       " }]"
      ]
     },
     "execution_count": 67,
     "metadata": {},
     "output_type": "execute_result"
    }
   ],
   "source": [
    "res = await asyncio.gather(*responses)\n",
    "res"
   ]
  },
  {
   "cell_type": "code",
   "execution_count": null,
   "id": "3d360763-92be-4d6c-a00e-249c7e71356d",
   "metadata": {},
   "outputs": [],
   "source": []
  }
 ],
 "metadata": {
  "kernelspec": {
   "display_name": "Python 3",
   "language": "python",
   "name": "python3"
  },
  "language_info": {
   "codemirror_mode": {
    "name": "ipython",
    "version": 3
   },
   "file_extension": ".py",
   "mimetype": "text/x-python",
   "name": "python",
   "nbconvert_exporter": "python",
   "pygments_lexer": "ipython3",
   "version": "3.8.8"
  }
 },
 "nbformat": 4,
 "nbformat_minor": 5
}

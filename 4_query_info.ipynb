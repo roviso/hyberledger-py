{
 "cells": [
  {
   "cell_type": "code",
   "execution_count": 1,
   "id": "d5ecffac-a2cd-4d6f-8a7a-9c88d76f8702",
   "metadata": {},
   "outputs": [],
   "source": [
    "import asyncio\n",
    "from hfc.fabric import Client\n",
    "import nest_asyncio\n",
    "nest_asyncio.apply()"
   ]
  },
  {
   "cell_type": "code",
   "execution_count": 2,
   "id": "b12b1633-bdeb-4ffe-b736-ab496cfbbdca",
   "metadata": {},
   "outputs": [
    {
     "name": "stderr",
     "output_type": "stream",
     "text": [
      "Init client with profile=test/fixtures/network.json\n",
      "create org with name=orderer.example.com\n",
      "create org with name=org1.example.com\n",
      "create org with name=org2.example.com\n",
      "create ca with name=ca-org1\n",
      "create ca with name=ca-org2\n",
      "Import orderers = dict_keys(['orderer.example.com'])\n",
      "Import peers = dict_keys(['peer0.org1.example.com', 'peer1.org1.example.com', 'peer0.org2.example.com', 'peer1.org2.example.com'])\n"
     ]
    }
   ],
   "source": [
    "loop = asyncio.get_event_loop()\n",
    "cli = Client(net_profile=\"test/fixtures/network.json\")\n",
    "org1_admin = cli.get_user('org1.example.com', 'Admin')"
   ]
  },
  {
   "cell_type": "code",
   "execution_count": 3,
   "id": "0028cca1-556f-47dc-9df5-fe016d848cf6",
   "metadata": {},
   "outputs": [
    {
     "name": "stderr",
     "output_type": "stream",
     "text": [
      "cc name atcc, version v1.0, path github.com/atcc\n"
     ]
    },
    {
     "name": "stdout",
     "output_type": "stream",
     "text": [
      "[chaincodes {\n",
      "  name: \"atcc\"\n",
      "  version: \"v1.0\"\n",
      "  path: \"github.com/atcc\"\n",
      "  id: \"\\345\\255\\346\\035\\244E\\003(\\r\\355\\276\\376:,.0\\224\\n\\276X\\002\\357I\\253DN\\220\\242\\303\\300C\\031\"\n",
      "}\n",
      "]\n"
     ]
    }
   ],
   "source": [
    "# Query Peer installed chaincodes, make sure the chaincode is installed\n",
    "response = loop.run_until_complete(cli.query_installed_chaincodes(\n",
    "               requestor=org1_admin,\n",
    "               peers=['peer0.org1.example.com'],\n",
    "               decode=True\n",
    "               ))\n",
    "\n",
    "print(response)"
   ]
  },
  {
   "cell_type": "code",
   "execution_count": 4,
   "id": "9a2e53a6-518c-4426-8069-84ddb0f5208d",
   "metadata": {},
   "outputs": [
    {
     "name": "stderr",
     "output_type": "stream",
     "text": [
      "channel id assetchannel\n"
     ]
    },
    {
     "data": {
      "text/plain": [
       "channels {\n",
       "  channel_id: \"assetchannel\"\n",
       "}"
      ]
     },
     "execution_count": 4,
     "metadata": {},
     "output_type": "execute_result"
    }
   ],
   "source": [
    "# Query Peer Joined channel\n",
    "response = loop.run_until_complete(cli.query_channels(\n",
    "               requestor=org1_admin,\n",
    "               peers=['peer0.org1.example.com'],\n",
    "               decode=True\n",
    "               ))\n",
    "\n",
    "response"
   ]
  },
  {
   "cell_type": "code",
   "execution_count": 5,
   "id": "d7523b51-7a9d-4148-94a4-011da2af530b",
   "metadata": {},
   "outputs": [
    {
     "name": "stderr",
     "output_type": "stream",
     "text": [
      "New channel with name = assetchannel\n"
     ]
    },
    {
     "data": {
      "text/plain": [
       "<hfc.fabric.channel.channel.Channel at 0x7fa8164f9790>"
      ]
     },
     "execution_count": 5,
     "metadata": {},
     "output_type": "execute_result"
    }
   ],
   "source": [
    "cli.new_channel('assetchannel')"
   ]
  },
  {
   "cell_type": "code",
   "execution_count": 6,
   "id": "ac4f275f-c221-4edb-8c70-4d3803340040",
   "metadata": {},
   "outputs": [],
   "source": [
    "org1_admin = cli.get_user('org1.example.com', 'Admin')"
   ]
  },
  {
   "cell_type": "code",
   "execution_count": 7,
   "id": "c4b42fba-ac52-40f1-887a-d45546a3e8bd",
   "metadata": {},
   "outputs": [
    {
     "name": "stderr",
     "output_type": "stream",
     "text": [
      "response status 200\n"
     ]
    },
    {
     "data": {
      "text/plain": [
       "height: 5\n",
       "currentBlockHash: \"\\237.\\217NQ|)\\232\\240<\\013\\250\\276g\\273\\0377\\021\\030\\205b\\037\\243\\203K%\\276\\r\\016\\344\\341\\220\"\n",
       "previousBlockHash: \"\\215\\273\\233\\312^\\010\\330v\\032\\0074\\244?\\357\\227\\351\\305\\023(G\\250/w\\217\\001\\240$\\346BS\\354c\""
      ]
     },
     "execution_count": 7,
     "metadata": {},
     "output_type": "execute_result"
    }
   ],
   "source": [
    "# first get the hash by calling 'query_info'\n",
    "response = loop.run_until_complete(cli.query_info(\n",
    "               requestor=org1_admin,\n",
    "               channel_name='assetchannel',\n",
    "               peers=['peer0.org1.example.com'],\n",
    "               decode=True\n",
    "               ))\n",
    "response"
   ]
  },
  {
   "cell_type": "code",
   "execution_count": 8,
   "id": "a903d997-284f-4dc2-96b3-9dc7883d6bb4",
   "metadata": {},
   "outputs": [
    {
     "name": "stderr",
     "output_type": "stream",
     "text": [
      "response status 200\n"
     ]
    },
    {
     "data": {
      "text/plain": [
       "height: 5\n",
       "currentBlockHash: \"\\237.\\217NQ|)\\232\\240<\\013\\250\\276g\\273\\0377\\021\\030\\205b\\037\\243\\203K%\\276\\r\\016\\344\\341\\220\"\n",
       "previousBlockHash: \"\\215\\273\\233\\312^\\010\\330v\\032\\0074\\244?\\357\\227\\351\\305\\023(G\\250/w\\217\\001\\240$\\346BS\\354c\""
      ]
     },
     "execution_count": 8,
     "metadata": {},
     "output_type": "execute_result"
    }
   ],
   "source": [
    "response = loop.run_until_complete(cli.query_info(\n",
    "               requestor=org1_admin,\n",
    "               channel_name='assetchannel',\n",
    "               peers=['peer0.org1.example.com'],\n",
    "               decode=True\n",
    "               ))\n",
    "response"
   ]
  },
  {
   "cell_type": "code",
   "execution_count": 14,
   "id": "5ca2d47e-67ae-4457-950c-fee7b97a4aca",
   "metadata": {},
   "outputs": [
    {
     "data": {
      "text/plain": [
       "b'\\xd3\\xf1\\xd4\\xf2\\xect\\xf7g\\xfc\\xc1J\\xdcTU(bA\\xab]6\\xbf)\\xf9\\xad=:\\xe5\\x0e\\x10\\x13HP'"
      ]
     },
     "execution_count": 14,
     "metadata": {},
     "output_type": "execute_result"
    }
   ],
   "source": [
    "test_hash = response.currentBlockHash\n",
    "test_hash"
   ]
  },
  {
   "cell_type": "code",
   "execution_count": 15,
   "id": "9ef21afc-8698-4138-8bab-ef0dfd29df05",
   "metadata": {},
   "outputs": [
    {
     "name": "stderr",
     "output_type": "stream",
     "text": [
      "response status 200\n",
      "looking at block 2\n"
     ]
    },
    {
     "data": {
      "text/plain": [
       "{'header': {'number': 2,\n",
       "  'previous_hash': b'a80d510ea981ced98798e18ef8c850f7ae8c8ac1e91477141f2d263bb0646f97',\n",
       "  'data_hash': b'b2139b1f7c6b3a682dc7b8166ac9ce4f9086fc67ded82b28b94dd97250a9063e'},\n",
       " 'data': {'data': [{'signature': b'0E\\x02!\\x00\\xfb\\x87=\\x99\\xc9`\\xfc\\xe9\\xf8\\x18>\\x1c\\xbe\\xffi\\xce\\x105\\xc9\\xca\\xc1oRv\\xd7pE\\xbb\\xb7\\x94\\xb6\\xa0\\x02 kW\\x82@Z\\xaa\\xb0t\\xad\\xf1\\xb9L\\xc1nA\\xfb-\\xa2\\xfc\\xbaS\\x07E\\xf1R\\x8c\\x84\\x8c\\x99\\x8a\\x83\\x93',\n",
       "    'payload': {'header': {'channel_header': {'type': 3,\n",
       "       'version': 1,\n",
       "       'timestamp': '2021-09-12 06:05:11',\n",
       "       'channel_id': 'assetchannel',\n",
       "       'tx_id': '5d177d89cdd936d3e22e9ee7d6d6346fb796108287caacd4d25ac894209411d7',\n",
       "       'epoch': 0,\n",
       "       'extension': b'\\x12\\x06\\x12\\x04atcc',\n",
       "       'type_string': 'ENDORSER_TRANSACTION'},\n",
       "      'signature_header': {'creator': {'mspid': 'Org1MSP',\n",
       "        'id_bytes': '-----BEGIN CERTIFICATE-----\\nMIICKjCCAdCgAwIBAgIQEn3uLYlL4sXXQBS1/k8u7zAKBggqhkjOPQQDAjBzMQsw\\nCQYDVQQGEwJVUzETMBEGA1UECBMKQ2FsaWZvcm5pYTEWMBQGA1UEBxMNU2FuIEZy\\nYW5jaXNjbzEZMBcGA1UEChMQb3JnMS5leGFtcGxlLmNvbTEcMBoGA1UEAxMTY2Eu\\nb3JnMS5leGFtcGxlLmNvbTAeFw0xODEwMTkwMzQ4MDBaFw0yODEwMTYwMzQ4MDBa\\nMGwxCzAJBgNVBAYTAlVTMRMwEQYDVQQIEwpDYWxpZm9ybmlhMRYwFAYDVQQHEw1T\\nYW4gRnJhbmNpc2NvMQ8wDQYDVQQLEwZjbGllbnQxHzAdBgNVBAMMFkFkbWluQG9y\\nZzEuZXhhbXBsZS5jb20wWTATBgcqhkjOPQIBBggqhkjOPQMBBwNCAAR2zFPDBYIy\\njZSXaB15ILW9MRUYkSiksD6Io+VBbsJex2S7Do7lJhYfpyg5Z1LEHLCQgHH/VJ1F\\nMZmNHgIIHqWPo00wSzAOBgNVHQ8BAf8EBAMCB4AwDAYDVR0TAQH/BAIwADArBgNV\\nHSMEJDAigCBrrGAVZjePzZuDxouWmQ1BrbUVMmQN6w6E+DzsHViX0jAKBggqhkjO\\nPQQDAgNIADBFAiEA0FGz0YuvjPaKGy0h7+AUGJ+02O78VIIJx3wX1SL0ODMCIHSN\\nDX1FwttwXOkNiLBOi9sz04bOXz6ALO0xXtZCE4pi\\n-----END CERTIFICATE-----\\n'},\n",
       "       'nonce': b'63cf555de998f5a4803f11b80b8483dc9280e8991a3569a4'}},\n",
       "     'data': {'actions': [{'header': {'creator': {'mspid': 'Org1MSP',\n",
       "          'id_bytes': '-----BEGIN CERTIFICATE-----\\nMIICKjCCAdCgAwIBAgIQEn3uLYlL4sXXQBS1/k8u7zAKBggqhkjOPQQDAjBzMQsw\\nCQYDVQQGEwJVUzETMBEGA1UECBMKQ2FsaWZvcm5pYTEWMBQGA1UEBxMNU2FuIEZy\\nYW5jaXNjbzEZMBcGA1UEChMQb3JnMS5leGFtcGxlLmNvbTEcMBoGA1UEAxMTY2Eu\\nb3JnMS5leGFtcGxlLmNvbTAeFw0xODEwMTkwMzQ4MDBaFw0yODEwMTYwMzQ4MDBa\\nMGwxCzAJBgNVBAYTAlVTMRMwEQYDVQQIEwpDYWxpZm9ybmlhMRYwFAYDVQQHEw1T\\nYW4gRnJhbmNpc2NvMQ8wDQYDVQQLEwZjbGllbnQxHzAdBgNVBAMMFkFkbWluQG9y\\nZzEuZXhhbXBsZS5jb20wWTATBgcqhkjOPQIBBggqhkjOPQMBBwNCAAR2zFPDBYIy\\njZSXaB15ILW9MRUYkSiksD6Io+VBbsJex2S7Do7lJhYfpyg5Z1LEHLCQgHH/VJ1F\\nMZmNHgIIHqWPo00wSzAOBgNVHQ8BAf8EBAMCB4AwDAYDVR0TAQH/BAIwADArBgNV\\nHSMEJDAigCBrrGAVZjePzZuDxouWmQ1BrbUVMmQN6w6E+DzsHViX0jAKBggqhkjO\\nPQQDAgNIADBFAiEA0FGz0YuvjPaKGy0h7+AUGJ+02O78VIIJx3wX1SL0ODMCIHSN\\nDX1FwttwXOkNiLBOi9sz04bOXz6ALO0xXtZCE4pi\\n-----END CERTIFICATE-----\\n'},\n",
       "         'nonce': b'63cf555de998f5a4803f11b80b8483dc9280e8991a3569a4'},\n",
       "        'payload': {'chaincode_proposal_payload': {'input': b'\\n)\\x08\\x01\\x12\\x06\\x12\\x04atcc\\x1a\\x1d\\n\\rTransferAsset\\n\\x06asset2\\n\\x04ravi'},\n",
       "         'action': {'proposal_response_payload': {'proposal_hash': b'73d9688c1b83bf1aa123fe5659e01234b50c8550a2c55503b9872b6d02cd7ceb',\n",
       "           'extension': {'results': {'data_model': 0,\n",
       "             'ns_rwset': [{'namespace': 'atcc',\n",
       "               'rwset': {'reads': [{'key': 'asset2',\n",
       "                  'version': {'block_num': '1', 'tx_num': '0'}}],\n",
       "                'range_queries_info': [],\n",
       "                'writes': [{'key': 'asset2',\n",
       "                  'is_delete': False,\n",
       "                  'value': b'{\"ID\":\"asset2\",\"color\":\"red\",\"size\":5,\"owner\":\"ravi\",\"appraisedValue\":400}'}]}},\n",
       "              {'namespace': 'lscc',\n",
       "               'rwset': {'reads': [{'key': 'atcc',\n",
       "                  'version': {'block_num': '1', 'tx_num': '0'}}],\n",
       "                'range_queries_info': [],\n",
       "                'writes': []}}]},\n",
       "            'events': {'chaincode_id': '',\n",
       "             'tx_id': '',\n",
       "             'event_name': '',\n",
       "             'payload': b''},\n",
       "            'response': {'status': 200, 'message': '', 'payload': b''},\n",
       "            'chaincode_id': {'path': '', 'name': 'atcc', 'version': 'v1.0'}}},\n",
       "          'endorsements': [{'endorser': {'mspid': 'Org1MSP',\n",
       "             'id_bytes': '-----BEGIN CERTIFICATE-----\\nMIICKDCCAc+gAwIBAgIRAK5JdC2UorbI3GYUD7Z+I08wCgYIKoZIzj0EAwIwczEL\\nMAkGA1UEBhMCVVMxEzARBgNVBAgTCkNhbGlmb3JuaWExFjAUBgNVBAcTDVNhbiBG\\ncmFuY2lzY28xGTAXBgNVBAoTEG9yZzEuZXhhbXBsZS5jb20xHDAaBgNVBAMTE2Nh\\nLm9yZzEuZXhhbXBsZS5jb20wHhcNMTgxMDE5MDM0ODAwWhcNMjgxMDE2MDM0ODAw\\nWjBqMQswCQYDVQQGEwJVUzETMBEGA1UECBMKQ2FsaWZvcm5pYTEWMBQGA1UEBxMN\\nU2FuIEZyYW5jaXNjbzENMAsGA1UECxMEcGVlcjEfMB0GA1UEAxMWcGVlcjAub3Jn\\nMS5leGFtcGxlLmNvbTBZMBMGByqGSM49AgEGCCqGSM49AwEHA0IABF9ACNtWdD+C\\nj5hejCA9qvYEO1pbizsTZzpixLZO96Hv7Bhjke0I4m92+m1QB3j3atPbIqYR1vI8\\n5PsIwdaSnJejTTBLMA4GA1UdDwEB/wQEAwIHgDAMBgNVHRMBAf8EAjAAMCsGA1Ud\\nIwQkMCKAIGusYBVmN4/Nm4PGi5aZDUGttRUyZA3rDoT4POwdWJfSMAoGCCqGSM49\\nBAMCA0cAMEQCIDzfPy6MtrloRm00mm0dXJijLRtqu74TMCdiIz9/PsfHAiBXgK3U\\nKSPOmE1wKHkwr/SUyDPStCXkV5uO9ObjK9bbLA==\\n-----END CERTIFICATE-----\\n'},\n",
       "            'signature': b\"0E\\x02!\\x00\\xd3\\xc7\\x92l'\\xaf[\\xe5g:\\x04\\xad[\\x1b-\\x8d\\x86R0\\x8d\\xdb\\xab\\x00n\\x85\\xda\\xaf#\\xbb\\xd0h\\xbb\\x02 pF\\r\\xbfc{\\xc4\\x88M\\xeb\\xca\\xb4\\xd9\\xa2cB\\x947\\xd1\\xc5\\x83\\xd2z\\x0fC\\xeb\\x04\\x15CX\\xa9t\"}]}}}]}}}]},\n",
       " 'metadata': {'metadata': [{'value': b'\\n\\x00',\n",
       "    'signatures': [{'signature_header': {'creator': {'mspid': 'OrdererMSP',\n",
       "        'id_bytes': '-----BEGIN CERTIFICATE-----\\nMIICCzCCAbKgAwIBAgIQNVxr4VrGwMVvSTn8uShQVDAKBggqhkjOPQQDAjBpMQsw\\nCQYDVQQGEwJVUzETMBEGA1UECBMKQ2FsaWZvcm5pYTEWMBQGA1UEBxMNU2FuIEZy\\nYW5jaXNjbzEUMBIGA1UEChMLZXhhbXBsZS5jb20xFzAVBgNVBAMTDmNhLmV4YW1w\\nbGUuY29tMB4XDTE4MTAxOTAzNDgwMFoXDTI4MTAxNjAzNDgwMFowWDELMAkGA1UE\\nBhMCVVMxEzARBgNVBAgTCkNhbGlmb3JuaWExFjAUBgNVBAcTDVNhbiBGcmFuY2lz\\nY28xHDAaBgNVBAMTE29yZGVyZXIuZXhhbXBsZS5jb20wWTATBgcqhkjOPQIBBggq\\nhkjOPQMBBwNCAAQpmHWARFc50s+xSX/ONlf1t66zrl44kiMspxlFVwh6e4ymP3dI\\n5G/89XFn0rw2+eLGwBHd21zqoVNnLIQYqsrWo00wSzAOBgNVHQ8BAf8EBAMCB4Aw\\nDAYDVR0TAQH/BAIwADArBgNVHSMEJDAigCCqjI6KYJLmw+dqXSQLHVygChI2ea9l\\nx/fPkNmgPO6xyTAKBggqhkjOPQQDAgNHADBEAiA15DCiDNE7DH87UX/3KkzYSmUw\\nes14IMsYEfnsorp4zQIgFWYnYHiIjtyBm6zIEJTM7ZP4AEHlVHUsWi/n62/+q1k=\\n-----END CERTIFICATE-----\\n'},\n",
       "       'nonce': b'37b17e29a8748aba6f7c14e045dc9e14438a8febaff3cfaa'},\n",
       "      'signature': b'0E\\x02!\\x00\\xfe7\\xed\\xf7\\x97\\x17\\xbfI\\xd1\\x9a!\\xae\\xb8\\xc96C{!\\xfc\\xf1\\x0czXq\\x12n\\x08\\xd5\\x14\\x99!t\\x02 \\x7f\\xccd\\x1a\\x9e\\x1e@\"c\\x92z\\x1b\\r\\xf5\\xbes\\xc6?\\x10\\xf1eW>L\\x07\\xe4\\x06\\xf9*p\\xd8\\xc6'}]},\n",
       "   {'value': {'index': 0, 'signatures': []}},\n",
       "   [0]]}}"
      ]
     },
     "execution_count": 15,
     "metadata": {},
     "output_type": "execute_result"
    }
   ],
   "source": [
    "response = loop.run_until_complete(cli.query_block_by_hash(\n",
    "               requestor=org1_admin,\n",
    "               channel_name='assetchannel',\n",
    "               peers=['peer0.org1.example.com'],\n",
    "               block_hash=test_hash,\n",
    "               decode=True\n",
    "               ))\n",
    "response"
   ]
  },
  {
   "cell_type": "code",
   "execution_count": 16,
   "id": "85b849d9-e229-4017-a87a-aacbb257f9f9",
   "metadata": {},
   "outputs": [
    {
     "data": {
      "text/plain": [
       "'5d177d89cdd936d3e22e9ee7d6d6346fb796108287caacd4d25ac894209411d7'"
      ]
     },
     "execution_count": 16,
     "metadata": {},
     "output_type": "execute_result"
    }
   ],
   "source": [
    "tx_id = response.get('data').get('data')[0].get(\n",
    "    'payload').get('header').get(\n",
    "    'channel_header').get('tx_id')\n",
    "\n",
    "tx_id"
   ]
  },
  {
   "cell_type": "code",
   "execution_count": 17,
   "id": "77b94895-87a2-405c-b408-bb6621813f98",
   "metadata": {},
   "outputs": [
    {
     "name": "stderr",
     "output_type": "stream",
     "text": [
      "response status 200\n",
      "looking at block 2\n"
     ]
    },
    {
     "data": {
      "text/plain": [
       "{'header': {'number': 2,\n",
       "  'previous_hash': b'a80d510ea981ced98798e18ef8c850f7ae8c8ac1e91477141f2d263bb0646f97',\n",
       "  'data_hash': b'b2139b1f7c6b3a682dc7b8166ac9ce4f9086fc67ded82b28b94dd97250a9063e'},\n",
       " 'data': {'data': [{'signature': b'0E\\x02!\\x00\\xfb\\x87=\\x99\\xc9`\\xfc\\xe9\\xf8\\x18>\\x1c\\xbe\\xffi\\xce\\x105\\xc9\\xca\\xc1oRv\\xd7pE\\xbb\\xb7\\x94\\xb6\\xa0\\x02 kW\\x82@Z\\xaa\\xb0t\\xad\\xf1\\xb9L\\xc1nA\\xfb-\\xa2\\xfc\\xbaS\\x07E\\xf1R\\x8c\\x84\\x8c\\x99\\x8a\\x83\\x93',\n",
       "    'payload': {'header': {'channel_header': {'type': 3,\n",
       "       'version': 1,\n",
       "       'timestamp': '2021-09-12 06:05:11',\n",
       "       'channel_id': 'assetchannel',\n",
       "       'tx_id': '5d177d89cdd936d3e22e9ee7d6d6346fb796108287caacd4d25ac894209411d7',\n",
       "       'epoch': 0,\n",
       "       'extension': b'\\x12\\x06\\x12\\x04atcc',\n",
       "       'type_string': 'ENDORSER_TRANSACTION'},\n",
       "      'signature_header': {'creator': {'mspid': 'Org1MSP',\n",
       "        'id_bytes': '-----BEGIN CERTIFICATE-----\\nMIICKjCCAdCgAwIBAgIQEn3uLYlL4sXXQBS1/k8u7zAKBggqhkjOPQQDAjBzMQsw\\nCQYDVQQGEwJVUzETMBEGA1UECBMKQ2FsaWZvcm5pYTEWMBQGA1UEBxMNU2FuIEZy\\nYW5jaXNjbzEZMBcGA1UEChMQb3JnMS5leGFtcGxlLmNvbTEcMBoGA1UEAxMTY2Eu\\nb3JnMS5leGFtcGxlLmNvbTAeFw0xODEwMTkwMzQ4MDBaFw0yODEwMTYwMzQ4MDBa\\nMGwxCzAJBgNVBAYTAlVTMRMwEQYDVQQIEwpDYWxpZm9ybmlhMRYwFAYDVQQHEw1T\\nYW4gRnJhbmNpc2NvMQ8wDQYDVQQLEwZjbGllbnQxHzAdBgNVBAMMFkFkbWluQG9y\\nZzEuZXhhbXBsZS5jb20wWTATBgcqhkjOPQIBBggqhkjOPQMBBwNCAAR2zFPDBYIy\\njZSXaB15ILW9MRUYkSiksD6Io+VBbsJex2S7Do7lJhYfpyg5Z1LEHLCQgHH/VJ1F\\nMZmNHgIIHqWPo00wSzAOBgNVHQ8BAf8EBAMCB4AwDAYDVR0TAQH/BAIwADArBgNV\\nHSMEJDAigCBrrGAVZjePzZuDxouWmQ1BrbUVMmQN6w6E+DzsHViX0jAKBggqhkjO\\nPQQDAgNIADBFAiEA0FGz0YuvjPaKGy0h7+AUGJ+02O78VIIJx3wX1SL0ODMCIHSN\\nDX1FwttwXOkNiLBOi9sz04bOXz6ALO0xXtZCE4pi\\n-----END CERTIFICATE-----\\n'},\n",
       "       'nonce': b'63cf555de998f5a4803f11b80b8483dc9280e8991a3569a4'}},\n",
       "     'data': {'actions': [{'header': {'creator': {'mspid': 'Org1MSP',\n",
       "          'id_bytes': '-----BEGIN CERTIFICATE-----\\nMIICKjCCAdCgAwIBAgIQEn3uLYlL4sXXQBS1/k8u7zAKBggqhkjOPQQDAjBzMQsw\\nCQYDVQQGEwJVUzETMBEGA1UECBMKQ2FsaWZvcm5pYTEWMBQGA1UEBxMNU2FuIEZy\\nYW5jaXNjbzEZMBcGA1UEChMQb3JnMS5leGFtcGxlLmNvbTEcMBoGA1UEAxMTY2Eu\\nb3JnMS5leGFtcGxlLmNvbTAeFw0xODEwMTkwMzQ4MDBaFw0yODEwMTYwMzQ4MDBa\\nMGwxCzAJBgNVBAYTAlVTMRMwEQYDVQQIEwpDYWxpZm9ybmlhMRYwFAYDVQQHEw1T\\nYW4gRnJhbmNpc2NvMQ8wDQYDVQQLEwZjbGllbnQxHzAdBgNVBAMMFkFkbWluQG9y\\nZzEuZXhhbXBsZS5jb20wWTATBgcqhkjOPQIBBggqhkjOPQMBBwNCAAR2zFPDBYIy\\njZSXaB15ILW9MRUYkSiksD6Io+VBbsJex2S7Do7lJhYfpyg5Z1LEHLCQgHH/VJ1F\\nMZmNHgIIHqWPo00wSzAOBgNVHQ8BAf8EBAMCB4AwDAYDVR0TAQH/BAIwADArBgNV\\nHSMEJDAigCBrrGAVZjePzZuDxouWmQ1BrbUVMmQN6w6E+DzsHViX0jAKBggqhkjO\\nPQQDAgNIADBFAiEA0FGz0YuvjPaKGy0h7+AUGJ+02O78VIIJx3wX1SL0ODMCIHSN\\nDX1FwttwXOkNiLBOi9sz04bOXz6ALO0xXtZCE4pi\\n-----END CERTIFICATE-----\\n'},\n",
       "         'nonce': b'63cf555de998f5a4803f11b80b8483dc9280e8991a3569a4'},\n",
       "        'payload': {'chaincode_proposal_payload': {'input': b'\\n)\\x08\\x01\\x12\\x06\\x12\\x04atcc\\x1a\\x1d\\n\\rTransferAsset\\n\\x06asset2\\n\\x04ravi'},\n",
       "         'action': {'proposal_response_payload': {'proposal_hash': b'73d9688c1b83bf1aa123fe5659e01234b50c8550a2c55503b9872b6d02cd7ceb',\n",
       "           'extension': {'results': {'data_model': 0,\n",
       "             'ns_rwset': [{'namespace': 'atcc',\n",
       "               'rwset': {'reads': [{'key': 'asset2',\n",
       "                  'version': {'block_num': '1', 'tx_num': '0'}}],\n",
       "                'range_queries_info': [],\n",
       "                'writes': [{'key': 'asset2',\n",
       "                  'is_delete': False,\n",
       "                  'value': b'{\"ID\":\"asset2\",\"color\":\"red\",\"size\":5,\"owner\":\"ravi\",\"appraisedValue\":400}'}]}},\n",
       "              {'namespace': 'lscc',\n",
       "               'rwset': {'reads': [{'key': 'atcc',\n",
       "                  'version': {'block_num': '1', 'tx_num': '0'}}],\n",
       "                'range_queries_info': [],\n",
       "                'writes': []}}]},\n",
       "            'events': {'chaincode_id': '',\n",
       "             'tx_id': '',\n",
       "             'event_name': '',\n",
       "             'payload': b''},\n",
       "            'response': {'status': 200, 'message': '', 'payload': b''},\n",
       "            'chaincode_id': {'path': '', 'name': 'atcc', 'version': 'v1.0'}}},\n",
       "          'endorsements': [{'endorser': {'mspid': 'Org1MSP',\n",
       "             'id_bytes': '-----BEGIN CERTIFICATE-----\\nMIICKDCCAc+gAwIBAgIRAK5JdC2UorbI3GYUD7Z+I08wCgYIKoZIzj0EAwIwczEL\\nMAkGA1UEBhMCVVMxEzARBgNVBAgTCkNhbGlmb3JuaWExFjAUBgNVBAcTDVNhbiBG\\ncmFuY2lzY28xGTAXBgNVBAoTEG9yZzEuZXhhbXBsZS5jb20xHDAaBgNVBAMTE2Nh\\nLm9yZzEuZXhhbXBsZS5jb20wHhcNMTgxMDE5MDM0ODAwWhcNMjgxMDE2MDM0ODAw\\nWjBqMQswCQYDVQQGEwJVUzETMBEGA1UECBMKQ2FsaWZvcm5pYTEWMBQGA1UEBxMN\\nU2FuIEZyYW5jaXNjbzENMAsGA1UECxMEcGVlcjEfMB0GA1UEAxMWcGVlcjAub3Jn\\nMS5leGFtcGxlLmNvbTBZMBMGByqGSM49AgEGCCqGSM49AwEHA0IABF9ACNtWdD+C\\nj5hejCA9qvYEO1pbizsTZzpixLZO96Hv7Bhjke0I4m92+m1QB3j3atPbIqYR1vI8\\n5PsIwdaSnJejTTBLMA4GA1UdDwEB/wQEAwIHgDAMBgNVHRMBAf8EAjAAMCsGA1Ud\\nIwQkMCKAIGusYBVmN4/Nm4PGi5aZDUGttRUyZA3rDoT4POwdWJfSMAoGCCqGSM49\\nBAMCA0cAMEQCIDzfPy6MtrloRm00mm0dXJijLRtqu74TMCdiIz9/PsfHAiBXgK3U\\nKSPOmE1wKHkwr/SUyDPStCXkV5uO9ObjK9bbLA==\\n-----END CERTIFICATE-----\\n'},\n",
       "            'signature': b\"0E\\x02!\\x00\\xd3\\xc7\\x92l'\\xaf[\\xe5g:\\x04\\xad[\\x1b-\\x8d\\x86R0\\x8d\\xdb\\xab\\x00n\\x85\\xda\\xaf#\\xbb\\xd0h\\xbb\\x02 pF\\r\\xbfc{\\xc4\\x88M\\xeb\\xca\\xb4\\xd9\\xa2cB\\x947\\xd1\\xc5\\x83\\xd2z\\x0fC\\xeb\\x04\\x15CX\\xa9t\"}]}}}]}}}]},\n",
       " 'metadata': {'metadata': [{'value': b'\\n\\x00',\n",
       "    'signatures': [{'signature_header': {'creator': {'mspid': 'OrdererMSP',\n",
       "        'id_bytes': '-----BEGIN CERTIFICATE-----\\nMIICCzCCAbKgAwIBAgIQNVxr4VrGwMVvSTn8uShQVDAKBggqhkjOPQQDAjBpMQsw\\nCQYDVQQGEwJVUzETMBEGA1UECBMKQ2FsaWZvcm5pYTEWMBQGA1UEBxMNU2FuIEZy\\nYW5jaXNjbzEUMBIGA1UEChMLZXhhbXBsZS5jb20xFzAVBgNVBAMTDmNhLmV4YW1w\\nbGUuY29tMB4XDTE4MTAxOTAzNDgwMFoXDTI4MTAxNjAzNDgwMFowWDELMAkGA1UE\\nBhMCVVMxEzARBgNVBAgTCkNhbGlmb3JuaWExFjAUBgNVBAcTDVNhbiBGcmFuY2lz\\nY28xHDAaBgNVBAMTE29yZGVyZXIuZXhhbXBsZS5jb20wWTATBgcqhkjOPQIBBggq\\nhkjOPQMBBwNCAAQpmHWARFc50s+xSX/ONlf1t66zrl44kiMspxlFVwh6e4ymP3dI\\n5G/89XFn0rw2+eLGwBHd21zqoVNnLIQYqsrWo00wSzAOBgNVHQ8BAf8EBAMCB4Aw\\nDAYDVR0TAQH/BAIwADArBgNVHSMEJDAigCCqjI6KYJLmw+dqXSQLHVygChI2ea9l\\nx/fPkNmgPO6xyTAKBggqhkjOPQQDAgNHADBEAiA15DCiDNE7DH87UX/3KkzYSmUw\\nes14IMsYEfnsorp4zQIgFWYnYHiIjtyBm6zIEJTM7ZP4AEHlVHUsWi/n62/+q1k=\\n-----END CERTIFICATE-----\\n'},\n",
       "       'nonce': b'37b17e29a8748aba6f7c14e045dc9e14438a8febaff3cfaa'},\n",
       "      'signature': b'0E\\x02!\\x00\\xfe7\\xed\\xf7\\x97\\x17\\xbfI\\xd1\\x9a!\\xae\\xb8\\xc96C{!\\xfc\\xf1\\x0czXq\\x12n\\x08\\xd5\\x14\\x99!t\\x02 \\x7f\\xccd\\x1a\\x9e\\x1e@\"c\\x92z\\x1b\\r\\xf5\\xbes\\xc6?\\x10\\xf1eW>L\\x07\\xe4\\x06\\xf9*p\\xd8\\xc6'}]},\n",
       "   {'value': {'index': 0, 'signatures': []}},\n",
       "   [0]]}}"
      ]
     },
     "execution_count": 17,
     "metadata": {},
     "output_type": "execute_result"
    }
   ],
   "source": [
    "response = loop.run_until_complete(cli.query_block_by_txid(\n",
    "               requestor=org1_admin,\n",
    "               channel_name='assetchannel',\n",
    "               peers=['peer0.org1.example.com'],\n",
    "               tx_id=tx_id,\n",
    "               decode=True\n",
    "               ))\n",
    "\n",
    "response"
   ]
  },
  {
   "cell_type": "code",
   "execution_count": 13,
   "id": "882a41f2-e783-4f86-bfe2-d66812f9b0db",
   "metadata": {
    "tags": []
   },
   "outputs": [
    {
     "name": "stderr",
     "output_type": "stream",
     "text": [
      "response status 200\n",
      "looking at block 4\n"
     ]
    },
    {
     "data": {
      "text/plain": [
       "{'header': {'number': 4,\n",
       "  'previous_hash': b'8dbb9bca5e08d8761a0734a43fef97e9c5132847a82f778f01a024e64253ec63',\n",
       "  'data_hash': b'a5d0e834effb60d98a181d4d721079b253ed3769cdf91f4067dc2bfe125e437e'},\n",
       " 'data': {'data': [{'signature': b'0E\\x02!\\x00\\xecv)m\\xd4\\x96\\xc6|!G\\xa2\\xceJSr)\\xde\\x83 \\x86-\\x89\\xbb\\xa8|\\x1a\\xbfrJ\\xdc\\x1c\\x82\\x02 :\\xff\\x7f\\xfee\\x86VD\\xbd\\x03\\x18\\xc0\\xa8\\xbc6\\x92\\xb0\\x94\\x1e\\x07\\x1f\\xc4\\x06\\xe4R\\xbaC\\xa1\\x0b\\xd0\\x96\\xe4',\n",
       "    'payload': {'header': {'channel_header': {'type': 3,\n",
       "       'version': 1,\n",
       "       'timestamp': '2021-09-12 06:28:54',\n",
       "       'channel_id': 'assetchannel',\n",
       "       'tx_id': '20b70410fc270f43e873fd8427d67499b3e1b28aa2b9a61094c8d739bb13f0be',\n",
       "       'epoch': 0,\n",
       "       'extension': b'\\x12\\x06\\x12\\x04atcc',\n",
       "       'type_string': 'ENDORSER_TRANSACTION'},\n",
       "      'signature_header': {'creator': {'mspid': 'Org1MSP',\n",
       "        'id_bytes': '-----BEGIN CERTIFICATE-----\\nMIICKjCCAdCgAwIBAgIQEn3uLYlL4sXXQBS1/k8u7zAKBggqhkjOPQQDAjBzMQsw\\nCQYDVQQGEwJVUzETMBEGA1UECBMKQ2FsaWZvcm5pYTEWMBQGA1UEBxMNU2FuIEZy\\nYW5jaXNjbzEZMBcGA1UEChMQb3JnMS5leGFtcGxlLmNvbTEcMBoGA1UEAxMTY2Eu\\nb3JnMS5leGFtcGxlLmNvbTAeFw0xODEwMTkwMzQ4MDBaFw0yODEwMTYwMzQ4MDBa\\nMGwxCzAJBgNVBAYTAlVTMRMwEQYDVQQIEwpDYWxpZm9ybmlhMRYwFAYDVQQHEw1T\\nYW4gRnJhbmNpc2NvMQ8wDQYDVQQLEwZjbGllbnQxHzAdBgNVBAMMFkFkbWluQG9y\\nZzEuZXhhbXBsZS5jb20wWTATBgcqhkjOPQIBBggqhkjOPQMBBwNCAAR2zFPDBYIy\\njZSXaB15ILW9MRUYkSiksD6Io+VBbsJex2S7Do7lJhYfpyg5Z1LEHLCQgHH/VJ1F\\nMZmNHgIIHqWPo00wSzAOBgNVHQ8BAf8EBAMCB4AwDAYDVR0TAQH/BAIwADArBgNV\\nHSMEJDAigCBrrGAVZjePzZuDxouWmQ1BrbUVMmQN6w6E+DzsHViX0jAKBggqhkjO\\nPQQDAgNIADBFAiEA0FGz0YuvjPaKGy0h7+AUGJ+02O78VIIJx3wX1SL0ODMCIHSN\\nDX1FwttwXOkNiLBOi9sz04bOXz6ALO0xXtZCE4pi\\n-----END CERTIFICATE-----\\n'},\n",
       "       'nonce': b'00294134c20f33cffd16caacc1f23a5ebe0b8daa59614237'}},\n",
       "     'data': {'actions': [{'header': {'creator': {'mspid': 'Org1MSP',\n",
       "          'id_bytes': '-----BEGIN CERTIFICATE-----\\nMIICKjCCAdCgAwIBAgIQEn3uLYlL4sXXQBS1/k8u7zAKBggqhkjOPQQDAjBzMQsw\\nCQYDVQQGEwJVUzETMBEGA1UECBMKQ2FsaWZvcm5pYTEWMBQGA1UEBxMNU2FuIEZy\\nYW5jaXNjbzEZMBcGA1UEChMQb3JnMS5leGFtcGxlLmNvbTEcMBoGA1UEAxMTY2Eu\\nb3JnMS5leGFtcGxlLmNvbTAeFw0xODEwMTkwMzQ4MDBaFw0yODEwMTYwMzQ4MDBa\\nMGwxCzAJBgNVBAYTAlVTMRMwEQYDVQQIEwpDYWxpZm9ybmlhMRYwFAYDVQQHEw1T\\nYW4gRnJhbmNpc2NvMQ8wDQYDVQQLEwZjbGllbnQxHzAdBgNVBAMMFkFkbWluQG9y\\nZzEuZXhhbXBsZS5jb20wWTATBgcqhkjOPQIBBggqhkjOPQMBBwNCAAR2zFPDBYIy\\njZSXaB15ILW9MRUYkSiksD6Io+VBbsJex2S7Do7lJhYfpyg5Z1LEHLCQgHH/VJ1F\\nMZmNHgIIHqWPo00wSzAOBgNVHQ8BAf8EBAMCB4AwDAYDVR0TAQH/BAIwADArBgNV\\nHSMEJDAigCBrrGAVZjePzZuDxouWmQ1BrbUVMmQN6w6E+DzsHViX0jAKBggqhkjO\\nPQQDAgNIADBFAiEA0FGz0YuvjPaKGy0h7+AUGJ+02O78VIIJx3wX1SL0ODMCIHSN\\nDX1FwttwXOkNiLBOi9sz04bOXz6ALO0xXtZCE4pi\\n-----END CERTIFICATE-----\\n'},\n",
       "         'nonce': b'00294134c20f33cffd16caacc1f23a5ebe0b8daa59614237'},\n",
       "        'payload': {'chaincode_proposal_payload': {'input': b'\\n\"\\x08\\x01\\x12\\x06\\x12\\x04atcc\\x1a\\x16\\n\\x0bDeleteAsset\\n\\x07asset22'},\n",
       "         'action': {'proposal_response_payload': {'proposal_hash': b'6843f6c8dadec71b83315576cf912dbe86bdbbe2d98521cca4da9d5de38a62d6',\n",
       "           'extension': {'results': {'data_model': 0,\n",
       "             'ns_rwset': [{'namespace': 'atcc',\n",
       "               'rwset': {'reads': [{'key': 'asset22',\n",
       "                  'version': {'block_num': '3', 'tx_num': '0'}}],\n",
       "                'range_queries_info': [],\n",
       "                'writes': [{'key': 'asset22',\n",
       "                  'is_delete': True,\n",
       "                  'value': b''}]}},\n",
       "              {'namespace': 'lscc',\n",
       "               'rwset': {'reads': [{'key': 'atcc',\n",
       "                  'version': {'block_num': '1', 'tx_num': '0'}}],\n",
       "                'range_queries_info': [],\n",
       "                'writes': []}}]},\n",
       "            'events': {'chaincode_id': '',\n",
       "             'tx_id': '',\n",
       "             'event_name': '',\n",
       "             'payload': b''},\n",
       "            'response': {'status': 200, 'message': '', 'payload': b''},\n",
       "            'chaincode_id': {'path': '', 'name': 'atcc', 'version': 'v1.0'}}},\n",
       "          'endorsements': [{'endorser': {'mspid': 'Org1MSP',\n",
       "             'id_bytes': '-----BEGIN CERTIFICATE-----\\nMIICKDCCAc+gAwIBAgIRAK5JdC2UorbI3GYUD7Z+I08wCgYIKoZIzj0EAwIwczEL\\nMAkGA1UEBhMCVVMxEzARBgNVBAgTCkNhbGlmb3JuaWExFjAUBgNVBAcTDVNhbiBG\\ncmFuY2lzY28xGTAXBgNVBAoTEG9yZzEuZXhhbXBsZS5jb20xHDAaBgNVBAMTE2Nh\\nLm9yZzEuZXhhbXBsZS5jb20wHhcNMTgxMDE5MDM0ODAwWhcNMjgxMDE2MDM0ODAw\\nWjBqMQswCQYDVQQGEwJVUzETMBEGA1UECBMKQ2FsaWZvcm5pYTEWMBQGA1UEBxMN\\nU2FuIEZyYW5jaXNjbzENMAsGA1UECxMEcGVlcjEfMB0GA1UEAxMWcGVlcjAub3Jn\\nMS5leGFtcGxlLmNvbTBZMBMGByqGSM49AgEGCCqGSM49AwEHA0IABF9ACNtWdD+C\\nj5hejCA9qvYEO1pbizsTZzpixLZO96Hv7Bhjke0I4m92+m1QB3j3atPbIqYR1vI8\\n5PsIwdaSnJejTTBLMA4GA1UdDwEB/wQEAwIHgDAMBgNVHRMBAf8EAjAAMCsGA1Ud\\nIwQkMCKAIGusYBVmN4/Nm4PGi5aZDUGttRUyZA3rDoT4POwdWJfSMAoGCCqGSM49\\nBAMCA0cAMEQCIDzfPy6MtrloRm00mm0dXJijLRtqu74TMCdiIz9/PsfHAiBXgK3U\\nKSPOmE1wKHkwr/SUyDPStCXkV5uO9ObjK9bbLA==\\n-----END CERTIFICATE-----\\n'},\n",
       "            'signature': b'0E\\x02!\\x00\\xe3d\\x050[\\xd2\\xc4\\x9e\\x90\\x9e\\x95\\xf1\\xce\\xbef\\xf7\\xb51d\\xb8\\xcb\\xe0O\\x1d:\\x948\\x19\\xf3zQ\\xda\\x02 D\\xc3\\xfe\\xfe\\xb2\\xe4\\xb5H\\xc7\\xdde\\xe4\\x87\\xaa9\\x18\\xa2\\x95\\xd2\\x95\\xfbl\\x99!\\x0e.V]\\xcc\\xc8\\x93\\xb9'}]}}}]}}}]},\n",
       " 'metadata': {'metadata': [{'value': b'\\n\\x00',\n",
       "    'signatures': [{'signature_header': {'creator': {'mspid': 'OrdererMSP',\n",
       "        'id_bytes': '-----BEGIN CERTIFICATE-----\\nMIICCzCCAbKgAwIBAgIQNVxr4VrGwMVvSTn8uShQVDAKBggqhkjOPQQDAjBpMQsw\\nCQYDVQQGEwJVUzETMBEGA1UECBMKQ2FsaWZvcm5pYTEWMBQGA1UEBxMNU2FuIEZy\\nYW5jaXNjbzEUMBIGA1UEChMLZXhhbXBsZS5jb20xFzAVBgNVBAMTDmNhLmV4YW1w\\nbGUuY29tMB4XDTE4MTAxOTAzNDgwMFoXDTI4MTAxNjAzNDgwMFowWDELMAkGA1UE\\nBhMCVVMxEzARBgNVBAgTCkNhbGlmb3JuaWExFjAUBgNVBAcTDVNhbiBGcmFuY2lz\\nY28xHDAaBgNVBAMTE29yZGVyZXIuZXhhbXBsZS5jb20wWTATBgcqhkjOPQIBBggq\\nhkjOPQMBBwNCAAQpmHWARFc50s+xSX/ONlf1t66zrl44kiMspxlFVwh6e4ymP3dI\\n5G/89XFn0rw2+eLGwBHd21zqoVNnLIQYqsrWo00wSzAOBgNVHQ8BAf8EBAMCB4Aw\\nDAYDVR0TAQH/BAIwADArBgNVHSMEJDAigCCqjI6KYJLmw+dqXSQLHVygChI2ea9l\\nx/fPkNmgPO6xyTAKBggqhkjOPQQDAgNHADBEAiA15DCiDNE7DH87UX/3KkzYSmUw\\nes14IMsYEfnsorp4zQIgFWYnYHiIjtyBm6zIEJTM7ZP4AEHlVHUsWi/n62/+q1k=\\n-----END CERTIFICATE-----\\n'},\n",
       "       'nonce': b'a7fbaf2c216e2b2df61367c4080eec8d328cbf6aadf304d0'},\n",
       "      'signature': b'0D\\x02 ]\\xf9\\x0c\\xb2\\xe4\\xf3\\x0c\\xe0\\xc2\\xbe\\xf7P\\xf0\\xe45p\\x89~;\\xc6\\x84\\x0bH\\xb4G:N\\x8aSCoG\\x02 V\\xdb1\\x90T\\x1f\\xcdVY\\rO]\\x9b\\xf2\\x92\\xa4e\\xa20\\xdd\\xb1i\\x10\\xaa\\x11\\xce\\xf4\\x1a\\x190f8'}]},\n",
       "   {'value': {'index': 0, 'signatures': []}},\n",
       "   [0]]}}"
      ]
     },
     "execution_count": 13,
     "metadata": {},
     "output_type": "execute_result"
    }
   ],
   "source": [
    "response = loop.run_until_complete(cli.query_block(\n",
    "               requestor=org1_admin,\n",
    "               channel_name='assetchannel',\n",
    "               peers=['peer0.org1.example.com'],\n",
    "               block_number='4',\n",
    "               decode=True\n",
    "               ))\n",
    "\n",
    "response"
   ]
  },
  {
   "cell_type": "code",
   "execution_count": 16,
   "id": "3c228e84-4d80-4c59-ba30-11ee13345a21",
   "metadata": {},
   "outputs": [
    {
     "name": "stderr",
     "output_type": "stream",
     "text": [
      "response status 200\n",
      "looking at block 3\n"
     ]
    },
    {
     "data": {
      "text/plain": [
       "{'header': {'number': 3,\n",
       "  'previous_hash': b'd3f1d4f2ec74f767fcc14adc5455286241ab5d36bf29f9ad3d3ae50e10134850',\n",
       "  'data_hash': b'cbd1e852b6cbae26865ffdb6c55e0ac42f94ab9ddb3e6ce12b75ae87ecab238a'},\n",
       " 'data': {'data': [{'signature': b'0D\\x02 O8\\xd5\\xd4\\x16@\\x01\\x94\\xa3\\xcb0z1\\xbf\\x9dX\\xfe\\x00V\\xe9\\xe6gc\\xb6\\x93\\'i\\x80\\xc2\\xa3>\\x06\\x02 \\x13\\x04\"\\xd4\\xf3\\xe2\\xb1\\xed\\x03\\xa92\\xb7E\\xb6\\xfc\\xeb\\xa8S\\x99}t\\x04\\x8f\\xcaPoF\\x9a7s\\xb8\\x87',\n",
       "    'payload': {'header': {'channel_header': {'type': 3,\n",
       "       'version': 1,\n",
       "       'timestamp': '2021-09-12 06:26:55',\n",
       "       'channel_id': 'assetchannel',\n",
       "       'tx_id': '2fcf1b9ee48236f94677da5812895dee397f42e6e096b2e8eb8f82466ee8327b',\n",
       "       'epoch': 0,\n",
       "       'extension': b'\\x12\\x06\\x12\\x04atcc',\n",
       "       'type_string': 'ENDORSER_TRANSACTION'},\n",
       "      'signature_header': {'creator': {'mspid': 'Org1MSP',\n",
       "        'id_bytes': '-----BEGIN CERTIFICATE-----\\nMIICKjCCAdCgAwIBAgIQEn3uLYlL4sXXQBS1/k8u7zAKBggqhkjOPQQDAjBzMQsw\\nCQYDVQQGEwJVUzETMBEGA1UECBMKQ2FsaWZvcm5pYTEWMBQGA1UEBxMNU2FuIEZy\\nYW5jaXNjbzEZMBcGA1UEChMQb3JnMS5leGFtcGxlLmNvbTEcMBoGA1UEAxMTY2Eu\\nb3JnMS5leGFtcGxlLmNvbTAeFw0xODEwMTkwMzQ4MDBaFw0yODEwMTYwMzQ4MDBa\\nMGwxCzAJBgNVBAYTAlVTMRMwEQYDVQQIEwpDYWxpZm9ybmlhMRYwFAYDVQQHEw1T\\nYW4gRnJhbmNpc2NvMQ8wDQYDVQQLEwZjbGllbnQxHzAdBgNVBAMMFkFkbWluQG9y\\nZzEuZXhhbXBsZS5jb20wWTATBgcqhkjOPQIBBggqhkjOPQMBBwNCAAR2zFPDBYIy\\njZSXaB15ILW9MRUYkSiksD6Io+VBbsJex2S7Do7lJhYfpyg5Z1LEHLCQgHH/VJ1F\\nMZmNHgIIHqWPo00wSzAOBgNVHQ8BAf8EBAMCB4AwDAYDVR0TAQH/BAIwADArBgNV\\nHSMEJDAigCBrrGAVZjePzZuDxouWmQ1BrbUVMmQN6w6E+DzsHViX0jAKBggqhkjO\\nPQQDAgNIADBFAiEA0FGz0YuvjPaKGy0h7+AUGJ+02O78VIIJx3wX1SL0ODMCIHSN\\nDX1FwttwXOkNiLBOi9sz04bOXz6ALO0xXtZCE4pi\\n-----END CERTIFICATE-----\\n'},\n",
       "       'nonce': b'78efcd96d4d37c7715e158dce5e1018bf468ede5e4a2b4b3'}},\n",
       "     'data': {'actions': [{'header': {'creator': {'mspid': 'Org1MSP',\n",
       "          'id_bytes': '-----BEGIN CERTIFICATE-----\\nMIICKjCCAdCgAwIBAgIQEn3uLYlL4sXXQBS1/k8u7zAKBggqhkjOPQQDAjBzMQsw\\nCQYDVQQGEwJVUzETMBEGA1UECBMKQ2FsaWZvcm5pYTEWMBQGA1UEBxMNU2FuIEZy\\nYW5jaXNjbzEZMBcGA1UEChMQb3JnMS5leGFtcGxlLmNvbTEcMBoGA1UEAxMTY2Eu\\nb3JnMS5leGFtcGxlLmNvbTAeFw0xODEwMTkwMzQ4MDBaFw0yODEwMTYwMzQ4MDBa\\nMGwxCzAJBgNVBAYTAlVTMRMwEQYDVQQIEwpDYWxpZm9ybmlhMRYwFAYDVQQHEw1T\\nYW4gRnJhbmNpc2NvMQ8wDQYDVQQLEwZjbGllbnQxHzAdBgNVBAMMFkFkbWluQG9y\\nZzEuZXhhbXBsZS5jb20wWTATBgcqhkjOPQIBBggqhkjOPQMBBwNCAAR2zFPDBYIy\\njZSXaB15ILW9MRUYkSiksD6Io+VBbsJex2S7Do7lJhYfpyg5Z1LEHLCQgHH/VJ1F\\nMZmNHgIIHqWPo00wSzAOBgNVHQ8BAf8EBAMCB4AwDAYDVR0TAQH/BAIwADArBgNV\\nHSMEJDAigCBrrGAVZjePzZuDxouWmQ1BrbUVMmQN6w6E+DzsHViX0jAKBggqhkjO\\nPQQDAgNIADBFAiEA0FGz0YuvjPaKGy0h7+AUGJ+02O78VIIJx3wX1SL0ODMCIHSN\\nDX1FwttwXOkNiLBOi9sz04bOXz6ALO0xXtZCE4pi\\n-----END CERTIFICATE-----\\n'},\n",
       "         'nonce': b'78efcd96d4d37c7715e158dce5e1018bf468ede5e4a2b4b3'},\n",
       "        'payload': {'chaincode_proposal_payload': {'input': b'\\n7\\x08\\x01\\x12\\x06\\x12\\x04atcc\\x1a+\\n\\x0bCreateAsset\\n\\x07asset22\\n\\x04pink\\n\\x0232\\n\\x04ravi\\n\\x03666'},\n",
       "         'action': {'proposal_response_payload': {'proposal_hash': b'51e1d479b30c73f135ca71981f31ccd79015c39a767532fd5fab858753840417',\n",
       "           'extension': {'results': {'data_model': 0,\n",
       "             'ns_rwset': [{'namespace': 'atcc',\n",
       "               'rwset': {'reads': [{'key': 'asset22',\n",
       "                  'version': {'block_num': '0', 'tx_num': '0'}}],\n",
       "                'range_queries_info': [],\n",
       "                'writes': [{'key': 'asset22',\n",
       "                  'is_delete': False,\n",
       "                  'value': b'{\"ID\":\"asset22\",\"color\":\"pink\",\"size\":32,\"owner\":\"ravi\",\"appraisedValue\":666}'}]}},\n",
       "              {'namespace': 'lscc',\n",
       "               'rwset': {'reads': [{'key': 'atcc',\n",
       "                  'version': {'block_num': '1', 'tx_num': '0'}}],\n",
       "                'range_queries_info': [],\n",
       "                'writes': []}}]},\n",
       "            'events': {'chaincode_id': '',\n",
       "             'tx_id': '',\n",
       "             'event_name': '',\n",
       "             'payload': b''},\n",
       "            'response': {'status': 200, 'message': '', 'payload': b''},\n",
       "            'chaincode_id': {'path': '', 'name': 'atcc', 'version': 'v1.0'}}},\n",
       "          'endorsements': [{'endorser': {'mspid': 'Org1MSP',\n",
       "             'id_bytes': '-----BEGIN CERTIFICATE-----\\nMIICKDCCAc+gAwIBAgIRAK5JdC2UorbI3GYUD7Z+I08wCgYIKoZIzj0EAwIwczEL\\nMAkGA1UEBhMCVVMxEzARBgNVBAgTCkNhbGlmb3JuaWExFjAUBgNVBAcTDVNhbiBG\\ncmFuY2lzY28xGTAXBgNVBAoTEG9yZzEuZXhhbXBsZS5jb20xHDAaBgNVBAMTE2Nh\\nLm9yZzEuZXhhbXBsZS5jb20wHhcNMTgxMDE5MDM0ODAwWhcNMjgxMDE2MDM0ODAw\\nWjBqMQswCQYDVQQGEwJVUzETMBEGA1UECBMKQ2FsaWZvcm5pYTEWMBQGA1UEBxMN\\nU2FuIEZyYW5jaXNjbzENMAsGA1UECxMEcGVlcjEfMB0GA1UEAxMWcGVlcjAub3Jn\\nMS5leGFtcGxlLmNvbTBZMBMGByqGSM49AgEGCCqGSM49AwEHA0IABF9ACNtWdD+C\\nj5hejCA9qvYEO1pbizsTZzpixLZO96Hv7Bhjke0I4m92+m1QB3j3atPbIqYR1vI8\\n5PsIwdaSnJejTTBLMA4GA1UdDwEB/wQEAwIHgDAMBgNVHRMBAf8EAjAAMCsGA1Ud\\nIwQkMCKAIGusYBVmN4/Nm4PGi5aZDUGttRUyZA3rDoT4POwdWJfSMAoGCCqGSM49\\nBAMCA0cAMEQCIDzfPy6MtrloRm00mm0dXJijLRtqu74TMCdiIz9/PsfHAiBXgK3U\\nKSPOmE1wKHkwr/SUyDPStCXkV5uO9ObjK9bbLA==\\n-----END CERTIFICATE-----\\n'},\n",
       "            'signature': b'0D\\x02 \\x11\\xb1\\xa8\\rr\\xcc\\x8d\\xf5\\x15M\\xd1\\x8c\\xe5\\xfda$.\\xc5nP\\x03\\x07\\xdfv@hr\\xff\\xe1\\xdc\\xc7\\x8c\\x02 Zi\\xbffx\\xc8\\xbf\\x15d24\\xa5\\x18\\xcc\\x0f\\x83M\\x15\\xe9R5Pf\\xaa-\\xf5\\xc4=T\\xb0pw'}]}}}]}}}]},\n",
       " 'metadata': {'metadata': [{'value': b'\\n\\x00',\n",
       "    'signatures': [{'signature_header': {'creator': {'mspid': 'OrdererMSP',\n",
       "        'id_bytes': '-----BEGIN CERTIFICATE-----\\nMIICCzCCAbKgAwIBAgIQNVxr4VrGwMVvSTn8uShQVDAKBggqhkjOPQQDAjBpMQsw\\nCQYDVQQGEwJVUzETMBEGA1UECBMKQ2FsaWZvcm5pYTEWMBQGA1UEBxMNU2FuIEZy\\nYW5jaXNjbzEUMBIGA1UEChMLZXhhbXBsZS5jb20xFzAVBgNVBAMTDmNhLmV4YW1w\\nbGUuY29tMB4XDTE4MTAxOTAzNDgwMFoXDTI4MTAxNjAzNDgwMFowWDELMAkGA1UE\\nBhMCVVMxEzARBgNVBAgTCkNhbGlmb3JuaWExFjAUBgNVBAcTDVNhbiBGcmFuY2lz\\nY28xHDAaBgNVBAMTE29yZGVyZXIuZXhhbXBsZS5jb20wWTATBgcqhkjOPQIBBggq\\nhkjOPQMBBwNCAAQpmHWARFc50s+xSX/ONlf1t66zrl44kiMspxlFVwh6e4ymP3dI\\n5G/89XFn0rw2+eLGwBHd21zqoVNnLIQYqsrWo00wSzAOBgNVHQ8BAf8EBAMCB4Aw\\nDAYDVR0TAQH/BAIwADArBgNVHSMEJDAigCCqjI6KYJLmw+dqXSQLHVygChI2ea9l\\nx/fPkNmgPO6xyTAKBggqhkjOPQQDAgNHADBEAiA15DCiDNE7DH87UX/3KkzYSmUw\\nes14IMsYEfnsorp4zQIgFWYnYHiIjtyBm6zIEJTM7ZP4AEHlVHUsWi/n62/+q1k=\\n-----END CERTIFICATE-----\\n'},\n",
       "       'nonce': b'da3a4941a0d64732edf44dfe98fd0cd9d112f5544c64adbb'},\n",
       "      'signature': b'0E\\x02!\\x00\\xe5\\xd3\\x06\\x9bg\\x8ayS\\xdf::+<\\xa3d\\xd0\\xb993\\x10\\x85\\xe3}\\xfc`4\\x84\\xfc-0;\\x97\\x02 Fj\\x97\\x96\\xcc\\x87\\xe5\\xa9Or\\x99\\xcb+;f\\xce\\x1f6S\\xc50\\xf4,&5.\\xb6\\xc1r\\xa3\\xdc\\x9b'}]},\n",
       "   {'value': {'index': 0, 'signatures': []}},\n",
       "   [0]]}}"
      ]
     },
     "execution_count": 16,
     "metadata": {},
     "output_type": "execute_result"
    }
   ],
   "source": [
    "response = loop.run_until_complete(cli.query_block(\n",
    "               requestor=org1_admin,\n",
    "               channel_name='assetchannel',\n",
    "               peers=['peer0.org1.example.com'],\n",
    "               block_number='3',\n",
    "               decode=True\n",
    "               ))\n",
    "\n",
    "response"
   ]
  },
  {
   "cell_type": "code",
   "execution_count": null,
   "id": "a15f8dff-faf4-4edc-afac-15b8336a06bd",
   "metadata": {},
   "outputs": [],
   "source": []
  }
 ],
 "metadata": {
  "kernelspec": {
   "display_name": "Python 3",
   "language": "python",
   "name": "python3"
  },
  "language_info": {
   "codemirror_mode": {
    "name": "ipython",
    "version": 3
   },
   "file_extension": ".py",
   "mimetype": "text/x-python",
   "name": "python",
   "nbconvert_exporter": "python",
   "pygments_lexer": "ipython3",
   "version": "3.8.8"
  }
 },
 "nbformat": 4,
 "nbformat_minor": 5
}

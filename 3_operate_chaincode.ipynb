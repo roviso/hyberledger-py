{
 "cells": [
  {
   "cell_type": "code",
   "execution_count": 1,
   "id": "4e26eccf-c530-4cab-97bb-de2d89e68832",
   "metadata": {},
   "outputs": [],
   "source": [
    "import asyncio\n",
    "from hfc.fabric import Client\n",
    "import nest_asyncio\n",
    "nest_asyncio.apply()"
   ]
  },
  {
   "cell_type": "code",
   "execution_count": 2,
   "id": "68f7e894-ecd5-4050-818b-308e16833b3c",
   "metadata": {},
   "outputs": [
    {
     "name": "stderr",
     "output_type": "stream",
     "text": [
      "Init client with profile=test/fixtures/network.json\n",
      "create org with name=orderer.example.com\n",
      "create org with name=org1.example.com\n",
      "create org with name=org2.example.com\n",
      "create ca with name=ca-org1\n",
      "create ca with name=ca-org2\n",
      "Import orderers = dict_keys(['orderer.example.com'])\n",
      "Import peers = dict_keys(['peer0.org1.example.com', 'peer1.org1.example.com', 'peer0.org2.example.com', 'peer1.org2.example.com'])\n"
     ]
    }
   ],
   "source": [
    "loop = asyncio.get_event_loop()\n",
    "\n",
    "cli = Client(net_profile=\"test/fixtures/network.json\")\n",
    "org1_admin = cli.get_user('org1.example.com', 'Admin')"
   ]
  },
  {
   "cell_type": "code",
   "execution_count": 3,
   "id": "aacf2782-b2d8-4a39-95a8-ce04158c255d",
   "metadata": {},
   "outputs": [
    {
     "name": "stderr",
     "output_type": "stream",
     "text": [
      "New channel with name = assetchannel\n"
     ]
    },
    {
     "data": {
      "text/plain": [
       "<hfc.fabric.channel.channel.Channel at 0x7f71804bdcd0>"
      ]
     },
     "execution_count": 3,
     "metadata": {},
     "output_type": "execute_result"
    }
   ],
   "source": [
    "# Make the client know there is a channel in the network\n",
    "cli.new_channel('assetchannel')"
   ]
  },
  {
   "cell_type": "code",
   "execution_count": 4,
   "id": "8246ba1a-393d-4842-8b3c-efc8951e2c51",
   "metadata": {},
   "outputs": [],
   "source": [
    "# Install Example Chaincode to Peers\n",
    "# GOPATH setting is only needed to use the example chaincode inside sdk\n",
    "import os\n",
    "gopath_bak = os.environ.get('GOPATH', '')\n",
    "gopath = os.path.normpath(os.path.join(\n",
    "                      os.path.dirname(os.path.realpath('__file__')),\n",
    "                      'test/fixtures/chaincode'\n",
    "                     ))\n",
    "os.environ['GOPATH'] = os.path.abspath(gopath)\n",
    "# os.environ['GOPATH'] = os.path.abspath('/home/prixa-ml/go')"
   ]
  },
  {
   "cell_type": "code",
   "execution_count": 5,
   "id": "69529a8d-aeb5-4d05-ba36-d5bfd28aa4d1",
   "metadata": {},
   "outputs": [
    {
     "data": {
      "text/plain": [
       "[response {\n",
       "   status: 500\n",
       "   message: \"error installing chaincode code atcc:v1.0(chaincode /var/hyperledger/production/chaincodes/atcc.v1.0 exists)\"\n",
       " }\n",
       " payload: \"\\n \\377\\007\\346\\336\\346\\3603\\236\\317?\\220\\250\\000\\244-\\245\\237 L>ZH\\353eTs\\032\\017\\234\\313r\\362\\022{\\032q\\010\\364\\003\\022lerror installing chaincode code atcc:v1.0(chaincode /var/hyperledger/production/chaincodes/atcc.v1.0 exists)\\\"\\006\\022\\004lscc\",\n",
       " response {\n",
       "   status: 500\n",
       "   message: \"error installing chaincode code atcc:v1.0(chaincode /var/hyperledger/production/chaincodes/atcc.v1.0 exists)\"\n",
       " }\n",
       " payload: \"\\n \\377\\007\\346\\336\\346\\3603\\236\\317?\\220\\250\\000\\244-\\245\\237 L>ZH\\353eTs\\032\\017\\234\\313r\\362\\022{\\032q\\010\\364\\003\\022lerror installing chaincode code atcc:v1.0(chaincode /var/hyperledger/production/chaincodes/atcc.v1.0 exists)\\\"\\006\\022\\004lscc\"]"
      ]
     },
     "execution_count": 5,
     "metadata": {},
     "output_type": "execute_result"
    }
   ],
   "source": [
    "# The response should be true if succeed\n",
    "responses = loop.run_until_complete(cli.chaincode_install(\n",
    "               requestor=org1_admin,\n",
    "               peers=['peer0.org1.example.com',\n",
    "                      'peer1.org1.example.com'],\n",
    "               cc_path='github.com/atcc',\n",
    "               cc_name='atcc',\n",
    "               cc_version='v1.0'\n",
    "               ))\n",
    "\n",
    "responses"
   ]
  },
  {
   "cell_type": "code",
   "execution_count": 6,
   "id": "a78aa023-523d-46fd-b9a3-339e626df9e7",
   "metadata": {},
   "outputs": [],
   "source": [
    "# Instantiate Chaincode in Channel, the response should be true if succeed\n",
    "args = ['ksejfbglvikjierustgoiswe','machine-learning', 'ravi-pra', 'ravi@gmail.com']"
   ]
  },
  {
   "cell_type": "code",
   "execution_count": 7,
   "id": "8ec2736e-5fab-491e-97e7-fbc0b716329d",
   "metadata": {},
   "outputs": [],
   "source": [
    "policy = {\n",
    "    'identities': [\n",
    "        {'role': {'name': 'member', 'mspId': 'Org1MSP'}},\n",
    "    ],\n",
    "    'policy': {\n",
    "        '1-of': [\n",
    "            {'signed-by': 0},\n",
    "        ]\n",
    "    }\n",
    "}"
   ]
  },
  {
   "cell_type": "code",
   "execution_count": 8,
   "id": "5873fca5-b009-4b82-a2cb-1e5094c5fbb1",
   "metadata": {},
   "outputs": [
    {
     "name": "stdout",
     "output_type": "stream",
     "text": [
      "x is ------------>>> response {\n",
      "  status: 500\n",
      "  message: \"chaincode with name \\'atcc\\' already exists\"\n",
      "}\n",
      "payload: \"\\n \\213GK\\351\\225\\2740\\371]\\302\\244\\247\\345\\030\\376z\\0069\\303\\275\\252\\204&X\\205.\\n\\010:\\320\\226\\230\\022P\\n\\026\\022\\024\\n\\004lscc\\022\\014\\n\\n\\n\\004atcc\\022\\002\\010\\001\\032.\\010\\364\\003\\022)chaincode with name \\'atcc\\' already exists\\\"\\006\\022\\004lscc\"\n",
      "\n"
     ]
    },
    {
     "ename": "RuntimeError",
     "evalue": "chaincode with name 'atcc' already exists",
     "output_type": "error",
     "traceback": [
      "\u001b[0;31m---------------------------------------------------------------------------\u001b[0m",
      "\u001b[0;31mRuntimeError\u001b[0m                              Traceback (most recent call last)",
      "\u001b[0;32m<ipython-input-8-241706f28f89>\u001b[0m in \u001b[0;36m<module>\u001b[0;34m\u001b[0m\n\u001b[0;32m----> 1\u001b[0;31m response = loop.run_until_complete(cli.chaincode_instantiate(\n\u001b[0m\u001b[1;32m      2\u001b[0m                \u001b[0mrequestor\u001b[0m\u001b[0;34m=\u001b[0m\u001b[0morg1_admin\u001b[0m\u001b[0;34m,\u001b[0m\u001b[0;34m\u001b[0m\u001b[0;34m\u001b[0m\u001b[0m\n\u001b[1;32m      3\u001b[0m                \u001b[0mchannel_name\u001b[0m\u001b[0;34m=\u001b[0m\u001b[0;34m'assetchannel'\u001b[0m\u001b[0;34m,\u001b[0m\u001b[0;34m\u001b[0m\u001b[0;34m\u001b[0m\u001b[0m\n\u001b[1;32m      4\u001b[0m                \u001b[0mpeers\u001b[0m\u001b[0;34m=\u001b[0m\u001b[0;34m[\u001b[0m\u001b[0;34m'peer0.org1.example.com'\u001b[0m\u001b[0;34m]\u001b[0m\u001b[0;34m,\u001b[0m\u001b[0;34m\u001b[0m\u001b[0;34m\u001b[0m\u001b[0m\n\u001b[1;32m      5\u001b[0m                \u001b[0margs\u001b[0m\u001b[0;34m=\u001b[0m\u001b[0margs\u001b[0m\u001b[0;34m,\u001b[0m\u001b[0;34m\u001b[0m\u001b[0;34m\u001b[0m\u001b[0m\n",
      "\u001b[0;32m~/anaconda3/lib/python3.8/site-packages/nest_asyncio.py\u001b[0m in \u001b[0;36mrun_until_complete\u001b[0;34m(self, future)\u001b[0m\n\u001b[1;32m     68\u001b[0m                 raise RuntimeError(\n\u001b[1;32m     69\u001b[0m                     'Event loop stopped before Future completed.')\n\u001b[0;32m---> 70\u001b[0;31m             \u001b[0;32mreturn\u001b[0m \u001b[0mf\u001b[0m\u001b[0;34m.\u001b[0m\u001b[0mresult\u001b[0m\u001b[0;34m(\u001b[0m\u001b[0;34m)\u001b[0m\u001b[0;34m\u001b[0m\u001b[0;34m\u001b[0m\u001b[0m\n\u001b[0m\u001b[1;32m     71\u001b[0m \u001b[0;34m\u001b[0m\u001b[0m\n\u001b[1;32m     72\u001b[0m     \u001b[0;32mdef\u001b[0m \u001b[0m_run_once\u001b[0m\u001b[0;34m(\u001b[0m\u001b[0mself\u001b[0m\u001b[0;34m)\u001b[0m\u001b[0;34m:\u001b[0m\u001b[0;34m\u001b[0m\u001b[0;34m\u001b[0m\u001b[0m\n",
      "\u001b[0;32m~/anaconda3/lib/python3.8/asyncio/futures.py\u001b[0m in \u001b[0;36mresult\u001b[0;34m(self)\u001b[0m\n\u001b[1;32m    176\u001b[0m         \u001b[0mself\u001b[0m\u001b[0;34m.\u001b[0m\u001b[0m__log_traceback\u001b[0m \u001b[0;34m=\u001b[0m \u001b[0;32mFalse\u001b[0m\u001b[0;34m\u001b[0m\u001b[0;34m\u001b[0m\u001b[0m\n\u001b[1;32m    177\u001b[0m         \u001b[0;32mif\u001b[0m \u001b[0mself\u001b[0m\u001b[0;34m.\u001b[0m\u001b[0m_exception\u001b[0m \u001b[0;32mis\u001b[0m \u001b[0;32mnot\u001b[0m \u001b[0;32mNone\u001b[0m\u001b[0;34m:\u001b[0m\u001b[0;34m\u001b[0m\u001b[0;34m\u001b[0m\u001b[0m\n\u001b[0;32m--> 178\u001b[0;31m             \u001b[0;32mraise\u001b[0m \u001b[0mself\u001b[0m\u001b[0;34m.\u001b[0m\u001b[0m_exception\u001b[0m\u001b[0;34m\u001b[0m\u001b[0;34m\u001b[0m\u001b[0m\n\u001b[0m\u001b[1;32m    179\u001b[0m         \u001b[0;32mreturn\u001b[0m \u001b[0mself\u001b[0m\u001b[0;34m.\u001b[0m\u001b[0m_result\u001b[0m\u001b[0;34m\u001b[0m\u001b[0;34m\u001b[0m\u001b[0m\n\u001b[1;32m    180\u001b[0m \u001b[0;34m\u001b[0m\u001b[0m\n",
      "\u001b[0;32m~/anaconda3/lib/python3.8/asyncio/tasks.py\u001b[0m in \u001b[0;36m__step\u001b[0;34m(***failed resolving arguments***)\u001b[0m\n\u001b[1;32m    278\u001b[0m                 \u001b[0;31m# We use the `send` method directly, because coroutines\u001b[0m\u001b[0;34m\u001b[0m\u001b[0;34m\u001b[0m\u001b[0;34m\u001b[0m\u001b[0m\n\u001b[1;32m    279\u001b[0m                 \u001b[0;31m# don't have `__iter__` and `__next__` methods.\u001b[0m\u001b[0;34m\u001b[0m\u001b[0;34m\u001b[0m\u001b[0;34m\u001b[0m\u001b[0m\n\u001b[0;32m--> 280\u001b[0;31m                 \u001b[0mresult\u001b[0m \u001b[0;34m=\u001b[0m \u001b[0mcoro\u001b[0m\u001b[0;34m.\u001b[0m\u001b[0msend\u001b[0m\u001b[0;34m(\u001b[0m\u001b[0;32mNone\u001b[0m\u001b[0;34m)\u001b[0m\u001b[0;34m\u001b[0m\u001b[0;34m\u001b[0m\u001b[0m\n\u001b[0m\u001b[1;32m    281\u001b[0m             \u001b[0;32melse\u001b[0m\u001b[0;34m:\u001b[0m\u001b[0;34m\u001b[0m\u001b[0;34m\u001b[0m\u001b[0m\n\u001b[1;32m    282\u001b[0m                 \u001b[0mresult\u001b[0m \u001b[0;34m=\u001b[0m \u001b[0mcoro\u001b[0m\u001b[0;34m.\u001b[0m\u001b[0mthrow\u001b[0m\u001b[0;34m(\u001b[0m\u001b[0mexc\u001b[0m\u001b[0;34m)\u001b[0m\u001b[0;34m\u001b[0m\u001b[0;34m\u001b[0m\u001b[0m\n",
      "\u001b[0;32m~/PycharmProjects/goProject/fabric-sdk-py/hfc/fabric/client.py\u001b[0m in \u001b[0;36mchaincode_instantiate\u001b[0;34m(self, requestor, channel_name, peers, args, cc_name, cc_version, cc_endorsement_policy, transient_map, collections_config, wait_for_event, wait_for_event_timeout, cc_type)\u001b[0m\n\u001b[1;32m   1204\u001b[0m         \"\"\"\n\u001b[1;32m   1205\u001b[0m         \u001b[0mchaincode\u001b[0m \u001b[0;34m=\u001b[0m \u001b[0mChaincode\u001b[0m\u001b[0;34m(\u001b[0m\u001b[0mself\u001b[0m\u001b[0;34m,\u001b[0m \u001b[0mcc_name\u001b[0m\u001b[0;34m)\u001b[0m\u001b[0;34m\u001b[0m\u001b[0;34m\u001b[0m\u001b[0m\n\u001b[0;32m-> 1206\u001b[0;31m         return await chaincode.instantiate(requestor, channel_name, peers,\n\u001b[0m\u001b[1;32m   1207\u001b[0m                                            \u001b[0mcc_version\u001b[0m\u001b[0;34m,\u001b[0m\u001b[0;34m\u001b[0m\u001b[0;34m\u001b[0m\u001b[0m\n\u001b[1;32m   1208\u001b[0m                                            \u001b[0mcc_endorsement_policy\u001b[0m\u001b[0;34m=\u001b[0m\u001b[0mcc_endorsement_policy\u001b[0m\u001b[0;34m,\u001b[0m\u001b[0;34m\u001b[0m\u001b[0;34m\u001b[0m\u001b[0m\n",
      "\u001b[0;32m~/PycharmProjects/goProject/fabric-sdk-py/hfc/fabric/chaincode.py\u001b[0m in \u001b[0;36minstantiate\u001b[0;34m(self, requestor, channel_name, peers, cc_version, cc_endorsement_policy, args, transient_map, collections_config, wait_for_event, wait_for_event_timeout, cc_type)\u001b[0m\n\u001b[1;32m    124\u001b[0m         \u001b[0;34m:\u001b[0m\u001b[0;32mreturn\u001b[0m\u001b[0;34m:\u001b[0m \u001b[0mchaincode\u001b[0m \u001b[0mdata\u001b[0m \u001b[0mpayload\u001b[0m\u001b[0;34m\u001b[0m\u001b[0;34m\u001b[0m\u001b[0m\n\u001b[1;32m    125\u001b[0m         \"\"\"\n\u001b[0;32m--> 126\u001b[0;31m         return await self._instantiate_or_upgrade(CC_INSTANTIATE, requestor, channel_name, peers,\n\u001b[0m\u001b[1;32m    127\u001b[0m                                                   \u001b[0mcc_version\u001b[0m\u001b[0;34m,\u001b[0m\u001b[0;34m\u001b[0m\u001b[0;34m\u001b[0m\u001b[0m\n\u001b[1;32m    128\u001b[0m                                                   \u001b[0mcc_endorsement_policy\u001b[0m\u001b[0;34m=\u001b[0m\u001b[0mcc_endorsement_policy\u001b[0m\u001b[0;34m,\u001b[0m\u001b[0;34m\u001b[0m\u001b[0;34m\u001b[0m\u001b[0m\n",
      "\u001b[0;32m~/PycharmProjects/goProject/fabric-sdk-py/hfc/fabric/chaincode.py\u001b[0m in \u001b[0;36m_instantiate_or_upgrade\u001b[0;34m(self, operation_name, requestor, channel_name, peers, cc_version, cc_endorsement_policy, fcn, args, transient_map, collections_config, wait_for_event, wait_for_event_timeout, cc_type)\u001b[0m\n\u001b[1;32m    241\u001b[0m             \u001b[0mprint\u001b[0m\u001b[0;34m(\u001b[0m\u001b[0;34mf\"x is ------------>>> {x}\"\u001b[0m\u001b[0;34m)\u001b[0m\u001b[0;34m\u001b[0m\u001b[0;34m\u001b[0m\u001b[0m\n\u001b[1;32m    242\u001b[0m         \u001b[0;32mif\u001b[0m \u001b[0;32mnot\u001b[0m \u001b[0mall\u001b[0m\u001b[0;34m(\u001b[0m\u001b[0;34m[\u001b[0m\u001b[0mx\u001b[0m\u001b[0;34m.\u001b[0m\u001b[0mresponse\u001b[0m\u001b[0;34m.\u001b[0m\u001b[0mstatus\u001b[0m \u001b[0;34m==\u001b[0m \u001b[0mSUCCESS_STATUS\u001b[0m \u001b[0;32mfor\u001b[0m \u001b[0mx\u001b[0m \u001b[0;32min\u001b[0m \u001b[0mres\u001b[0m\u001b[0;34m]\u001b[0m\u001b[0;34m)\u001b[0m\u001b[0;34m:\u001b[0m\u001b[0;34m\u001b[0m\u001b[0;34m\u001b[0m\u001b[0m\n\u001b[0;32m--> 243\u001b[0;31m             \u001b[0;32mraise\u001b[0m \u001b[0mRuntimeError\u001b[0m\u001b[0;34m(\u001b[0m\u001b[0mres\u001b[0m\u001b[0;34m[\u001b[0m\u001b[0;36m0\u001b[0m\u001b[0;34m]\u001b[0m\u001b[0;34m.\u001b[0m\u001b[0mresponse\u001b[0m\u001b[0;34m.\u001b[0m\u001b[0mmessage\u001b[0m\u001b[0;34m)\u001b[0m\u001b[0;34m\u001b[0m\u001b[0;34m\u001b[0m\u001b[0m\n\u001b[0m\u001b[1;32m    244\u001b[0m \u001b[0;34m\u001b[0m\u001b[0m\n\u001b[1;32m    245\u001b[0m         \u001b[0mtran_req\u001b[0m \u001b[0;34m=\u001b[0m \u001b[0mutils\u001b[0m\u001b[0;34m.\u001b[0m\u001b[0mbuild_tx_req\u001b[0m\u001b[0;34m(\u001b[0m\u001b[0;34m(\u001b[0m\u001b[0mres\u001b[0m\u001b[0;34m,\u001b[0m \u001b[0mproposal\u001b[0m\u001b[0;34m,\u001b[0m \u001b[0mheader\u001b[0m\u001b[0;34m)\u001b[0m\u001b[0;34m)\u001b[0m\u001b[0;34m\u001b[0m\u001b[0;34m\u001b[0m\u001b[0m\n",
      "\u001b[0;31mRuntimeError\u001b[0m: chaincode with name 'atcc' already exists"
     ]
    }
   ],
   "source": [
    "response = loop.run_until_complete(cli.chaincode_instantiate(\n",
    "               requestor=org1_admin,\n",
    "               channel_name='assetchannel',\n",
    "               peers=['peer0.org1.example.com'],\n",
    "               args=args,\n",
    "               cc_name='atcc',\n",
    "               cc_version='v1.0',\n",
    "               cc_endorsement_policy=policy, # optional, but recommended\n",
    "               collections_config=None, # optional, for private data policy\n",
    "               transient_map=None, # optional, for private data\n",
    "               wait_for_event=True # optional, for being sure chaincode is instantiated\n",
    "               ))\n",
    "\n",
    "print(response)"
   ]
  },
  {
   "cell_type": "code",
   "execution_count": null,
   "id": "3baa14ee-84dc-4a24-96fc-981489ab4055",
   "metadata": {},
   "outputs": [],
   "source": [
    "response"
   ]
  },
  {
   "cell_type": "code",
   "execution_count": null,
   "id": "17927d8b-fb49-4c9c-a35a-6ec94588d2db",
   "metadata": {},
   "outputs": [],
   "source": [
    "args = ['a', 'b', '100']\n",
    "# The response should be true if succeed\n",
    "response = loop.run_until_complete(cli.chaincode_invoke(\n",
    "               requestor=org1_admin,\n",
    "               channel_name='assetchannel',\n",
    "               peers=['peer0.org1.example.com'],\n",
    "               args=args,\n",
    "               cc_name='atcc',\n",
    "               transient_map=None, # optional, for private data\n",
    "               wait_for_event=True, # for being sure chaincode invocation has been commited in the ledger, default is on tx event\n",
    "               #cc_pattern='^invoked*' # if you want to wait for chaincode event and you have a `stub.SetEvent(\"invoked\", value)` in your chaincode\n",
    "               ))\n"
   ]
  },
  {
   "cell_type": "code",
   "execution_count": null,
   "id": "19e99c20-47b7-4677-8c6b-0f5ccc31c4b1",
   "metadata": {},
   "outputs": [],
   "source": [
    "response"
   ]
  },
  {
   "cell_type": "code",
   "execution_count": 9,
   "id": "583ac977-99b0-4555-834e-4baa53ace239",
   "metadata": {},
   "outputs": [
    {
     "data": {
      "text/plain": [
       "'[{\"ID\":\"asset1\",\"color\":\"blue\",\"size\":5,\"owner\":\"Tomoko\",\"appraisedValue\":300},{\"ID\":\"asset2\",\"color\":\"red\",\"size\":5,\"owner\":\"Brad\",\"appraisedValue\":400},{\"ID\":\"asset3\",\"color\":\"green\",\"size\":10,\"owner\":\"Jin Soo\",\"appraisedValue\":500},{\"ID\":\"asset4\",\"color\":\"yellow\",\"size\":10,\"owner\":\"Max\",\"appraisedValue\":600},{\"ID\":\"asset5\",\"color\":\"black\",\"size\":15,\"owner\":\"Adriana\",\"appraisedValue\":700},{\"ID\":\"asset6\",\"color\":\"white\",\"size\":15,\"owner\":\"Michel\",\"appraisedValue\":800}]'"
      ]
     },
     "execution_count": 9,
     "metadata": {},
     "output_type": "execute_result"
    }
   ],
   "source": [
    "args = ['b']\n",
    "# The response should be true if succeed\n",
    "response = loop.run_until_complete(cli.chaincode_query(\n",
    "               requestor=org1_admin,\n",
    "               channel_name='assetchannel',\n",
    "               peers=['peer0.org1.example.com'],\n",
    "               args=args,\n",
    "               cc_name='atcc'\n",
    "               ))\n",
    "response"
   ]
  },
  {
   "cell_type": "code",
   "execution_count": 9,
   "id": "c76793df-5900-4e5d-aa13-f1dea704a086",
   "metadata": {},
   "outputs": [
    {
     "data": {
      "text/plain": [
       "'true'"
      ]
     },
     "execution_count": 9,
     "metadata": {},
     "output_type": "execute_result"
    }
   ],
   "source": [
    "response = loop.run_until_complete(cli.chaincode_assetexists(\n",
    "               requestor=org1_admin,\n",
    "               channel_name='assetchannel',\n",
    "               peers=['peer0.org1.example.com'],\n",
    "               args=['asset2'],\n",
    "               cc_name='atcc'\n",
    "               ))\n",
    "response"
   ]
  },
  {
   "cell_type": "code",
   "execution_count": 10,
   "id": "9b7c4df4-ba62-41d3-bcab-e5947029e498",
   "metadata": {},
   "outputs": [
    {
     "data": {
      "text/plain": [
       "'{\"ID\":\"asset4\",\"color\":\"yellow\",\"size\":10,\"owner\":\"Max\",\"appraisedValue\":600}'"
      ]
     },
     "execution_count": 10,
     "metadata": {},
     "output_type": "execute_result"
    }
   ],
   "source": [
    "response = loop.run_until_complete(cli.chaincode_readasset(\n",
    "               requestor=org1_admin,\n",
    "               channel_name='assetchannel',\n",
    "               peers=['peer0.org1.example.com'],\n",
    "               args=['asset4'],\n",
    "               cc_name='atcc'\n",
    "               ))\n",
    "response"
   ]
  },
  {
   "cell_type": "code",
   "execution_count": 11,
   "id": "ba282f23-3706-46fb-945b-3fe7c3ecef57",
   "metadata": {},
   "outputs": [
    {
     "name": "stdout",
     "output_type": "stream",
     "text": [
      "Deleting asset asset2...\n",
      "res is ------->> [version: 1\n",
      "response {\n",
      "  status: 200\n",
      "}\n",
      "payload: \"\\n m\\\\\\326Z\\265\\\\!\\001\\236Q\\372\\313\\364\\300\\247|\\223y\\200\\024\\234\\254r#\\\"\\202t\\026\\273E\\021\\317\\022O\\n:\\022\\\"\\n\\004atcc\\022\\032\\n\\014\\n\\006asset2\\022\\002\\010\\001\\032\\n\\n\\006asset2\\020\\001\\022\\024\\n\\004lscc\\022\\014\\n\\n\\n\\004atcc\\022\\002\\010\\001\\032\\003\\010\\310\\001\\\"\\014\\022\\004atcc\\032\\004v1.0\"\n",
      "endorsement {\n",
      "  endorser: \"\\n\\007Org1MSP\\022\\252\\006-----BEGIN CERTIFICATE-----\\nMIICKDCCAc+gAwIBAgIRAK5JdC2UorbI3GYUD7Z+I08wCgYIKoZIzj0EAwIwczEL\\nMAkGA1UEBhMCVVMxEzARBgNVBAgTCkNhbGlmb3JuaWExFjAUBgNVBAcTDVNhbiBG\\ncmFuY2lzY28xGTAXBgNVBAoTEG9yZzEuZXhhbXBsZS5jb20xHDAaBgNVBAMTE2Nh\\nLm9yZzEuZXhhbXBsZS5jb20wHhcNMTgxMDE5MDM0ODAwWhcNMjgxMDE2MDM0ODAw\\nWjBqMQswCQYDVQQGEwJVUzETMBEGA1UECBMKQ2FsaWZvcm5pYTEWMBQGA1UEBxMN\\nU2FuIEZyYW5jaXNjbzENMAsGA1UECxMEcGVlcjEfMB0GA1UEAxMWcGVlcjAub3Jn\\nMS5leGFtcGxlLmNvbTBZMBMGByqGSM49AgEGCCqGSM49AwEHA0IABF9ACNtWdD+C\\nj5hejCA9qvYEO1pbizsTZzpixLZO96Hv7Bhjke0I4m92+m1QB3j3atPbIqYR1vI8\\n5PsIwdaSnJejTTBLMA4GA1UdDwEB/wQEAwIHgDAMBgNVHRMBAf8EAjAAMCsGA1Ud\\nIwQkMCKAIGusYBVmN4/Nm4PGi5aZDUGttRUyZA3rDoT4POwdWJfSMAoGCCqGSM49\\nBAMCA0cAMEQCIDzfPy6MtrloRm00mm0dXJijLRtqu74TMCdiIz9/PsfHAiBXgK3U\\nKSPOmE1wKHkwr/SUyDPStCXkV5uO9ObjK9bbLA==\\n-----END CERTIFICATE-----\\n\"\n",
      "  signature: \"0D\\002 >+\\204\\270\\262n\\300\\203[\\255f1\\312W\\336t64\\r\\036\\367c:\\214\\361\\372\\236l\\312\\327\\243R\\002 ;9\\234\\210\\264\\255\\\"_\\211Z\\206\\021\\201\\231\\220\\357\\032\\256\\231-h\\341\\377\\t\\002\\222\\302d\\313\\222E<\"\n",
      "}\n",
      "],status is : 200\n"
     ]
    },
    {
     "data": {
      "text/plain": [
       "''"
      ]
     },
     "execution_count": 11,
     "metadata": {},
     "output_type": "execute_result"
    }
   ],
   "source": [
    "response = loop.run_until_complete(cli.chaincode_assetdelete(\n",
    "               requestor=org1_admin,\n",
    "               channel_name='assetchannel',\n",
    "               peers=['peer0.org1.example.com'],\n",
    "               args=['asset2'],\n",
    "               cc_name='atcc'\n",
    "               ))\n",
    "response"
   ]
  },
  {
   "cell_type": "code",
   "execution_count": 14,
   "id": "d047c028-79e7-4f23-8dd1-b7f577f9f289",
   "metadata": {},
   "outputs": [
    {
     "data": {
      "text/plain": [
       "'false'"
      ]
     },
     "execution_count": 14,
     "metadata": {},
     "output_type": "execute_result"
    }
   ],
   "source": [
    "response = loop.run_until_complete(cli.chaincode_assetexists(\n",
    "               requestor=org1_admin,\n",
    "               channel_name='assetchannel',\n",
    "               peers=['peer0.org1.example.com'],\n",
    "               args=['asset8'],\n",
    "               cc_name='atcc'\n",
    "               ))\n",
    "response"
   ]
  },
  {
   "cell_type": "code",
   "execution_count": 8,
   "id": "74437f34-0abb-413c-9083-b82dbf7e8dbb",
   "metadata": {},
   "outputs": [
    {
     "data": {
      "text/plain": [
       "'[{\"ID\":\"asset1\",\"color\":\"blue\",\"size\":5,\"owner\":\"Tomoko\",\"appraisedValue\":300},{\"ID\":\"asset2\",\"color\":\"red\",\"size\":5,\"owner\":\"Brad\",\"appraisedValue\":400},{\"ID\":\"asset3\",\"color\":\"green\",\"size\":10,\"owner\":\"Jin Soo\",\"appraisedValue\":500},{\"ID\":\"asset4\",\"color\":\"yellow\",\"size\":10,\"owner\":\"Max\",\"appraisedValue\":600},{\"ID\":\"asset5\",\"color\":\"black\",\"size\":15,\"owner\":\"Adriana\",\"appraisedValue\":700},{\"ID\":\"asset6\",\"color\":\"white\",\"size\":15,\"owner\":\"Michel\",\"appraisedValue\":800}]'"
      ]
     },
     "execution_count": 8,
     "metadata": {},
     "output_type": "execute_result"
    }
   ],
   "source": [
    "response = loop.run_until_complete(cli.chaincode_query(\n",
    "               requestor=org1_admin,\n",
    "               channel_name='assetchannel',\n",
    "               peers=['peer0.org1.example.com'],\n",
    "               args=[],\n",
    "               cc_name='atcc'\n",
    "               ))\n",
    "response"
   ]
  },
  {
   "cell_type": "code",
   "execution_count": null,
   "id": "4b86f577-2acc-4dde-b588-df9325d4b858",
   "metadata": {},
   "outputs": [],
   "source": []
  },
  {
   "cell_type": "code",
   "execution_count": null,
   "id": "a03ae920-b4cd-4d67-8cd0-4233619fd307",
   "metadata": {},
   "outputs": [],
   "source": [
    "# !go get github.com/hyperledger/fabric-chaincode-go/shim"
   ]
  },
  {
   "cell_type": "code",
   "execution_count": null,
   "id": "54c19886-92d6-4c6f-abe1-d77834ccc946",
   "metadata": {},
   "outputs": [],
   "source": [
    "# !go get github.com/hyperledger/fabric-protos-go/peer"
   ]
  },
  {
   "cell_type": "code",
   "execution_count": null,
   "id": "92910caa-540f-4a72-bb45-61b4f294a9cc",
   "metadata": {},
   "outputs": [],
   "source": [
    "responses = loop.run_until_complete(cli.chaincode_install(\n",
    "               requestor=org1_admin,\n",
    "               peers=['peer0.org1.example.com',\n",
    "                      'peer1.org1.example.com'],\n",
    "               cc_path='github.com/example_cc',\n",
    "               cc_name='example_cc',\n",
    "               cc_version='v1.0'\n",
    "               ))\n",
    "responses"
   ]
  },
  {
   "cell_type": "code",
   "execution_count": null,
   "id": "9fea5dcf-d53d-484a-bd69-b5830558d2e6",
   "metadata": {},
   "outputs": [],
   "source": [
    "args = ['a', '200', 'b', '300']\n",
    "response = loop.run_until_complete(cli.chaincode_instantiate(\n",
    "               requestor=org1_admin,\n",
    "               channel_name='artchannel',\n",
    "               peers=['peer0.org1.example.com'],\n",
    "               args=args,\n",
    "               cc_name='example_cc',\n",
    "               cc_version='v1.0',\n",
    "               cc_endorsement_policy=policy, # optional, but recommended\n",
    "               collections_config=None, # optional, for private data policy\n",
    "               transient_map=None, # optional, for private data\n",
    "               wait_for_event=True # optional, for being sure chaincode is instantiated\n",
    "               ))"
   ]
  },
  {
   "cell_type": "code",
   "execution_count": null,
   "id": "9723b8ea-d83a-41c4-a6d6-69fe7b670a84",
   "metadata": {},
   "outputs": [],
   "source": [
    "response"
   ]
  },
  {
   "cell_type": "code",
   "execution_count": null,
   "id": "35074701-8934-466e-904d-e0682574a394",
   "metadata": {},
   "outputs": [],
   "source": [
    "# Invoke a chaincode\n",
    "args = ['a', 'b', '100']\n",
    "# The response should be true if succeed\n",
    "response = loop.run_until_complete(cli.chaincode_invoke(\n",
    "               requestor=org1_admin,\n",
    "               channel_name='artchannel',\n",
    "               peers=['peer0.org1.example.com'],\n",
    "               args=args,\n",
    "               cc_name='example_cc',\n",
    "               transient_map=None, # optional, for private data\n",
    "               wait_for_event=True, # for being sure chaincode invocation has been commited in the ledger, default is on tx event\n",
    "               #cc_pattern='^invoked*' # if you want to wait for chaincode event and you have a `stub.SetEvent(\"invoked\", value)` in your chaincode\n",
    "               ))\n",
    "response"
   ]
  },
  {
   "cell_type": "code",
   "execution_count": null,
   "id": "89733382-d76c-4d61-a314-37e5d4383c36",
   "metadata": {},
   "outputs": [],
   "source": [
    "args = ['b']\n",
    "# The response should be true if succeed\n",
    "response = loop.run_until_complete(cli.chaincode_query(\n",
    "               requestor=org1_admin,\n",
    "               channel_name='artchannel',\n",
    "               peers=['peer0.org1.example.com'],\n",
    "               args=args,\n",
    "               cc_name='example_cc'\n",
    "               ))\n",
    "\n",
    "response"
   ]
  },
  {
   "cell_type": "code",
   "execution_count": null,
   "id": "7007b4b8-c663-4d57-bc43-c8cc12190ae4",
   "metadata": {},
   "outputs": [],
   "source": [
    "from hfc.fabric_network.gateway import Gateway\n",
    "from hfc.fabric_network.network import Network\n",
    "from hfc.fabric_network.contract import Contract"
   ]
  },
  {
   "cell_type": "code",
   "execution_count": null,
   "id": "d5b90fe0-74e4-4a58-8d5f-1f6842a2fab6",
   "metadata": {},
   "outputs": [],
   "source": [
    "org1_admin = cli.get_user(org_name='org1.example.com', name='Admin')\n",
    "\n",
    "new_gateway = Gateway() # Creates a new gateway instance\n",
    "options = {'wallet': ''}\n",
    "response = loop.run_until_complete(new_gateway.connect('test/fixtures/network.json', options))"
   ]
  },
  {
   "cell_type": "code",
   "execution_count": null,
   "id": "6d631409-a43e-4515-ac51-34372eb3fc09",
   "metadata": {},
   "outputs": [],
   "source": [
    "new_network = loop.run_until_complete(new_gateway.get_network('artchannel', org1_admin))\n",
    "new_contract = new_network.get_contract('example_cc')"
   ]
  },
  {
   "cell_type": "code",
   "execution_count": null,
   "id": "575918a0-63cc-485f-b2bb-c9e4bf683395",
   "metadata": {},
   "outputs": [],
   "source": [
    "response = loop.run_until_complete(new_contract.submit_transaction('artchannel', ['a', 'b', '100'], org1_admin))\n",
    "\n",
    "response"
   ]
  },
  {
   "cell_type": "code",
   "execution_count": null,
   "id": "825deaab-bfc9-44ff-a8ea-4b5973b5d98a",
   "metadata": {},
   "outputs": [],
   "source": [
    "response  = loop.run_until_complete(new_contract.evaluate_transaction('artchannel', ['b'], org1_admin))\n",
    "response"
   ]
  },
  {
   "cell_type": "code",
   "execution_count": null,
   "id": "cf86ef73-df5d-44ea-9d4c-3c3a4efa16a2",
   "metadata": {},
   "outputs": [],
   "source": []
  }
 ],
 "metadata": {
  "kernelspec": {
   "display_name": "Python 3",
   "language": "python",
   "name": "python3"
  },
  "language_info": {
   "codemirror_mode": {
    "name": "ipython",
    "version": 3
   },
   "file_extension": ".py",
   "mimetype": "text/x-python",
   "name": "python",
   "nbconvert_exporter": "python",
   "pygments_lexer": "ipython3",
   "version": "3.8.8"
  }
 },
 "nbformat": 4,
 "nbformat_minor": 5
}

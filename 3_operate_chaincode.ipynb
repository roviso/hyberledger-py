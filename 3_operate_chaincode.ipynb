{
 "cells": [
  {
   "cell_type": "code",
   "execution_count": 1,
   "id": "4e26eccf-c530-4cab-97bb-de2d89e68832",
   "metadata": {},
   "outputs": [],
   "source": [
    "import asyncio\n",
    "from hfc.fabric import Client\n",
    "import nest_asyncio\n",
    "nest_asyncio.apply()"
   ]
  },
  {
   "cell_type": "code",
   "execution_count": 2,
   "id": "68f7e894-ecd5-4050-818b-308e16833b3c",
   "metadata": {},
   "outputs": [
    {
     "name": "stderr",
     "output_type": "stream",
     "text": [
      "Init client with profile=test/fixtures/network.json\n",
      "create org with name=orderer.example.com\n",
      "create org with name=org1.example.com\n",
      "create org with name=org2.example.com\n",
      "create ca with name=ca-org1\n",
      "create ca with name=ca-org2\n",
      "Import orderers = dict_keys(['orderer.example.com'])\n",
      "Import peers = dict_keys(['peer0.org1.example.com', 'peer1.org1.example.com', 'peer0.org2.example.com', 'peer1.org2.example.com'])\n"
     ]
    }
   ],
   "source": [
    "loop = asyncio.get_event_loop()\n",
    "\n",
    "cli = Client(net_profile=\"test/fixtures/network.json\")\n",
    "org1_admin = cli.get_user('org1.example.com', 'Admin')"
   ]
  },
  {
   "cell_type": "code",
   "execution_count": 3,
   "id": "aacf2782-b2d8-4a39-95a8-ce04158c255d",
   "metadata": {},
   "outputs": [
    {
     "name": "stderr",
     "output_type": "stream",
     "text": [
      "New channel with name = assetchannel\n"
     ]
    },
    {
     "data": {
      "text/plain": [
       "<hfc.fabric.channel.channel.Channel at 0x7f2876266e80>"
      ]
     },
     "execution_count": 3,
     "metadata": {},
     "output_type": "execute_result"
    }
   ],
   "source": [
    "# Make the client know there is a channel in the network\n",
    "cli.new_channel('assetchannel')"
   ]
  },
  {
   "cell_type": "code",
   "execution_count": 4,
   "id": "8246ba1a-393d-4842-8b3c-efc8951e2c51",
   "metadata": {},
   "outputs": [],
   "source": [
    "# Install Example Chaincode to Peers\n",
    "# GOPATH setting is only needed to use the example chaincode inside sdk\n",
    "import os\n",
    "gopath_bak = os.environ.get('GOPATH', '')\n",
    "gopath = os.path.normpath(os.path.join(\n",
    "                      os.path.dirname(os.path.realpath('__file__')),\n",
    "                      'test/fixtures/chaincode'\n",
    "                     ))\n",
    "os.environ['GOPATH'] = os.path.abspath(gopath)\n",
    "# os.environ['GOPATH'] = os.path.abspath('/home/prixa-ml/go')"
   ]
  },
  {
   "cell_type": "code",
   "execution_count": 5,
   "id": "a81c2c9d-4758-4779-8d60-4bb39d64e1eb",
   "metadata": {},
   "outputs": [
    {
     "data": {
      "text/plain": [
       "''"
      ]
     },
     "execution_count": 5,
     "metadata": {},
     "output_type": "execute_result"
    }
   ],
   "source": [
    "args = ['asset22','pink', '32', 'ravi','666']\n",
    "response = loop.run_until_complete(cli.chaincode_createasset(\n",
    "               requestor=org1_admin,\n",
    "               channel_name='assetchannel',\n",
    "               peers=['peer0.org1.example.com'],\n",
    "               args=args,\n",
    "               cc_name='atcc'\n",
    "               ))\n",
    "response"
   ]
  },
  {
   "cell_type": "code",
   "execution_count": 5,
   "id": "036f990f-5496-4509-8f35-f95b005d7317",
   "metadata": {},
   "outputs": [
    {
     "data": {
      "text/plain": [
       "''"
      ]
     },
     "execution_count": 5,
     "metadata": {},
     "output_type": "execute_result"
    }
   ],
   "source": [
    "args = ['asset2','ravi']\n",
    "response = loop.run_until_complete(cli.chaincode_invoke(\n",
    "               requestor=org1_admin,\n",
    "               channel_name='assetchannel',\n",
    "               peers=['peer0.org1.example.com'],\n",
    "               args=args,\n",
    "               cc_name='atcc'\n",
    "               ))\n",
    "response"
   ]
  },
  {
   "cell_type": "code",
   "execution_count": null,
   "id": "eaf75ec1-fd9f-4e0c-858d-c96ee0bb6632",
   "metadata": {},
   "outputs": [],
   "source": []
  },
  {
   "cell_type": "code",
   "execution_count": null,
   "id": "3f6bfd20-e847-4c05-920e-a44c6b0335bd",
   "metadata": {},
   "outputs": [],
   "source": []
  },
  {
   "cell_type": "code",
   "execution_count": null,
   "id": "69529a8d-aeb5-4d05-ba36-d5bfd28aa4d1",
   "metadata": {},
   "outputs": [],
   "source": [
    "# The response should be true if succeed\n",
    "responses = loop.run_until_complete(cli.chaincode_install(\n",
    "               requestor=org1_admin,\n",
    "               peers=['peer0.org1.example.com',\n",
    "                      'peer1.org1.example.com'],\n",
    "               cc_path='github.com/atcc',\n",
    "               cc_name='atcc',\n",
    "               cc_version='v1.0'\n",
    "               ))\n",
    "\n",
    "responses"
   ]
  },
  {
   "cell_type": "code",
   "execution_count": null,
   "id": "a78aa023-523d-46fd-b9a3-339e626df9e7",
   "metadata": {},
   "outputs": [],
   "source": [
    "# Instantiate Chaincode in Channel, the response should be true if succeed\n",
    "args = ['newasset1','pink', '32', 'ravi','666']"
   ]
  },
  {
   "cell_type": "code",
   "execution_count": null,
   "id": "8ec2736e-5fab-491e-97e7-fbc0b716329d",
   "metadata": {},
   "outputs": [],
   "source": [
    "policy = {\n",
    "    'identities': [\n",
    "        {'role': {'name': 'member', 'mspId': 'Org1MSP'}},\n",
    "    ],\n",
    "    'policy': {\n",
    "        '1-of': [\n",
    "            {'signed-by': 0},\n",
    "        ]\n",
    "    }\n",
    "}"
   ]
  },
  {
   "cell_type": "code",
   "execution_count": null,
   "id": "5873fca5-b009-4b82-a2cb-1e5094c5fbb1",
   "metadata": {},
   "outputs": [],
   "source": [
    "response = loop.run_until_complete(cli.chaincode_instantiate(\n",
    "               requestor=org1_admin,\n",
    "               channel_name='assetchannel',\n",
    "               peers=['peer0.org1.example.com'],\n",
    "               args=args,\n",
    "               cc_name='atcc',\n",
    "               cc_version='v1.0',\n",
    "               cc_endorsement_policy=policy, # optional, but recommended\n",
    "               collections_config=None, # optional, for private data policy\n",
    "               transient_map=None, # optional, for private data\n",
    "               wait_for_event=True # optional, for being sure chaincode is instantiated\n",
    "               ))\n",
    "\n",
    "print(response)"
   ]
  },
  {
   "cell_type": "code",
   "execution_count": null,
   "id": "3baa14ee-84dc-4a24-96fc-981489ab4055",
   "metadata": {},
   "outputs": [],
   "source": [
    "response"
   ]
  },
  {
   "cell_type": "code",
   "execution_count": null,
   "id": "17927d8b-fb49-4c9c-a35a-6ec94588d2db",
   "metadata": {},
   "outputs": [],
   "source": [
    "args = ['a', 'b', '100']\n",
    "# The response should be true if succeed\n",
    "response = loop.run_until_complete(cli.chaincode_invoke(\n",
    "               requestor=org1_admin,\n",
    "               channel_name='assetchannel',\n",
    "               peers=['peer0.org1.example.com'],\n",
    "               args=args,\n",
    "               cc_name='atcc',\n",
    "               transient_map=None, # optional, for private data\n",
    "               wait_for_event=True, # for being sure chaincode invocation has been commited in the ledger, default is on tx event\n",
    "               #cc_pattern='^invoked*' # if you want to wait for chaincode event and you have a `stub.SetEvent(\"invoked\", value)` in your chaincode\n",
    "               ))\n"
   ]
  },
  {
   "cell_type": "code",
   "execution_count": null,
   "id": "19e99c20-47b7-4677-8c6b-0f5ccc31c4b1",
   "metadata": {},
   "outputs": [],
   "source": [
    "response"
   ]
  },
  {
   "cell_type": "code",
   "execution_count": 5,
   "id": "583ac977-99b0-4555-834e-4baa53ace239",
   "metadata": {},
   "outputs": [
    {
     "data": {
      "text/plain": [
       "'[{\"ID\":\"asset1\",\"color\":\"blue\",\"size\":5,\"owner\":\"Tomoko\",\"appraisedValue\":300},{\"ID\":\"asset2\",\"color\":\"red\",\"size\":5,\"owner\":\"ravi\",\"appraisedValue\":400},{\"ID\":\"asset22\",\"color\":\"pink\",\"size\":32,\"owner\":\"ravi\",\"appraisedValue\":666},{\"ID\":\"asset3\",\"color\":\"green\",\"size\":10,\"owner\":\"Jin Soo\",\"appraisedValue\":500},{\"ID\":\"asset4\",\"color\":\"yellow\",\"size\":10,\"owner\":\"Max\",\"appraisedValue\":600},{\"ID\":\"asset5\",\"color\":\"black\",\"size\":15,\"owner\":\"Adriana\",\"appraisedValue\":700},{\"ID\":\"asset6\",\"color\":\"white\",\"size\":15,\"owner\":\"Michel\",\"appraisedValue\":800}]'"
      ]
     },
     "execution_count": 5,
     "metadata": {},
     "output_type": "execute_result"
    }
   ],
   "source": [
    "args = ['b']\n",
    "# The response should be true if succeed\n",
    "response = loop.run_until_complete(cli.chaincode_query(\n",
    "               requestor=org1_admin,\n",
    "               channel_name='assetchannel',\n",
    "               peers=['peer0.org1.example.com',\n",
    "                     'peer1.org1.example.com'],\n",
    "               args=args,\n",
    "               cc_name='atcc'\n",
    "               ))\n",
    "response"
   ]
  },
  {
   "cell_type": "code",
   "execution_count": 6,
   "id": "c76793df-5900-4e5d-aa13-f1dea704a086",
   "metadata": {},
   "outputs": [
    {
     "data": {
      "text/plain": [
       "'true'"
      ]
     },
     "execution_count": 6,
     "metadata": {},
     "output_type": "execute_result"
    }
   ],
   "source": [
    "response = loop.run_until_complete(cli.chaincode_assetexists(\n",
    "               requestor=org1_admin,\n",
    "               channel_name='assetchannel',\n",
    "               peers=['peer0.org1.example.com'],\n",
    "               args=['asset22'],\n",
    "               cc_name='atcc'\n",
    "               ))\n",
    "response"
   ]
  },
  {
   "cell_type": "code",
   "execution_count": null,
   "id": "9b7c4df4-ba62-41d3-bcab-e5947029e498",
   "metadata": {},
   "outputs": [],
   "source": [
    "response = loop.run_until_complete(cli.chaincode_readasset(\n",
    "               requestor=org1_admin,\n",
    "               channel_name='assetchannel',\n",
    "               peers=['peer0.org1.example.com'],\n",
    "               args=['asset5'],\n",
    "               cc_name='atcc'\n",
    "               ))\n",
    "response"
   ]
  },
  {
   "cell_type": "code",
   "execution_count": null,
   "id": "ba282f23-3706-46fb-945b-3fe7c3ecef57",
   "metadata": {},
   "outputs": [],
   "source": [
    "args = ['asset1','pink', '32', 'ravi','666']\n",
    "response = loop.run_until_complete(cli.chaincode_createasset(\n",
    "               requestor=org1_admin,\n",
    "               channel_name='assetchannel',\n",
    "               peers=['peer0.org1.example.com'],\n",
    "               args=args,\n",
    "               cc_name='atcc'\n",
    "               ))\n",
    "response"
   ]
  },
  {
   "cell_type": "code",
   "execution_count": 7,
   "id": "32e8cb87-4368-44f9-96b9-02dbfc9aabef",
   "metadata": {},
   "outputs": [
    {
     "data": {
      "text/plain": [
       "''"
      ]
     },
     "execution_count": 7,
     "metadata": {},
     "output_type": "execute_result"
    }
   ],
   "source": [
    "response = loop.run_until_complete(cli.chaincode_assetdelete(\n",
    "               requestor=org1_admin,\n",
    "               channel_name='assetchannel',\n",
    "               peers=['peer0.org1.example.com'],\n",
    "               args=['asset22'],\n",
    "               cc_name='atcc'\n",
    "               ))\n",
    "response"
   ]
  },
  {
   "cell_type": "code",
   "execution_count": 8,
   "id": "d047c028-79e7-4f23-8dd1-b7f577f9f289",
   "metadata": {},
   "outputs": [
    {
     "data": {
      "text/plain": [
       "'false'"
      ]
     },
     "execution_count": 8,
     "metadata": {},
     "output_type": "execute_result"
    }
   ],
   "source": [
    "response = loop.run_until_complete(cli.chaincode_assetexists(\n",
    "               requestor=org1_admin,\n",
    "               channel_name='assetchannel',\n",
    "               peers=['peer0.org1.example.com'],\n",
    "               args=['asset22'],\n",
    "               cc_name='atcc'\n",
    "               ))\n",
    "response"
   ]
  },
  {
   "cell_type": "code",
   "execution_count": 9,
   "id": "74437f34-0abb-413c-9083-b82dbf7e8dbb",
   "metadata": {},
   "outputs": [
    {
     "data": {
      "text/plain": [
       "'[{\"ID\":\"asset1\",\"color\":\"blue\",\"size\":5,\"owner\":\"Tomoko\",\"appraisedValue\":300},{\"ID\":\"asset2\",\"color\":\"red\",\"size\":5,\"owner\":\"ravi\",\"appraisedValue\":400},{\"ID\":\"asset3\",\"color\":\"green\",\"size\":10,\"owner\":\"Jin Soo\",\"appraisedValue\":500},{\"ID\":\"asset4\",\"color\":\"yellow\",\"size\":10,\"owner\":\"Max\",\"appraisedValue\":600},{\"ID\":\"asset5\",\"color\":\"black\",\"size\":15,\"owner\":\"Adriana\",\"appraisedValue\":700},{\"ID\":\"asset6\",\"color\":\"white\",\"size\":15,\"owner\":\"Michel\",\"appraisedValue\":800}]'"
      ]
     },
     "execution_count": 9,
     "metadata": {},
     "output_type": "execute_result"
    }
   ],
   "source": [
    "response = loop.run_until_complete(cli.chaincode_query(\n",
    "               requestor=org1_admin,\n",
    "               channel_name='assetchannel',\n",
    "               peers=['peer0.org1.example.com'],\n",
    "               args=[],\n",
    "               cc_name='atcc'\n",
    "               ))\n",
    "response"
   ]
  },
  {
   "cell_type": "code",
   "execution_count": null,
   "id": "4b86f577-2acc-4dde-b588-df9325d4b858",
   "metadata": {},
   "outputs": [],
   "source": []
  },
  {
   "cell_type": "code",
   "execution_count": null,
   "id": "a03ae920-b4cd-4d67-8cd0-4233619fd307",
   "metadata": {},
   "outputs": [],
   "source": [
    "# !go get github.com/hyperledger/fabric-chaincode-go/shim"
   ]
  },
  {
   "cell_type": "code",
   "execution_count": null,
   "id": "54c19886-92d6-4c6f-abe1-d77834ccc946",
   "metadata": {},
   "outputs": [],
   "source": [
    "# !go get github.com/hyperledger/fabric-protos-go/peer"
   ]
  },
  {
   "cell_type": "code",
   "execution_count": null,
   "id": "92910caa-540f-4a72-bb45-61b4f294a9cc",
   "metadata": {},
   "outputs": [],
   "source": [
    "responses = loop.run_until_complete(cli.chaincode_install(\n",
    "               requestor=org1_admin,\n",
    "               peers=['peer0.org1.example.com',\n",
    "                      'peer1.org1.example.com'],\n",
    "               cc_path='github.com/example_cc',\n",
    "               cc_name='example_cc',\n",
    "               cc_version='v1.0'\n",
    "               ))\n",
    "responses"
   ]
  },
  {
   "cell_type": "code",
   "execution_count": null,
   "id": "9fea5dcf-d53d-484a-bd69-b5830558d2e6",
   "metadata": {},
   "outputs": [],
   "source": [
    "args = ['a', '200', 'b', '300']\n",
    "response = loop.run_until_complete(cli.chaincode_instantiate(\n",
    "               requestor=org1_admin,\n",
    "               channel_name='artchannel',\n",
    "               peers=['peer0.org1.example.com'],\n",
    "               args=args,\n",
    "               cc_name='example_cc',\n",
    "               cc_version='v1.0',\n",
    "               cc_endorsement_policy=policy, # optional, but recommended\n",
    "               collections_config=None, # optional, for private data policy\n",
    "               transient_map=None, # optional, for private data\n",
    "               wait_for_event=True # optional, for being sure chaincode is instantiated\n",
    "               ))"
   ]
  },
  {
   "cell_type": "code",
   "execution_count": null,
   "id": "9723b8ea-d83a-41c4-a6d6-69fe7b670a84",
   "metadata": {},
   "outputs": [],
   "source": [
    "response"
   ]
  },
  {
   "cell_type": "code",
   "execution_count": null,
   "id": "35074701-8934-466e-904d-e0682574a394",
   "metadata": {},
   "outputs": [],
   "source": [
    "# Invoke a chaincode\n",
    "args = ['a', 'b', '100']\n",
    "# The response should be true if succeed\n",
    "response = loop.run_until_complete(cli.chaincode_invoke(\n",
    "               requestor=org1_admin,\n",
    "               channel_name='artchannel',\n",
    "               peers=['peer0.org1.example.com'],\n",
    "               args=args,\n",
    "               cc_name='example_cc',\n",
    "               transient_map=None, # optional, for private data\n",
    "               wait_for_event=True, # for being sure chaincode invocation has been commited in the ledger, default is on tx event\n",
    "               #cc_pattern='^invoked*' # if you want to wait for chaincode event and you have a `stub.SetEvent(\"invoked\", value)` in your chaincode\n",
    "               ))\n",
    "response"
   ]
  },
  {
   "cell_type": "code",
   "execution_count": 7,
   "id": "89733382-d76c-4d61-a314-37e5d4383c36",
   "metadata": {},
   "outputs": [
    {
     "ename": "AttributeError",
     "evalue": "'NoneType' object has no attribute 'send_tx_proposal'",
     "output_type": "error",
     "traceback": [
      "\u001b[0;31m---------------------------------------------------------------------------\u001b[0m",
      "\u001b[0;31mAttributeError\u001b[0m                            Traceback (most recent call last)",
      "\u001b[0;32m<ipython-input-7-c63225d6bef2>\u001b[0m in \u001b[0;36m<module>\u001b[0;34m\u001b[0m\n\u001b[1;32m      1\u001b[0m \u001b[0margs\u001b[0m \u001b[0;34m=\u001b[0m \u001b[0;34m[\u001b[0m\u001b[0;34m'b'\u001b[0m\u001b[0;34m]\u001b[0m\u001b[0;34m\u001b[0m\u001b[0;34m\u001b[0m\u001b[0m\n\u001b[1;32m      2\u001b[0m \u001b[0;31m# The response should be true if succeed\u001b[0m\u001b[0;34m\u001b[0m\u001b[0;34m\u001b[0m\u001b[0;34m\u001b[0m\u001b[0m\n\u001b[0;32m----> 3\u001b[0;31m response = loop.run_until_complete(cli.chaincode_query(\n\u001b[0m\u001b[1;32m      4\u001b[0m                \u001b[0mrequestor\u001b[0m\u001b[0;34m=\u001b[0m\u001b[0morg1_admin\u001b[0m\u001b[0;34m,\u001b[0m\u001b[0;34m\u001b[0m\u001b[0;34m\u001b[0m\u001b[0m\n\u001b[1;32m      5\u001b[0m                \u001b[0mchannel_name\u001b[0m\u001b[0;34m=\u001b[0m\u001b[0;34m'artchannel'\u001b[0m\u001b[0;34m,\u001b[0m\u001b[0;34m\u001b[0m\u001b[0;34m\u001b[0m\u001b[0m\n",
      "\u001b[0;32m~/anaconda3/lib/python3.8/site-packages/nest_asyncio.py\u001b[0m in \u001b[0;36mrun_until_complete\u001b[0;34m(self, future)\u001b[0m\n\u001b[1;32m     68\u001b[0m                 raise RuntimeError(\n\u001b[1;32m     69\u001b[0m                     'Event loop stopped before Future completed.')\n\u001b[0;32m---> 70\u001b[0;31m             \u001b[0;32mreturn\u001b[0m \u001b[0mf\u001b[0m\u001b[0;34m.\u001b[0m\u001b[0mresult\u001b[0m\u001b[0;34m(\u001b[0m\u001b[0;34m)\u001b[0m\u001b[0;34m\u001b[0m\u001b[0;34m\u001b[0m\u001b[0m\n\u001b[0m\u001b[1;32m     71\u001b[0m \u001b[0;34m\u001b[0m\u001b[0m\n\u001b[1;32m     72\u001b[0m     \u001b[0;32mdef\u001b[0m \u001b[0m_run_once\u001b[0m\u001b[0;34m(\u001b[0m\u001b[0mself\u001b[0m\u001b[0;34m)\u001b[0m\u001b[0;34m:\u001b[0m\u001b[0;34m\u001b[0m\u001b[0;34m\u001b[0m\u001b[0m\n",
      "\u001b[0;32m~/anaconda3/lib/python3.8/asyncio/futures.py\u001b[0m in \u001b[0;36mresult\u001b[0;34m(self)\u001b[0m\n\u001b[1;32m    176\u001b[0m         \u001b[0mself\u001b[0m\u001b[0;34m.\u001b[0m\u001b[0m__log_traceback\u001b[0m \u001b[0;34m=\u001b[0m \u001b[0;32mFalse\u001b[0m\u001b[0;34m\u001b[0m\u001b[0;34m\u001b[0m\u001b[0m\n\u001b[1;32m    177\u001b[0m         \u001b[0;32mif\u001b[0m \u001b[0mself\u001b[0m\u001b[0;34m.\u001b[0m\u001b[0m_exception\u001b[0m \u001b[0;32mis\u001b[0m \u001b[0;32mnot\u001b[0m \u001b[0;32mNone\u001b[0m\u001b[0;34m:\u001b[0m\u001b[0;34m\u001b[0m\u001b[0;34m\u001b[0m\u001b[0m\n\u001b[0;32m--> 178\u001b[0;31m             \u001b[0;32mraise\u001b[0m \u001b[0mself\u001b[0m\u001b[0;34m.\u001b[0m\u001b[0m_exception\u001b[0m\u001b[0;34m\u001b[0m\u001b[0;34m\u001b[0m\u001b[0m\n\u001b[0m\u001b[1;32m    179\u001b[0m         \u001b[0;32mreturn\u001b[0m \u001b[0mself\u001b[0m\u001b[0;34m.\u001b[0m\u001b[0m_result\u001b[0m\u001b[0;34m\u001b[0m\u001b[0;34m\u001b[0m\u001b[0m\n\u001b[1;32m    180\u001b[0m \u001b[0;34m\u001b[0m\u001b[0m\n",
      "\u001b[0;32m~/anaconda3/lib/python3.8/asyncio/tasks.py\u001b[0m in \u001b[0;36m__step\u001b[0;34m(***failed resolving arguments***)\u001b[0m\n\u001b[1;32m    278\u001b[0m                 \u001b[0;31m# We use the `send` method directly, because coroutines\u001b[0m\u001b[0;34m\u001b[0m\u001b[0;34m\u001b[0m\u001b[0;34m\u001b[0m\u001b[0m\n\u001b[1;32m    279\u001b[0m                 \u001b[0;31m# don't have `__iter__` and `__next__` methods.\u001b[0m\u001b[0;34m\u001b[0m\u001b[0;34m\u001b[0m\u001b[0;34m\u001b[0m\u001b[0m\n\u001b[0;32m--> 280\u001b[0;31m                 \u001b[0mresult\u001b[0m \u001b[0;34m=\u001b[0m \u001b[0mcoro\u001b[0m\u001b[0;34m.\u001b[0m\u001b[0msend\u001b[0m\u001b[0;34m(\u001b[0m\u001b[0;32mNone\u001b[0m\u001b[0;34m)\u001b[0m\u001b[0;34m\u001b[0m\u001b[0;34m\u001b[0m\u001b[0m\n\u001b[0m\u001b[1;32m    281\u001b[0m             \u001b[0;32melse\u001b[0m\u001b[0;34m:\u001b[0m\u001b[0;34m\u001b[0m\u001b[0;34m\u001b[0m\u001b[0m\n\u001b[1;32m    282\u001b[0m                 \u001b[0mresult\u001b[0m \u001b[0;34m=\u001b[0m \u001b[0mcoro\u001b[0m\u001b[0;34m.\u001b[0m\u001b[0mthrow\u001b[0m\u001b[0;34m(\u001b[0m\u001b[0mexc\u001b[0m\u001b[0;34m)\u001b[0m\u001b[0;34m\u001b[0m\u001b[0;34m\u001b[0m\u001b[0m\n",
      "\u001b[0;32m~/PycharmProjects/goProject/fabric-sdk-py/hfc/fabric/client.py\u001b[0m in \u001b[0;36mchaincode_query\u001b[0;34m(self, requestor, channel_name, peers, args, cc_name, cc_type, fcn, transient_map)\u001b[0m\n\u001b[1;32m   1329\u001b[0m         \"\"\"\n\u001b[1;32m   1330\u001b[0m         \u001b[0mchaincode\u001b[0m \u001b[0;34m=\u001b[0m \u001b[0mChaincode\u001b[0m\u001b[0;34m(\u001b[0m\u001b[0mself\u001b[0m\u001b[0;34m,\u001b[0m \u001b[0mcc_name\u001b[0m\u001b[0;34m)\u001b[0m\u001b[0;34m\u001b[0m\u001b[0;34m\u001b[0m\u001b[0m\n\u001b[0;32m-> 1331\u001b[0;31m         return await chaincode.query(requestor, channel_name, peers, args,\n\u001b[0m\u001b[1;32m   1332\u001b[0m                                      \u001b[0mcc_type\u001b[0m\u001b[0;34m=\u001b[0m\u001b[0mcc_type\u001b[0m\u001b[0;34m,\u001b[0m\u001b[0;34m\u001b[0m\u001b[0;34m\u001b[0m\u001b[0m\n\u001b[1;32m   1333\u001b[0m                                      fcn=fcn, transient_map=transient_map)\n",
      "\u001b[0;32m~/PycharmProjects/goProject/fabric-sdk-py/hfc/fabric/chaincode.py\u001b[0m in \u001b[0;36mquery\u001b[0;34m(self, requestor, channel_name, peers, args, cc_type, fcn, transient_map)\u001b[0m\n\u001b[1;32m    321\u001b[0m         )\n\u001b[1;32m    322\u001b[0m \u001b[0;34m\u001b[0m\u001b[0m\n\u001b[0;32m--> 323\u001b[0;31m         responses, proposal, header = self._client.get_channel(\n\u001b[0m\u001b[1;32m    324\u001b[0m             channel_name).send_tx_proposal(tx_context, target_peers)\n\u001b[1;32m    325\u001b[0m \u001b[0;31m#         print(f\"responses: {responses}, proposal:{proposal}, header:{header}\")\u001b[0m\u001b[0;34m\u001b[0m\u001b[0;34m\u001b[0m\u001b[0;34m\u001b[0m\u001b[0m\n",
      "\u001b[0;31mAttributeError\u001b[0m: 'NoneType' object has no attribute 'send_tx_proposal'"
     ]
    }
   ],
   "source": [
    "args = ['b']\n",
    "# The response should be true if succeed\n",
    "response = loop.run_until_complete(cli.chaincode_query(\n",
    "               requestor=org1_admin,\n",
    "               channel_name='artchannel',\n",
    "               peers=['peer0.org1.example.com'],\n",
    "               args=args,\n",
    "               cc_name='example_cc'\n",
    "               ))\n",
    "\n",
    "response"
   ]
  },
  {
   "cell_type": "code",
   "execution_count": null,
   "id": "49b7e810-dfae-45da-ba3b-5561c063392f",
   "metadata": {},
   "outputs": [],
   "source": []
  },
  {
   "cell_type": "code",
   "execution_count": null,
   "id": "7007b4b8-c663-4d57-bc43-c8cc12190ae4",
   "metadata": {},
   "outputs": [],
   "source": [
    "from hfc.fabric_network.gateway import Gateway\n",
    "from hfc.fabric_network.network import Network\n",
    "from hfc.fabric_network.contract import Contract"
   ]
  },
  {
   "cell_type": "code",
   "execution_count": null,
   "id": "d5b90fe0-74e4-4a58-8d5f-1f6842a2fab6",
   "metadata": {},
   "outputs": [],
   "source": [
    "org1_admin = cli.get_user(org_name='org1.example.com', name='Admin')\n",
    "\n",
    "new_gateway = Gateway() # Creates a new gateway instance\n",
    "options = {'wallet': ''}\n",
    "response = loop.run_until_complete(new_gateway.connect('test/fixtures/network.json', options))"
   ]
  },
  {
   "cell_type": "code",
   "execution_count": null,
   "id": "6d631409-a43e-4515-ac51-34372eb3fc09",
   "metadata": {},
   "outputs": [],
   "source": [
    "new_network = loop.run_until_complete(new_gateway.get_network('artchannel', org1_admin))\n",
    "new_contract = new_network.get_contract('atcc')"
   ]
  },
  {
   "cell_type": "code",
   "execution_count": null,
   "id": "575918a0-63cc-485f-b2bb-c9e4bf683395",
   "metadata": {
    "tags": []
   },
   "outputs": [],
   "source": [
    "response = loop.run_until_complete(new_contract.submit_transaction('artchannel', ['a', 'b', '100'], org1_admin))\n",
    "\n",
    "response"
   ]
  },
  {
   "cell_type": "code",
   "execution_count": null,
   "id": "825deaab-bfc9-44ff-a8ea-4b5973b5d98a",
   "metadata": {},
   "outputs": [],
   "source": [
    "response  = loop.run_until_complete(new_contract.evaluate_transaction('artchannel', ['b'], org1_admin))\n",
    "response"
   ]
  },
  {
   "cell_type": "code",
   "execution_count": null,
   "id": "cf86ef73-df5d-44ea-9d4c-3c3a4efa16a2",
   "metadata": {},
   "outputs": [],
   "source": []
  }
 ],
 "metadata": {
  "kernelspec": {
   "display_name": "Python 3",
   "language": "python",
   "name": "python3"
  },
  "language_info": {
   "codemirror_mode": {
    "name": "ipython",
    "version": 3
   },
   "file_extension": ".py",
   "mimetype": "text/x-python",
   "name": "python",
   "nbconvert_exporter": "python",
   "pygments_lexer": "ipython3",
   "version": "3.8.8"
  }
 },
 "nbformat": 4,
 "nbformat_minor": 5
}

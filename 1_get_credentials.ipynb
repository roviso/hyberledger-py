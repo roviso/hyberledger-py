{
 "cells": [
  {
   "cell_type": "code",
   "execution_count": 1,
   "id": "2e8589ac-7660-4d63-b715-d705351abda0",
   "metadata": {},
   "outputs": [],
   "source": [
    "from hfc.fabric import Client\n",
    "from hfc.fabric_ca.caservice import ca_service\n",
    "\n"
   ]
  },
  {
   "cell_type": "code",
   "execution_count": 2,
   "id": "ffd49233-8ac8-41ab-89cd-9d82f2978268",
   "metadata": {},
   "outputs": [
    {
     "name": "stderr",
     "output_type": "stream",
     "text": [
      "Init client with profile=test/fixtures/network.json\n",
      "create org with name=orderer.example.com\n",
      "create org with name=org1.example.com\n",
      "create org with name=org2.example.com\n",
      "create ca with name=ca-org1\n",
      "create ca with name=ca-org2\n",
      "Import orderers = dict_keys(['orderer.example.com'])\n",
      "Import peers = dict_keys(['peer0.org1.example.com', 'peer1.org1.example.com', 'peer0.org2.example.com', 'peer1.org2.example.com'])\n"
     ]
    },
    {
     "name": "stdout",
     "output_type": "stream",
     "text": [
      "{'orderer.example.com': <hfc.fabric.organization.Organization object at 0x7f600c2faaf0>, 'org1.example.com': <hfc.fabric.organization.Organization object at 0x7f5ff415b3a0>, 'org2.example.com': <hfc.fabric.organization.Organization object at 0x7f5fefba7cd0>}\n",
      "{'peer0.org1.example.com': <hfc.fabric.peer.Peer object at 0x7f5fefbac4f0>, 'peer1.org1.example.com': <hfc.fabric.peer.Peer object at 0x7f5fefbacbb0>, 'peer0.org2.example.com': <hfc.fabric.peer.Peer object at 0x7f5fefbacdc0>, 'peer1.org2.example.com': <hfc.fabric.peer.Peer object at 0x7f5fefbac0d0>}\n",
      "{'orderer.example.com': <hfc.fabric.orderer.Orderer object at 0x7f5fefbac310>}\n",
      "{'ca-org1': <hfc.fabric.certificateAuthority.certificateAuthority object at 0x7f5fefbac040>, 'ca-org2': <hfc.fabric.certificateAuthority.certificateAuthority object at 0x7f5fefbac130>}\n"
     ]
    }
   ],
   "source": [
    "\n",
    "cli = Client(net_profile=\"test/fixtures/network.json\")\n",
    "\n",
    "print(cli.organizations)  # orgs in the network\n",
    "print(cli.peers)  # peers in the network\n",
    "print(cli.orderers)  # orderers in the network\n",
    "print(cli.CAs)  # ca nodes in the network"
   ]
  },
  {
   "cell_type": "code",
   "execution_count": 5,
   "id": "5436fa26-6d63-4a98-ab89-84327a2b9d7d",
   "metadata": {},
   "outputs": [
    {
     "name": "stderr",
     "output_type": "stream",
     "text": [
      "Init client with profile=test/fixtures/network.json\n",
      "create org with name=orderer.example.com\n",
      "create org with name=org1.example.com\n",
      "create org with name=org2.example.com\n",
      "create ca with name=ca-org1\n",
      "create ca with name=ca-org2\n",
      "Import orderers = dict_keys(['orderer.example.com'])\n",
      "Import peers = dict_keys(['peer0.org1.example.com', 'peer1.org1.example.com', 'peer0.org2.example.com', 'peer1.org2.example.com'])\n"
     ]
    }
   ],
   "source": [
    "from hfc.fabric import Client\n",
    "\n",
    "cli = Client(net_profile=\"test/fixtures/network.json\")\n",
    "org1_admin = cli.get_user(org_name='org1.example.com', name='Admin') # get the admin user from local path\n",
    "org2_admin = cli.get_user(org_name='org2.example.com', name='Admin')"
   ]
  },
  {
   "cell_type": "code",
   "execution_count": 6,
   "id": "8596dd08-cd16-4f44-8a9b-65df05626a85",
   "metadata": {},
   "outputs": [],
   "source": [
    "casvc = ca_service(target=\"http://127.0.0.1:7054\")\n",
    "adminEnrollment = casvc.enroll(\"admin\", \"adminpw\")"
   ]
  },
  {
   "cell_type": "code",
   "execution_count": 7,
   "id": "5b76f943-70e7-4067-8169-2adff660410c",
   "metadata": {},
   "outputs": [
    {
     "ename": "ValueError",
     "evalue": "Registering failed with errors [{'code': 0, 'message': \"Registration of 'ravi' failed: Identity 'ravi' is already registered\"}]",
     "output_type": "error",
     "traceback": [
      "\u001b[0;31m---------------------------------------------------------------------------\u001b[0m",
      "\u001b[0;31mValueError\u001b[0m                                Traceback (most recent call last)",
      "\u001b[0;32m<ipython-input-7-bd6bb1c30604>\u001b[0m in \u001b[0;36m<module>\u001b[0;34m\u001b[0m\n\u001b[0;32m----> 1\u001b[0;31m \u001b[0msecret\u001b[0m \u001b[0;34m=\u001b[0m \u001b[0madminEnrollment\u001b[0m\u001b[0;34m.\u001b[0m\u001b[0mregister\u001b[0m\u001b[0;34m(\u001b[0m\u001b[0;34m\"ravi\"\u001b[0m\u001b[0;34m)\u001b[0m\u001b[0;34m\u001b[0m\u001b[0;34m\u001b[0m\u001b[0m\n\u001b[0m\u001b[1;32m      2\u001b[0m \u001b[0msecret\u001b[0m\u001b[0;34m\u001b[0m\u001b[0;34m\u001b[0m\u001b[0m\n",
      "\u001b[0;32m~/PycharmProjects/goProject/fabric-sdk-py/hfc/fabric_ca/caservice.py\u001b[0m in \u001b[0;36mregister\u001b[0;34m(self, enrollmentID, enrollmentSecret, role, affiliation, maxEnrollments, attrs)\u001b[0m\n\u001b[1;32m    133\u001b[0m             \u001b[0;32mraise\u001b[0m \u001b[0mValueError\u001b[0m\u001b[0;34m(\u001b[0m\u001b[0mmsg\u001b[0m\u001b[0;34m)\u001b[0m\u001b[0;34m\u001b[0m\u001b[0;34m\u001b[0m\u001b[0m\n\u001b[1;32m    134\u001b[0m \u001b[0;34m\u001b[0m\u001b[0m\n\u001b[0;32m--> 135\u001b[0;31m         return self._service.register(enrollmentID, enrollmentSecret, role,\n\u001b[0m\u001b[1;32m    136\u001b[0m                                       affiliation, maxEnrollments, attrs, self)\n\u001b[1;32m    137\u001b[0m \u001b[0;34m\u001b[0m\u001b[0m\n",
      "\u001b[0;32m~/PycharmProjects/goProject/fabric-sdk-py/hfc/fabric_ca/caservice.py\u001b[0m in \u001b[0;36mregister\u001b[0;34m(self, enrollmentID, enrollmentSecret, role, affiliation, maxEnrollments, attrs, registrar)\u001b[0m\n\u001b[1;32m    582\u001b[0m             \u001b[0mreq\u001b[0m\u001b[0;34m[\u001b[0m\u001b[0;34m'secret'\u001b[0m\u001b[0;34m]\u001b[0m \u001b[0;34m=\u001b[0m \u001b[0menrollmentSecret\u001b[0m\u001b[0;34m\u001b[0m\u001b[0;34m\u001b[0m\u001b[0m\n\u001b[1;32m    583\u001b[0m \u001b[0;34m\u001b[0m\u001b[0m\n\u001b[0;32m--> 584\u001b[0;31m         \u001b[0;32mreturn\u001b[0m \u001b[0mself\u001b[0m\u001b[0;34m.\u001b[0m\u001b[0m_ca_client\u001b[0m\u001b[0;34m.\u001b[0m\u001b[0mregister\u001b[0m\u001b[0;34m(\u001b[0m\u001b[0mreq\u001b[0m\u001b[0;34m,\u001b[0m \u001b[0mregistrar\u001b[0m\u001b[0;34m)\u001b[0m\u001b[0;34m\u001b[0m\u001b[0;34m\u001b[0m\u001b[0m\n\u001b[0m\u001b[1;32m    585\u001b[0m \u001b[0;34m\u001b[0m\u001b[0m\n\u001b[1;32m    586\u001b[0m     \u001b[0;32mdef\u001b[0m \u001b[0mrevoke\u001b[0m\u001b[0;34m(\u001b[0m\u001b[0mself\u001b[0m\u001b[0;34m,\u001b[0m \u001b[0menrollmentID\u001b[0m\u001b[0;34m,\u001b[0m \u001b[0maki\u001b[0m\u001b[0;34m,\u001b[0m \u001b[0mserial\u001b[0m\u001b[0;34m,\u001b[0m \u001b[0mreason\u001b[0m\u001b[0;34m,\u001b[0m \u001b[0mgencrl\u001b[0m\u001b[0;34m,\u001b[0m \u001b[0mregistrar\u001b[0m\u001b[0;34m)\u001b[0m\u001b[0;34m:\u001b[0m\u001b[0;34m\u001b[0m\u001b[0;34m\u001b[0m\u001b[0m\n",
      "\u001b[0;32m~/PycharmProjects/goProject/fabric-sdk-py/hfc/fabric_ca/caservice.py\u001b[0m in \u001b[0;36mregister\u001b[0;34m(self, req, registrar)\u001b[0m\n\u001b[1;32m    355\u001b[0m             \u001b[0;32mreturn\u001b[0m \u001b[0mres\u001b[0m\u001b[0;34m[\u001b[0m\u001b[0;34m'result'\u001b[0m\u001b[0;34m]\u001b[0m\u001b[0;34m[\u001b[0m\u001b[0;34m'secret'\u001b[0m\u001b[0;34m]\u001b[0m\u001b[0;34m\u001b[0m\u001b[0;34m\u001b[0m\u001b[0m\n\u001b[1;32m    356\u001b[0m         \u001b[0;32melse\u001b[0m\u001b[0;34m:\u001b[0m\u001b[0;34m\u001b[0m\u001b[0;34m\u001b[0m\u001b[0m\n\u001b[0;32m--> 357\u001b[0;31m             raise ValueError(\"Registering failed with errors {0}\"\n\u001b[0m\u001b[1;32m    358\u001b[0m                              .format(res['errors']))\n\u001b[1;32m    359\u001b[0m \u001b[0;34m\u001b[0m\u001b[0m\n",
      "\u001b[0;31mValueError\u001b[0m: Registering failed with errors [{'code': 0, 'message': \"Registration of 'ravi' failed: Identity 'ravi' is already registered\"}]"
     ]
    }
   ],
   "source": [
    "secret = adminEnrollment.register(\"ravi\")\n",
    "secret"
   ]
  },
  {
   "cell_type": "code",
   "execution_count": 8,
   "id": "c5a68920-4e2c-40b0-8cb9-54a4254cebaf",
   "metadata": {},
   "outputs": [
    {
     "name": "stdout",
     "output_type": "stream",
     "text": [
      "[Enrollment:_service=<hfc.fabric_ca.caservice.CAService object at 0x7f0522fe0d90>,_private_key=<cryptography.hazmat.backends.openssl.ec._EllipticCurvePrivateKey object at 0x7f052176d160>,_cert=b'-----BEGIN CERTIFICATE-----\\nMIICWzCCAgKgAwIBAgIUTJwh/GOZ7H/6BPAtLZBOgjuKjUYwCgYIKoZIzj0EAwIw\\nczELMAkGA1UEBhMCVVMxEzARBgNVBAgTCkNhbGlmb3JuaWExFjAUBgNVBAcTDVNh\\nbiBGcmFuY2lzY28xGTAXBgNVBAoTEG9yZzEuZXhhbXBsZS5jb20xHDAaBgNVBAMT\\nE2NhLm9yZzEuZXhhbXBsZS5jb20wHhcNMjEwOTA4MDU0NzAwWhcNMjIwODA3MTM1\\nMjAwWjAgMQ8wDQYDVQQLEwZjbGllbnQxDTALBgNVBAMTBHJhdmkwWTATBgcqhkjO\\nPQIBBggqhkjOPQMBBwNCAAQchoReCIpKotTo5kzGbmny6tDmaHM6Vz8Mv0TV+EVQ\\nm0/i5BooDj6cE39HYibQR5UPD3BhT4+R9sReWDdK2HDUo4HGMIHDMA4GA1UdDwEB\\n/wQEAwICBDAMBgNVHRMBAf8EAjAAMB0GA1UdDgQWBBSwZKvqy/CZ5kCwZ3ycoaOp\\ne67XmzArBgNVHSMEJDAigCAOcpIk6LPzF4TIqTxbjvb0wckdnm5XfEXDMWNgn+QA\\nETBXBggqAwQFBgcIAQRLeyJhdHRycyI6eyJoZi5BZmZpbGlhdGlvbiI6IiIsImhm\\nLkVucm9sbG1lbnRJRCI6InJhdmkiLCJoZi5UeXBlIjoiY2xpZW50In19MAoGCCqG\\nSM49BAMCA0cAMEQCIH8CyZyNLHLulQEm+gqKtdaSjDxmxuGnAqJFYrRkQpV6AiAj\\nd/8kg8YzW8nxt24DmcoykfTr+HX1bY7jFQDE+f28qg==\\n-----END CERTIFICATE-----\\n',_caCert=b'-----BEGIN CERTIFICATE-----\\nMIICQjCCAemgAwIBAgIQIR2LR9fa8xs5unnJJ9PFSzAKBggqhkjOPQQDAjBzMQsw\\nCQYDVQQGEwJVUzETMBEGA1UECBMKQ2FsaWZvcm5pYTEWMBQGA1UEBxMNU2FuIEZy\\nYW5jaXNjbzEZMBcGA1UEChMQb3JnMS5leGFtcGxlLmNvbTEcMBoGA1UEAxMTY2Eu\\nb3JnMS5leGFtcGxlLmNvbTAeFw0xNzA2MjMxMjMzMTlaFw0yNzA2MjExMjMzMTla\\nMHMxCzAJBgNVBAYTAlVTMRMwEQYDVQQIEwpDYWxpZm9ybmlhMRYwFAYDVQQHEw1T\\nYW4gRnJhbmNpc2NvMRkwFwYDVQQKExBvcmcxLmV4YW1wbGUuY29tMRwwGgYDVQQD\\nExNjYS5vcmcxLmV4YW1wbGUuY29tMFkwEwYHKoZIzj0CAQYIKoZIzj0DAQcDQgAE\\nKIVwhTzJrLzzfkIj/O+A18B18k2cSKEWdSbfWZIpFJSb9yw8QoEsbtk4wj9JJD/w\\nOSa1eDD/pQorejCm25CmBaNfMF0wDgYDVR0PAQH/BAQDAgGmMA8GA1UdJQQIMAYG\\nBFUdJQAwDwYDVR0TAQH/BAUwAwEB/zApBgNVHQ4EIgQgDnKSJOiz8xeEyKk8W472\\n9MHJHZ5uV3xFwzFjYJ/kABEwCgYIKoZIzj0EAwIDRwAwRAIgMIO+yK3Fbwv1EXMc\\ntQam42i6ROxSanaAHrbY2oVC1fICICsMpdSS2kbdntUDayi09v4/WRtC59ExCrHl\\nrg/GXwkv\\n-----END CERTIFICATE-----']\n",
      "[Enrollment:_service=<hfc.fabric_ca.caservice.CAService object at 0x7f0522fe0d90>,_private_key=<cryptography.hazmat.backends.openssl.ec._EllipticCurvePrivateKey object at 0x7f0522fe6f10>,_cert=b'-----BEGIN CERTIFICATE-----\\nMIICXDCCAgKgAwIBAgIUXGunSEKiJFS5kfJXqRJXyaPZzXAwCgYIKoZIzj0EAwIw\\nczELMAkGA1UEBhMCVVMxEzARBgNVBAgTCkNhbGlmb3JuaWExFjAUBgNVBAcTDVNh\\nbiBGcmFuY2lzY28xGTAXBgNVBAoTEG9yZzEuZXhhbXBsZS5jb20xHDAaBgNVBAMT\\nE2NhLm9yZzEuZXhhbXBsZS5jb20wHhcNMjEwOTA4MDU0NzAwWhcNMjIwODA3MTM1\\nMjAwWjAgMQ8wDQYDVQQLEwZjbGllbnQxDTALBgNVBAMTBHJhdmkwWTATBgcqhkjO\\nPQIBBggqhkjOPQMBBwNCAARpn72Wzf+uGsKCtP959FMTONlBHjKcV9NQ+UvJNAh4\\nuKPpgwVwXdfdC7xDPKh6L/ihZoJjt5WRCXcFsthze1F3o4HGMIHDMA4GA1UdDwEB\\n/wQEAwICBDAMBgNVHRMBAf8EAjAAMB0GA1UdDgQWBBTX2uMdayxLxN/gnSEEVr2s\\nhmASITArBgNVHSMEJDAigCAOcpIk6LPzF4TIqTxbjvb0wckdnm5XfEXDMWNgn+QA\\nETBXBggqAwQFBgcIAQRLeyJhdHRycyI6eyJoZi5BZmZpbGlhdGlvbiI6IiIsImhm\\nLkVucm9sbG1lbnRJRCI6InJhdmkiLCJoZi5UeXBlIjoiY2xpZW50In19MAoGCCqG\\nSM49BAMCA0gAMEUCIQDerBXOvvnrfGOr7j+7Y3Rf2lq4oeRJDBsv5VQuyzuhfAIg\\nALm0+F74vuWqwTLmMwwB8I2rO2YdTIITIVEo4UGOlRI=\\n-----END CERTIFICATE-----\\n',_caCert=b'-----BEGIN CERTIFICATE-----\\nMIICQjCCAemgAwIBAgIQIR2LR9fa8xs5unnJJ9PFSzAKBggqhkjOPQQDAjBzMQsw\\nCQYDVQQGEwJVUzETMBEGA1UECBMKQ2FsaWZvcm5pYTEWMBQGA1UEBxMNU2FuIEZy\\nYW5jaXNjbzEZMBcGA1UEChMQb3JnMS5leGFtcGxlLmNvbTEcMBoGA1UEAxMTY2Eu\\nb3JnMS5leGFtcGxlLmNvbTAeFw0xNzA2MjMxMjMzMTlaFw0yNzA2MjExMjMzMTla\\nMHMxCzAJBgNVBAYTAlVTMRMwEQYDVQQIEwpDYWxpZm9ybmlhMRYwFAYDVQQHEw1T\\nYW4gRnJhbmNpc2NvMRkwFwYDVQQKExBvcmcxLmV4YW1wbGUuY29tMRwwGgYDVQQD\\nExNjYS5vcmcxLmV4YW1wbGUuY29tMFkwEwYHKoZIzj0CAQYIKoZIzj0DAQcDQgAE\\nKIVwhTzJrLzzfkIj/O+A18B18k2cSKEWdSbfWZIpFJSb9yw8QoEsbtk4wj9JJD/w\\nOSa1eDD/pQorejCm25CmBaNfMF0wDgYDVR0PAQH/BAQDAgGmMA8GA1UdJQQIMAYG\\nBFUdJQAwDwYDVR0TAQH/BAUwAwEB/zApBgNVHQ4EIgQgDnKSJOiz8xeEyKk8W472\\n9MHJHZ5uV3xFwzFjYJ/kABEwCgYIKoZIzj0EAwIDRwAwRAIgMIO+yK3Fbwv1EXMc\\ntQam42i6ROxSanaAHrbY2oVC1fICICsMpdSS2kbdntUDayi09v4/WRtC59ExCrHl\\nrg/GXwkv\\n-----END CERTIFICATE-----']\n"
     ]
    }
   ],
   "source": [
    "user1Enrollment = casvc.enroll(\"ravi\", secret) # now local will have the user enrollment\n",
    "print(user1Enrollment)\n",
    "user1ReEnrollment = casvc.reenroll(user1Enrollment) # now local will have the user reenrolled object\n",
    "print(user1ReEnrollment)\n",
    "# RevokedCerts, CRL = adminEnrollment.revoke(\"user1\") # revoke the user if you need"
   ]
  },
  {
   "cell_type": "code",
   "execution_count": 8,
   "id": "ec3e9ab1-aff4-4f20-a315-edf10a7a2eda",
   "metadata": {},
   "outputs": [],
   "source": [
    "identityService = casvc.newIdentityService()\n",
    "\n",
    "admin = casvc.enroll(\"admin\", \"adminpw\") # now local will have the admin user\n",
    "secret = identityService.create(admin, 'roviso') # create user foo\n"
   ]
  },
  {
   "cell_type": "code",
   "execution_count": 9,
   "id": "d7131140-260c-4a7e-8b25-846491914cb5",
   "metadata": {},
   "outputs": [
    {
     "data": {
      "text/plain": [
       "'wFGISEXujRPD'"
      ]
     },
     "execution_count": 9,
     "metadata": {},
     "output_type": "execute_result"
    }
   ],
   "source": [
    "secret"
   ]
  },
  {
   "cell_type": "code",
   "execution_count": 10,
   "id": "371a98dd-7d09-47ab-ab86-82aa7359f1c6",
   "metadata": {},
   "outputs": [
    {
     "data": {
      "text/plain": [
       "{'result': {'id': 'roviso',\n",
       "  'type': 'client',\n",
       "  'affiliation': '',\n",
       "  'attrs': [{'name': 'hf.Type', 'value': 'client', 'ecert': True},\n",
       "   {'name': 'hf.Affiliation', 'value': '', 'ecert': True},\n",
       "   {'name': 'hf.EnrollmentID', 'value': 'roviso', 'ecert': True}],\n",
       "  'max_enrollments': 1},\n",
       " 'errors': [],\n",
       " 'messages': [],\n",
       " 'success': True}"
      ]
     },
     "execution_count": 10,
     "metadata": {},
     "output_type": "execute_result"
    }
   ],
   "source": [
    "res = identityService.getOne('roviso', admin) # get user foo\n",
    "res"
   ]
  },
  {
   "cell_type": "code",
   "execution_count": 11,
   "id": "789d94c2-351d-4b2e-96e9-773fed976004",
   "metadata": {},
   "outputs": [
    {
     "data": {
      "text/plain": [
       "{'result': {'id': 'ravi',\n",
       "  'type': 'client',\n",
       "  'affiliation': '',\n",
       "  'attrs': [{'name': 'hf.EnrollmentID', 'value': 'ravi', 'ecert': True},\n",
       "   {'name': 'hf.Type', 'value': 'client', 'ecert': True}],\n",
       "  'max_enrollments': 5},\n",
       " 'errors': [],\n",
       " 'messages': [],\n",
       " 'success': True}"
      ]
     },
     "execution_count": 11,
     "metadata": {},
     "output_type": "execute_result"
    }
   ],
   "source": [
    "res = identityService.getOne('ravi', admin) # get user foo\n",
    "res"
   ]
  },
  {
   "cell_type": "code",
   "execution_count": 13,
   "id": "54b84f98-2889-4374-b140-30b1a6e300fd",
   "metadata": {},
   "outputs": [
    {
     "data": {
      "text/plain": [
       "{'result': {'identities': [{'id': 'admin',\n",
       "    'type': 'client',\n",
       "    'affiliation': '',\n",
       "    'attrs': [{'name': 'hf.Registrar.DelegateRoles',\n",
       "      'value': 'client,user,validator,auditor'},\n",
       "     {'name': 'hf.Revoker', 'value': '1'},\n",
       "     {'name': 'hf.IntermediateCA', 'value': '1'},\n",
       "     {'name': 'hf.AffiliationMgr', 'value': '1'},\n",
       "     {'name': 'hf.GenCRL', 'value': '1'},\n",
       "     {'name': 'hf.Registrar.Roles',\n",
       "      'value': 'client,user,peer,validator,auditor,ca'}],\n",
       "    'max_enrollments': -1},\n",
       "   {'id': 'user',\n",
       "    'type': 'client',\n",
       "    'affiliation': '',\n",
       "    'attrs': [{'name': 'hf.Registrar.Roles',\n",
       "      'value': 'client,user,peer,validator,auditor,ca'},\n",
       "     {'name': 'hf.Registrar.DelegateRoles',\n",
       "      'value': 'client,user,validator,auditor'},\n",
       "     {'name': 'hf.Revoker', 'value': '1'},\n",
       "     {'name': 'hf.IntermediateCA', 'value': '1'}],\n",
       "    'max_enrollments': -1},\n",
       "   {'id': 'v4fXUvyee',\n",
       "    'type': 'client',\n",
       "    'affiliation': '',\n",
       "    'attrs': [{'name': 'hf.EnrollmentID', 'value': 'v4fXUvyee', 'ecert': True},\n",
       "     {'name': 'hf.Type', 'value': 'client', 'ecert': True},\n",
       "     {'name': 'hf.Affiliation', 'value': '', 'ecert': True}],\n",
       "    'max_enrollments': 1},\n",
       "   {'id': 'UxIi5tfvb',\n",
       "    'type': 'client',\n",
       "    'affiliation': '',\n",
       "    'attrs': [{'name': 'hf.EnrollmentID', 'value': 'UxIi5tfvb', 'ecert': True},\n",
       "     {'name': 'hf.Type', 'value': 'client', 'ecert': True},\n",
       "     {'name': 'hf.Affiliation', 'value': '', 'ecert': True}],\n",
       "    'max_enrollments': 1},\n",
       "   {'id': 'gx09Z9YN3',\n",
       "    'type': 'client',\n",
       "    'affiliation': '',\n",
       "    'attrs': [{'name': 'hf.EnrollmentID', 'value': 'gx09Z9YN3', 'ecert': True},\n",
       "     {'name': 'hf.Type', 'value': 'client', 'ecert': True},\n",
       "     {'name': 'hf.Affiliation', 'value': '', 'ecert': True}],\n",
       "    'max_enrollments': 1},\n",
       "   {'id': '5mQ9FRxOq',\n",
       "    'type': 'client',\n",
       "    'affiliation': '',\n",
       "    'attrs': [{'name': 'hf.EnrollmentID', 'value': '5mQ9FRxOq', 'ecert': True},\n",
       "     {'name': 'hf.Type', 'value': 'client', 'ecert': True},\n",
       "     {'name': 'hf.Affiliation', 'value': '', 'ecert': True}],\n",
       "    'max_enrollments': 1},\n",
       "   {'id': 'VR2dgdORv',\n",
       "    'type': 'client',\n",
       "    'affiliation': '',\n",
       "    'attrs': [{'name': 'hf.EnrollmentID', 'value': 'VR2dgdORv', 'ecert': True},\n",
       "     {'name': 'hf.Type', 'value': 'client', 'ecert': True},\n",
       "     {'name': 'hf.Affiliation', 'value': '', 'ecert': True}],\n",
       "    'max_enrollments': 1},\n",
       "   {'id': 'EZxfo0fc8',\n",
       "    'type': 'client',\n",
       "    'affiliation': '',\n",
       "    'attrs': [{'name': 'hf.EnrollmentID', 'value': 'EZxfo0fc8', 'ecert': True},\n",
       "     {'name': 'hf.Type', 'value': 'client', 'ecert': True},\n",
       "     {'name': 'hf.Affiliation', 'value': '', 'ecert': True}],\n",
       "    'max_enrollments': 1},\n",
       "   {'id': 'fZzaRFs2W',\n",
       "    'type': 'client',\n",
       "    'affiliation': '',\n",
       "    'attrs': [{'name': 'hf.EnrollmentID', 'value': 'fZzaRFs2W', 'ecert': True},\n",
       "     {'name': 'hf.Type', 'value': 'client', 'ecert': True},\n",
       "     {'name': 'hf.Affiliation', 'value': '', 'ecert': True}],\n",
       "    'max_enrollments': 1},\n",
       "   {'id': '3WZYYACqJ',\n",
       "    'type': 'client',\n",
       "    'affiliation': '',\n",
       "    'attrs': [{'name': 'hf.EnrollmentID', 'value': '3WZYYACqJ', 'ecert': True},\n",
       "     {'name': 'hf.Type', 'value': 'client', 'ecert': True},\n",
       "     {'name': 'hf.Affiliation', 'value': '', 'ecert': True}],\n",
       "    'max_enrollments': 1},\n",
       "   {'id': 'ZqEiH5STp',\n",
       "    'type': 'client',\n",
       "    'affiliation': '',\n",
       "    'attrs': [{'name': 'hf.EnrollmentID', 'value': 'ZqEiH5STp', 'ecert': True},\n",
       "     {'name': 'hf.Type', 'value': 'client', 'ecert': True},\n",
       "     {'name': 'hf.Affiliation', 'value': '', 'ecert': True}],\n",
       "    'max_enrollments': 1},\n",
       "   {'id': 'APBGCRpgF',\n",
       "    'type': 'client',\n",
       "    'affiliation': '',\n",
       "    'attrs': [{'name': 'hf.EnrollmentID', 'value': 'APBGCRpgF', 'ecert': True},\n",
       "     {'name': 'hf.Type', 'value': 'client', 'ecert': True},\n",
       "     {'name': 'hf.Affiliation', 'value': '', 'ecert': True}],\n",
       "    'max_enrollments': 1},\n",
       "   {'id': 'cyXW3LN1J',\n",
       "    'type': 'client',\n",
       "    'affiliation': '',\n",
       "    'attrs': [{'name': 'hf.EnrollmentID', 'value': 'cyXW3LN1J', 'ecert': True},\n",
       "     {'name': 'hf.Type', 'value': 'client', 'ecert': True},\n",
       "     {'name': 'hf.Affiliation', 'value': '', 'ecert': True}],\n",
       "    'max_enrollments': 3},\n",
       "   {'id': 'ravi',\n",
       "    'type': 'client',\n",
       "    'affiliation': '',\n",
       "    'attrs': [{'name': 'hf.EnrollmentID', 'value': 'ravi', 'ecert': True},\n",
       "     {'name': 'hf.Type', 'value': 'client', 'ecert': True},\n",
       "     {'name': 'hf.Affiliation', 'value': '', 'ecert': True}],\n",
       "    'max_enrollments': 1},\n",
       "   {'id': 'roviso',\n",
       "    'type': 'client',\n",
       "    'affiliation': '',\n",
       "    'attrs': [{'name': 'hf.EnrollmentID', 'value': 'roviso', 'ecert': True},\n",
       "     {'name': 'hf.Type', 'value': 'client', 'ecert': True},\n",
       "     {'name': 'hf.Affiliation', 'value': '', 'ecert': True}],\n",
       "    'max_enrollments': 1}],\n",
       "  'caname': ''},\n",
       " 'errors': [],\n",
       " 'messages': [],\n",
       " 'success': True}"
      ]
     },
     "execution_count": 13,
     "metadata": {},
     "output_type": "execute_result"
    }
   ],
   "source": [
    "res = identityService.getAll(admin) # get all users\n",
    "res"
   ]
  },
  {
   "cell_type": "code",
   "execution_count": 14,
   "id": "0e8dc117-0604-468b-8e53-e9befd302916",
   "metadata": {},
   "outputs": [
    {
     "data": {
      "text/plain": [
       "{'result': {'id': 'ravi',\n",
       "  'type': 'client',\n",
       "  'affiliation': '',\n",
       "  'attrs': [{'name': 'hf.EnrollmentID', 'value': 'ravi', 'ecert': True},\n",
       "   {'name': 'hf.Type', 'value': 'client', 'ecert': True}],\n",
       "  'max_enrollments': 5,\n",
       "  'secret': 'bar'},\n",
       " 'errors': [],\n",
       " 'messages': [],\n",
       " 'success': True}"
      ]
     },
     "execution_count": 14,
     "metadata": {},
     "output_type": "execute_result"
    }
   ],
   "source": [
    "res = identityService.update('ravi', admin, maxEnrollments=5, affiliation='.', enrollmentSecret='bar') # update user foo\n",
    "res"
   ]
  },
  {
   "cell_type": "code",
   "execution_count": 15,
   "id": "2a7efe8a-b61c-4b55-8535-955a9ed5252b",
   "metadata": {},
   "outputs": [
    {
     "data": {
      "text/plain": [
       "{'result': {'id': 'roviso',\n",
       "  'type': 'client',\n",
       "  'affiliation': '',\n",
       "  'attrs': [{'name': 'hf.EnrollmentID', 'value': 'roviso', 'ecert': True},\n",
       "   {'name': 'hf.Type', 'value': 'client', 'ecert': True},\n",
       "   {'name': 'hf.Affiliation', 'value': '', 'ecert': True}],\n",
       "  'max_enrollments': 1},\n",
       " 'errors': [],\n",
       " 'messages': [],\n",
       " 'success': True}"
      ]
     },
     "execution_count": 15,
     "metadata": {},
     "output_type": "execute_result"
    }
   ],
   "source": [
    "res = identityService.delete('roviso', admin) # delete user foo\n",
    "res"
   ]
  },
  {
   "cell_type": "code",
   "execution_count": 16,
   "id": "7370e29d-75bf-4494-9d54-c975b4338ea3",
   "metadata": {},
   "outputs": [
    {
     "data": {
      "text/plain": [
       "{'result': {'identities': [{'id': 'admin',\n",
       "    'type': 'client',\n",
       "    'affiliation': '',\n",
       "    'attrs': [{'name': 'hf.Registrar.DelegateRoles',\n",
       "      'value': 'client,user,validator,auditor'},\n",
       "     {'name': 'hf.Revoker', 'value': '1'},\n",
       "     {'name': 'hf.IntermediateCA', 'value': '1'},\n",
       "     {'name': 'hf.AffiliationMgr', 'value': '1'},\n",
       "     {'name': 'hf.GenCRL', 'value': '1'},\n",
       "     {'name': 'hf.Registrar.Roles',\n",
       "      'value': 'client,user,peer,validator,auditor,ca'}],\n",
       "    'max_enrollments': -1},\n",
       "   {'id': 'user',\n",
       "    'type': 'client',\n",
       "    'affiliation': '',\n",
       "    'attrs': [{'name': 'hf.Registrar.Roles',\n",
       "      'value': 'client,user,peer,validator,auditor,ca'},\n",
       "     {'name': 'hf.Registrar.DelegateRoles',\n",
       "      'value': 'client,user,validator,auditor'},\n",
       "     {'name': 'hf.Revoker', 'value': '1'},\n",
       "     {'name': 'hf.IntermediateCA', 'value': '1'}],\n",
       "    'max_enrollments': -1},\n",
       "   {'id': 'v4fXUvyee',\n",
       "    'type': 'client',\n",
       "    'affiliation': '',\n",
       "    'attrs': [{'name': 'hf.EnrollmentID', 'value': 'v4fXUvyee', 'ecert': True},\n",
       "     {'name': 'hf.Type', 'value': 'client', 'ecert': True},\n",
       "     {'name': 'hf.Affiliation', 'value': '', 'ecert': True}],\n",
       "    'max_enrollments': 1},\n",
       "   {'id': 'UxIi5tfvb',\n",
       "    'type': 'client',\n",
       "    'affiliation': '',\n",
       "    'attrs': [{'name': 'hf.EnrollmentID', 'value': 'UxIi5tfvb', 'ecert': True},\n",
       "     {'name': 'hf.Type', 'value': 'client', 'ecert': True},\n",
       "     {'name': 'hf.Affiliation', 'value': '', 'ecert': True}],\n",
       "    'max_enrollments': 1},\n",
       "   {'id': 'gx09Z9YN3',\n",
       "    'type': 'client',\n",
       "    'affiliation': '',\n",
       "    'attrs': [{'name': 'hf.EnrollmentID', 'value': 'gx09Z9YN3', 'ecert': True},\n",
       "     {'name': 'hf.Type', 'value': 'client', 'ecert': True},\n",
       "     {'name': 'hf.Affiliation', 'value': '', 'ecert': True}],\n",
       "    'max_enrollments': 1},\n",
       "   {'id': '5mQ9FRxOq',\n",
       "    'type': 'client',\n",
       "    'affiliation': '',\n",
       "    'attrs': [{'name': 'hf.EnrollmentID', 'value': '5mQ9FRxOq', 'ecert': True},\n",
       "     {'name': 'hf.Type', 'value': 'client', 'ecert': True},\n",
       "     {'name': 'hf.Affiliation', 'value': '', 'ecert': True}],\n",
       "    'max_enrollments': 1},\n",
       "   {'id': 'VR2dgdORv',\n",
       "    'type': 'client',\n",
       "    'affiliation': '',\n",
       "    'attrs': [{'name': 'hf.EnrollmentID', 'value': 'VR2dgdORv', 'ecert': True},\n",
       "     {'name': 'hf.Type', 'value': 'client', 'ecert': True},\n",
       "     {'name': 'hf.Affiliation', 'value': '', 'ecert': True}],\n",
       "    'max_enrollments': 1},\n",
       "   {'id': 'EZxfo0fc8',\n",
       "    'type': 'client',\n",
       "    'affiliation': '',\n",
       "    'attrs': [{'name': 'hf.EnrollmentID', 'value': 'EZxfo0fc8', 'ecert': True},\n",
       "     {'name': 'hf.Type', 'value': 'client', 'ecert': True},\n",
       "     {'name': 'hf.Affiliation', 'value': '', 'ecert': True}],\n",
       "    'max_enrollments': 1},\n",
       "   {'id': 'fZzaRFs2W',\n",
       "    'type': 'client',\n",
       "    'affiliation': '',\n",
       "    'attrs': [{'name': 'hf.EnrollmentID', 'value': 'fZzaRFs2W', 'ecert': True},\n",
       "     {'name': 'hf.Type', 'value': 'client', 'ecert': True},\n",
       "     {'name': 'hf.Affiliation', 'value': '', 'ecert': True}],\n",
       "    'max_enrollments': 1},\n",
       "   {'id': '3WZYYACqJ',\n",
       "    'type': 'client',\n",
       "    'affiliation': '',\n",
       "    'attrs': [{'name': 'hf.EnrollmentID', 'value': '3WZYYACqJ', 'ecert': True},\n",
       "     {'name': 'hf.Type', 'value': 'client', 'ecert': True},\n",
       "     {'name': 'hf.Affiliation', 'value': '', 'ecert': True}],\n",
       "    'max_enrollments': 1},\n",
       "   {'id': 'ZqEiH5STp',\n",
       "    'type': 'client',\n",
       "    'affiliation': '',\n",
       "    'attrs': [{'name': 'hf.EnrollmentID', 'value': 'ZqEiH5STp', 'ecert': True},\n",
       "     {'name': 'hf.Type', 'value': 'client', 'ecert': True},\n",
       "     {'name': 'hf.Affiliation', 'value': '', 'ecert': True}],\n",
       "    'max_enrollments': 1},\n",
       "   {'id': 'APBGCRpgF',\n",
       "    'type': 'client',\n",
       "    'affiliation': '',\n",
       "    'attrs': [{'name': 'hf.EnrollmentID', 'value': 'APBGCRpgF', 'ecert': True},\n",
       "     {'name': 'hf.Type', 'value': 'client', 'ecert': True},\n",
       "     {'name': 'hf.Affiliation', 'value': '', 'ecert': True}],\n",
       "    'max_enrollments': 1},\n",
       "   {'id': 'cyXW3LN1J',\n",
       "    'type': 'client',\n",
       "    'affiliation': '',\n",
       "    'attrs': [{'name': 'hf.EnrollmentID', 'value': 'cyXW3LN1J', 'ecert': True},\n",
       "     {'name': 'hf.Type', 'value': 'client', 'ecert': True},\n",
       "     {'name': 'hf.Affiliation', 'value': '', 'ecert': True}],\n",
       "    'max_enrollments': 3},\n",
       "   {'id': 'ravi',\n",
       "    'type': 'client',\n",
       "    'affiliation': '',\n",
       "    'attrs': [{'name': 'hf.EnrollmentID', 'value': 'ravi', 'ecert': True},\n",
       "     {'name': 'hf.Type', 'value': 'client', 'ecert': True}],\n",
       "    'max_enrollments': 5}],\n",
       "  'caname': ''},\n",
       " 'errors': [],\n",
       " 'messages': [],\n",
       " 'success': True}"
      ]
     },
     "execution_count": 16,
     "metadata": {},
     "output_type": "execute_result"
    }
   ],
   "source": [
    "res = identityService.getAll(admin) # get all users\n",
    "res"
   ]
  },
  {
   "cell_type": "code",
   "execution_count": 17,
   "id": "ed8985f2-8ba5-452f-86ce-bb3a036884d0",
   "metadata": {},
   "outputs": [],
   "source": [
    "from hfc.fabric_network import wallet"
   ]
  },
  {
   "cell_type": "code",
   "execution_count": 18,
   "id": "118e1d08-b9af-4b87-ab81-624b157391a0",
   "metadata": {},
   "outputs": [
    {
     "data": {
      "text/plain": [
       "<hfc.fabric_ca.caservice.Enrollment at 0x7f05231cdc40>"
      ]
     },
     "execution_count": 18,
     "metadata": {},
     "output_type": "execute_result"
    }
   ],
   "source": [
    "secret = adminEnrollment.register(\"wallet_user\") # register a user to ca\n",
    "walletEnrollment = casvc.enroll(\"wallet_user\", secret) # now local will have the user enrollment\n",
    "walletEnrollment"
   ]
  },
  {
   "cell_type": "code",
   "execution_count": 19,
   "id": "0a82558e-4021-43a2-ad24-995f602ea36c",
   "metadata": {},
   "outputs": [
    {
     "data": {
      "text/plain": [
       "<hfc.fabric_network.wallet.Identity at 0x7f0522fec130>"
      ]
     },
     "execution_count": 19,
     "metadata": {},
     "output_type": "execute_result"
    }
   ],
   "source": [
    "new_wallet = wallet.FileSystenWallet() # Creates default wallet at ./tmp/hfc-kvs\n",
    "user_identity = wallet.Identity(\"user1\", walletEnrollment) # Creates a new Identity of the enrolled user\n",
    "user_identity"
   ]
  },
  {
   "cell_type": "code",
   "execution_count": 20,
   "id": "8ec937ae-ddd3-4655-a8c4-bf7433fcb10e",
   "metadata": {},
   "outputs": [
    {
     "ename": "TypeError",
     "evalue": "from_buffer() cannot return the address of a unicode object",
     "output_type": "error",
     "traceback": [
      "\u001b[0;31m---------------------------------------------------------------------------\u001b[0m",
      "\u001b[0;31mTypeError\u001b[0m                                 Traceback (most recent call last)",
      "\u001b[0;32m<ipython-input-20-f7953714ae65>\u001b[0m in \u001b[0;36m<module>\u001b[0;34m\u001b[0m\n\u001b[1;32m      1\u001b[0m \u001b[0muser_identity\u001b[0m\u001b[0;34m.\u001b[0m\u001b[0mCreateIdentity\u001b[0m\u001b[0;34m(\u001b[0m\u001b[0mnew_wallet\u001b[0m\u001b[0;34m)\u001b[0m \u001b[0;31m# Stores this identity in the FileSystemWallet\u001b[0m\u001b[0;34m\u001b[0m\u001b[0;34m\u001b[0m\u001b[0m\n\u001b[0;32m----> 2\u001b[0;31m \u001b[0muser1\u001b[0m \u001b[0;34m=\u001b[0m \u001b[0mnew_wallet\u001b[0m\u001b[0;34m.\u001b[0m\u001b[0mcreate_user\u001b[0m\u001b[0;34m(\u001b[0m\u001b[0;34m\"user1\"\u001b[0m\u001b[0;34m,\u001b[0m \u001b[0;34m\"Org1\"\u001b[0m\u001b[0;34m,\u001b[0m \u001b[0;34m\"Org1MSP\"\u001b[0m\u001b[0;34m)\u001b[0m\u001b[0;34m\u001b[0m\u001b[0;34m\u001b[0m\u001b[0m\n\u001b[0m\u001b[1;32m      3\u001b[0m \u001b[0muser1\u001b[0m\u001b[0;34m\u001b[0m\u001b[0;34m\u001b[0m\u001b[0m\n",
      "\u001b[0;32m~/PycharmProjects/goProject/fabric-sdk-py/hfc/fabric_network/wallet.py\u001b[0m in \u001b[0;36mcreate_user\u001b[0;34m(self, enrollment_id, org, msp_id, state_store)\u001b[0m\n\u001b[1;32m     54\u001b[0m         \u001b[0mkey_path\u001b[0m \u001b[0;34m=\u001b[0m \u001b[0mself\u001b[0m\u001b[0;34m.\u001b[0m\u001b[0m_path\u001b[0m \u001b[0;34m+\u001b[0m \u001b[0;34m'/'\u001b[0m \u001b[0;34m+\u001b[0m \u001b[0menrollment_id\u001b[0m \u001b[0;34m+\u001b[0m \u001b[0;34m'/'\u001b[0m \u001b[0;34m+\u001b[0m \u001b[0;34m'private_sk'\u001b[0m\u001b[0;34m\u001b[0m\u001b[0;34m\u001b[0m\u001b[0m\n\u001b[1;32m     55\u001b[0m         \u001b[0mcert_path\u001b[0m \u001b[0;34m=\u001b[0m \u001b[0mself\u001b[0m\u001b[0;34m.\u001b[0m\u001b[0m_path\u001b[0m \u001b[0;34m+\u001b[0m \u001b[0;34m'/'\u001b[0m \u001b[0;34m+\u001b[0m \u001b[0menrollment_id\u001b[0m \u001b[0;34m+\u001b[0m \u001b[0;34m'/'\u001b[0m \u001b[0;34m+\u001b[0m \u001b[0;34m'enrollmentCert.pem'\u001b[0m\u001b[0;34m\u001b[0m\u001b[0;34m\u001b[0m\u001b[0m\n\u001b[0;32m---> 56\u001b[0;31m         \u001b[0muser\u001b[0m \u001b[0;34m=\u001b[0m \u001b[0mcreate_user\u001b[0m\u001b[0;34m(\u001b[0m\u001b[0menrollment_id\u001b[0m\u001b[0;34m,\u001b[0m \u001b[0morg\u001b[0m\u001b[0;34m,\u001b[0m \u001b[0mstate_store\u001b[0m\u001b[0;34m,\u001b[0m \u001b[0mmsp_id\u001b[0m\u001b[0;34m,\u001b[0m \u001b[0mkey_path\u001b[0m\u001b[0;34m,\u001b[0m \u001b[0mcert_path\u001b[0m\u001b[0;34m)\u001b[0m\u001b[0;34m\u001b[0m\u001b[0;34m\u001b[0m\u001b[0m\n\u001b[0m\u001b[1;32m     57\u001b[0m         \u001b[0;32mreturn\u001b[0m \u001b[0muser\u001b[0m\u001b[0;34m\u001b[0m\u001b[0;34m\u001b[0m\u001b[0m\n\u001b[1;32m     58\u001b[0m \u001b[0;34m\u001b[0m\u001b[0m\n",
      "\u001b[0;32m~/PycharmProjects/goProject/fabric-sdk-py/hfc/fabric/user.py\u001b[0m in \u001b[0;36mcreate_user\u001b[0;34m(name, org, state_store, msp_id, key_pem, cert_pem, crypto_suite)\u001b[0m\n\u001b[1;32m    311\u001b[0m     ))\n\u001b[1;32m    312\u001b[0m \u001b[0;34m\u001b[0m\u001b[0m\n\u001b[0;32m--> 313\u001b[0;31m     \u001b[0mprivate_key\u001b[0m \u001b[0;34m=\u001b[0m \u001b[0mload_pem_private_key\u001b[0m\u001b[0;34m(\u001b[0m\u001b[0mkey_pem\u001b[0m\u001b[0;34m,\u001b[0m \u001b[0;32mNone\u001b[0m\u001b[0;34m,\u001b[0m \u001b[0mdefault_backend\u001b[0m\u001b[0;34m(\u001b[0m\u001b[0;34m)\u001b[0m\u001b[0;34m)\u001b[0m\u001b[0;34m\u001b[0m\u001b[0;34m\u001b[0m\u001b[0m\n\u001b[0m\u001b[1;32m    314\u001b[0m     \u001b[0menrollment\u001b[0m \u001b[0;34m=\u001b[0m \u001b[0mEnrollment\u001b[0m\u001b[0;34m(\u001b[0m\u001b[0mprivate_key\u001b[0m\u001b[0;34m,\u001b[0m \u001b[0mcert_pem\u001b[0m\u001b[0;34m)\u001b[0m\u001b[0;34m\u001b[0m\u001b[0;34m\u001b[0m\u001b[0m\n\u001b[1;32m    315\u001b[0m \u001b[0;34m\u001b[0m\u001b[0m\n",
      "\u001b[0;32m~/anaconda3/lib/python3.8/site-packages/cryptography/hazmat/primitives/serialization/base.py\u001b[0m in \u001b[0;36mload_pem_private_key\u001b[0;34m(data, password, backend)\u001b[0m\n\u001b[1;32m     18\u001b[0m ) -> _PRIVATE_KEY_TYPES:\n\u001b[1;32m     19\u001b[0m     \u001b[0mbackend\u001b[0m \u001b[0;34m=\u001b[0m \u001b[0m_get_backend\u001b[0m\u001b[0;34m(\u001b[0m\u001b[0mbackend\u001b[0m\u001b[0;34m)\u001b[0m\u001b[0;34m\u001b[0m\u001b[0;34m\u001b[0m\u001b[0m\n\u001b[0;32m---> 20\u001b[0;31m     \u001b[0;32mreturn\u001b[0m \u001b[0mbackend\u001b[0m\u001b[0;34m.\u001b[0m\u001b[0mload_pem_private_key\u001b[0m\u001b[0;34m(\u001b[0m\u001b[0mdata\u001b[0m\u001b[0;34m,\u001b[0m \u001b[0mpassword\u001b[0m\u001b[0;34m)\u001b[0m\u001b[0;34m\u001b[0m\u001b[0;34m\u001b[0m\u001b[0m\n\u001b[0m\u001b[1;32m     21\u001b[0m \u001b[0;34m\u001b[0m\u001b[0m\n\u001b[1;32m     22\u001b[0m \u001b[0;34m\u001b[0m\u001b[0m\n",
      "\u001b[0;32m~/anaconda3/lib/python3.8/site-packages/cryptography/hazmat/backends/openssl/backend.py\u001b[0m in \u001b[0;36mload_pem_private_key\u001b[0;34m(self, data, password)\u001b[0m\n\u001b[1;32m   1215\u001b[0m \u001b[0;34m\u001b[0m\u001b[0m\n\u001b[1;32m   1216\u001b[0m     \u001b[0;32mdef\u001b[0m \u001b[0mload_pem_private_key\u001b[0m\u001b[0;34m(\u001b[0m\u001b[0mself\u001b[0m\u001b[0;34m,\u001b[0m \u001b[0mdata\u001b[0m\u001b[0;34m,\u001b[0m \u001b[0mpassword\u001b[0m\u001b[0;34m)\u001b[0m\u001b[0;34m:\u001b[0m\u001b[0;34m\u001b[0m\u001b[0;34m\u001b[0m\u001b[0m\n\u001b[0;32m-> 1217\u001b[0;31m         return self._load_key(\n\u001b[0m\u001b[1;32m   1218\u001b[0m             \u001b[0mself\u001b[0m\u001b[0;34m.\u001b[0m\u001b[0m_lib\u001b[0m\u001b[0;34m.\u001b[0m\u001b[0mPEM_read_bio_PrivateKey\u001b[0m\u001b[0;34m,\u001b[0m\u001b[0;34m\u001b[0m\u001b[0;34m\u001b[0m\u001b[0m\n\u001b[1;32m   1219\u001b[0m             \u001b[0mself\u001b[0m\u001b[0;34m.\u001b[0m\u001b[0m_evp_pkey_to_private_key\u001b[0m\u001b[0;34m,\u001b[0m\u001b[0;34m\u001b[0m\u001b[0;34m\u001b[0m\u001b[0m\n",
      "\u001b[0;32m~/anaconda3/lib/python3.8/site-packages/cryptography/hazmat/backends/openssl/backend.py\u001b[0m in \u001b[0;36m_load_key\u001b[0;34m(self, openssl_read_func, convert_func, data, password)\u001b[0m\n\u001b[1;32m   1414\u001b[0m \u001b[0;34m\u001b[0m\u001b[0m\n\u001b[1;32m   1415\u001b[0m     \u001b[0;32mdef\u001b[0m \u001b[0m_load_key\u001b[0m\u001b[0;34m(\u001b[0m\u001b[0mself\u001b[0m\u001b[0;34m,\u001b[0m \u001b[0mopenssl_read_func\u001b[0m\u001b[0;34m,\u001b[0m \u001b[0mconvert_func\u001b[0m\u001b[0;34m,\u001b[0m \u001b[0mdata\u001b[0m\u001b[0;34m,\u001b[0m \u001b[0mpassword\u001b[0m\u001b[0;34m)\u001b[0m\u001b[0;34m:\u001b[0m\u001b[0;34m\u001b[0m\u001b[0;34m\u001b[0m\u001b[0m\n\u001b[0;32m-> 1416\u001b[0;31m         \u001b[0mmem_bio\u001b[0m \u001b[0;34m=\u001b[0m \u001b[0mself\u001b[0m\u001b[0;34m.\u001b[0m\u001b[0m_bytes_to_bio\u001b[0m\u001b[0;34m(\u001b[0m\u001b[0mdata\u001b[0m\u001b[0;34m)\u001b[0m\u001b[0;34m\u001b[0m\u001b[0;34m\u001b[0m\u001b[0m\n\u001b[0m\u001b[1;32m   1417\u001b[0m \u001b[0;34m\u001b[0m\u001b[0m\n\u001b[1;32m   1418\u001b[0m         \u001b[0muserdata\u001b[0m \u001b[0;34m=\u001b[0m \u001b[0mself\u001b[0m\u001b[0;34m.\u001b[0m\u001b[0m_ffi\u001b[0m\u001b[0;34m.\u001b[0m\u001b[0mnew\u001b[0m\u001b[0;34m(\u001b[0m\u001b[0;34m\"CRYPTOGRAPHY_PASSWORD_DATA *\"\u001b[0m\u001b[0;34m)\u001b[0m\u001b[0;34m\u001b[0m\u001b[0;34m\u001b[0m\u001b[0m\n",
      "\u001b[0;32m~/anaconda3/lib/python3.8/site-packages/cryptography/hazmat/backends/openssl/backend.py\u001b[0m in \u001b[0;36m_bytes_to_bio\u001b[0;34m(self, data)\u001b[0m\n\u001b[1;32m    634\u001b[0m         \u001b[0mBIO\u001b[0m \u001b[0;32mis\u001b[0m \u001b[0mfinished\u001b[0m \u001b[0;32mwith\u001b[0m\u001b[0;34m.\u001b[0m\u001b[0;34m\u001b[0m\u001b[0;34m\u001b[0m\u001b[0m\n\u001b[1;32m    635\u001b[0m         \"\"\"\n\u001b[0;32m--> 636\u001b[0;31m         \u001b[0mdata_ptr\u001b[0m \u001b[0;34m=\u001b[0m \u001b[0mself\u001b[0m\u001b[0;34m.\u001b[0m\u001b[0m_ffi\u001b[0m\u001b[0;34m.\u001b[0m\u001b[0mfrom_buffer\u001b[0m\u001b[0;34m(\u001b[0m\u001b[0mdata\u001b[0m\u001b[0;34m)\u001b[0m\u001b[0;34m\u001b[0m\u001b[0;34m\u001b[0m\u001b[0m\n\u001b[0m\u001b[1;32m    637\u001b[0m         \u001b[0mbio\u001b[0m \u001b[0;34m=\u001b[0m \u001b[0mself\u001b[0m\u001b[0;34m.\u001b[0m\u001b[0m_lib\u001b[0m\u001b[0;34m.\u001b[0m\u001b[0mBIO_new_mem_buf\u001b[0m\u001b[0;34m(\u001b[0m\u001b[0mdata_ptr\u001b[0m\u001b[0;34m,\u001b[0m \u001b[0mlen\u001b[0m\u001b[0;34m(\u001b[0m\u001b[0mdata\u001b[0m\u001b[0;34m)\u001b[0m\u001b[0;34m)\u001b[0m\u001b[0;34m\u001b[0m\u001b[0;34m\u001b[0m\u001b[0m\n\u001b[1;32m    638\u001b[0m         \u001b[0mself\u001b[0m\u001b[0;34m.\u001b[0m\u001b[0mopenssl_assert\u001b[0m\u001b[0;34m(\u001b[0m\u001b[0mbio\u001b[0m \u001b[0;34m!=\u001b[0m \u001b[0mself\u001b[0m\u001b[0;34m.\u001b[0m\u001b[0m_ffi\u001b[0m\u001b[0;34m.\u001b[0m\u001b[0mNULL\u001b[0m\u001b[0;34m)\u001b[0m\u001b[0;34m\u001b[0m\u001b[0;34m\u001b[0m\u001b[0m\n",
      "\u001b[0;31mTypeError\u001b[0m: from_buffer() cannot return the address of a unicode object"
     ]
    }
   ],
   "source": [
    "user_identity.CreateIdentity(new_wallet) # Stores this identity in the FileSystemWallet\n"
   ]
  },
  {
   "cell_type": "code",
   "execution_count": 22,
   "id": "6dbf7694-10e9-4be2-8726-339be717edff",
   "metadata": {},
   "outputs": [
    {
     "data": {
      "text/plain": [
       "['CreateIdentity',\n",
       " '_EnrollmentCert',\n",
       " '_PrivateKey',\n",
       " '__class__',\n",
       " '__delattr__',\n",
       " '__dict__',\n",
       " '__dir__',\n",
       " '__doc__',\n",
       " '__eq__',\n",
       " '__format__',\n",
       " '__ge__',\n",
       " '__getattribute__',\n",
       " '__gt__',\n",
       " '__hash__',\n",
       " '__init__',\n",
       " '__init_subclass__',\n",
       " '__le__',\n",
       " '__lt__',\n",
       " '__module__',\n",
       " '__ne__',\n",
       " '__new__',\n",
       " '__reduce__',\n",
       " '__reduce_ex__',\n",
       " '__repr__',\n",
       " '__setattr__',\n",
       " '__sizeof__',\n",
       " '__str__',\n",
       " '__subclasshook__',\n",
       " '__weakref__',\n",
       " '_enrollment_id']"
      ]
     },
     "execution_count": 22,
     "metadata": {},
     "output_type": "execute_result"
    }
   ],
   "source": [
    "dir(user_identity)"
   ]
  },
  {
   "cell_type": "code",
   "execution_count": 26,
   "id": "ad74fb01-2d6f-48f4-97e3-18aec884a0b2",
   "metadata": {},
   "outputs": [
    {
     "data": {
      "text/plain": [
       "b'-----BEGIN CERTIFICATE-----\\nMIICajCCAhCgAwIBAgIUIeWwVidexvesrp3O5Ma58daqxQwwCgYIKoZIzj0EAwIw\\nczELMAkGA1UEBhMCVVMxEzARBgNVBAgTCkNhbGlmb3JuaWExFjAUBgNVBAcTDVNh\\nbiBGcmFuY2lzY28xGTAXBgNVBAoTEG9yZzEuZXhhbXBsZS5jb20xHDAaBgNVBAMT\\nE2NhLm9yZzEuZXhhbXBsZS5jb20wHhcNMjEwOTA4MDU1NjAwWhcNMjIwODA3MTQw\\nMTAwWjAnMQ8wDQYDVQQLEwZjbGllbnQxFDASBgNVBAMMC3dhbGxldF91c2VyMFkw\\nEwYHKoZIzj0CAQYIKoZIzj0DAQcDQgAESkZVuM9X2MJE7Hu+HKtZVbw3+qO/He/t\\nXckosPSzgyPlZwi/VWmoWuuedYvGzXIwOLR1U2mStLeZY8OOFOmFLaOBzTCByjAO\\nBgNVHQ8BAf8EBAMCAgQwDAYDVR0TAQH/BAIwADAdBgNVHQ4EFgQUDFsSqk0HMZpg\\nM1eFNaWiNudbNQUwKwYDVR0jBCQwIoAgDnKSJOiz8xeEyKk8W4729MHJHZ5uV3xF\\nwzFjYJ/kABEwXgYIKgMEBQYHCAEEUnsiYXR0cnMiOnsiaGYuQWZmaWxpYXRpb24i\\nOiIiLCJoZi5FbnJvbGxtZW50SUQiOiJ3YWxsZXRfdXNlciIsImhmLlR5cGUiOiJj\\nbGllbnQifX0wCgYIKoZIzj0EAwIDSAAwRQIhAJPpyksGraYrCHu5tsyj3T6ZbUxs\\nIQZvcZy+nQhnrF9rAiBBcO4mNdL39CEll80+8KTydu+0BzZhfM7yGbGMK8o2+w==\\n-----END CERTIFICATE-----\\n'"
      ]
     },
     "execution_count": 26,
     "metadata": {},
     "output_type": "execute_result"
    }
   ],
   "source": [
    "user_identity._EnrollmentCert"
   ]
  },
  {
   "cell_type": "code",
   "execution_count": null,
   "id": "ba7c9934-ca39-4ce7-a930-0a5edcbbe59b",
   "metadata": {},
   "outputs": [],
   "source": [
    "user1 = new_wallet.create_user(\"user1\", \"Org1\", \"Org1MSP\") \n",
    "user1"
   ]
  },
  {
   "cell_type": "code",
   "execution_count": null,
   "id": "c8671cd1-b635-4d2c-a8dd-577446f24ec9",
   "metadata": {},
   "outputs": [],
   "source": []
  }
 ],
 "metadata": {
  "kernelspec": {
   "display_name": "Python 3",
   "language": "python",
   "name": "python3"
  },
  "language_info": {
   "codemirror_mode": {
    "name": "ipython",
    "version": 3
   },
   "file_extension": ".py",
   "mimetype": "text/x-python",
   "name": "python",
   "nbconvert_exporter": "python",
   "pygments_lexer": "ipython3",
   "version": "3.8.8"
  }
 },
 "nbformat": 4,
 "nbformat_minor": 5
}

{
 "cells": [
  {
   "cell_type": "code",
   "execution_count": 1,
   "id": "7c41f8b5-182c-4771-bd28-865fdbf468b8",
   "metadata": {},
   "outputs": [],
   "source": [
    "import asyncio\n",
    "from hfc.fabric import Client"
   ]
  },
  {
   "cell_type": "code",
   "execution_count": 2,
   "id": "20d4c438-a6ed-476a-abe0-88af081e99e1",
   "metadata": {},
   "outputs": [],
   "source": [
    "import nest_asyncio\n",
    "nest_asyncio.apply()"
   ]
  },
  {
   "cell_type": "code",
   "execution_count": 3,
   "id": "1c7f63c2-b1e3-4dd0-9381-75e09b237ea7",
   "metadata": {},
   "outputs": [
    {
     "name": "stderr",
     "output_type": "stream",
     "text": [
      "Init client with profile=test/fixtures/network.json\n",
      "create org with name=orderer.example.com\n",
      "create org with name=org1.example.com\n",
      "create org with name=org2.example.com\n",
      "create ca with name=ca-org1\n",
      "create ca with name=ca-org2\n",
      "Import orderers = dict_keys(['orderer.example.com'])\n",
      "Import peers = dict_keys(['peer0.org1.example.com', 'peer1.org1.example.com', 'peer0.org2.example.com', 'peer1.org2.example.com'])\n"
     ]
    }
   ],
   "source": [
    "loop = asyncio.get_event_loop()\n",
    "\n",
    "cli = Client(net_profile=\"test/fixtures/network.json\")\n",
    "org1_admin = cli.get_user(org_name='org1.example.com', name='Admin')"
   ]
  },
  {
   "cell_type": "code",
   "execution_count": 4,
   "id": "8d497cc8-44e6-46f2-bb5d-2db785b39458",
   "metadata": {},
   "outputs": [
    {
     "name": "stderr",
     "output_type": "stream",
     "text": [
      "FABRIC_CFG_PATH set to /home/prixa-ml/PycharmProjects/goProject/fabric-sdk-py/test/fixtures/e2e_cli/\n",
      "Configtx file successfully created in current             directory\n",
      "{'tx_id': 'd58ccb8b56875b4c40969c7bb01eae3ad94fed58bad36498a6de724d6f1ef326', 'nonce': b'\\xe5\\x8a\\xc7\\xb2s\\xa9\\xd4\\xde|#?~\\x8aH\\xde\\x92\\x87e+\\xa8\\x82\\x1ad\\xd3', 'signatures': [b'\\n\\xd3\\x06\\n\\xb6\\x06\\n\\x07Org1MSP\\x12\\xaa\\x06-----BEGIN CERTIFICATE-----\\nMIICKjCCAdCgAwIBAgIQEn3uLYlL4sXXQBS1/k8u7zAKBggqhkjOPQQDAjBzMQsw\\nCQYDVQQGEwJVUzETMBEGA1UECBMKQ2FsaWZvcm5pYTEWMBQGA1UEBxMNU2FuIEZy\\nYW5jaXNjbzEZMBcGA1UEChMQb3JnMS5leGFtcGxlLmNvbTEcMBoGA1UEAxMTY2Eu\\nb3JnMS5leGFtcGxlLmNvbTAeFw0xODEwMTkwMzQ4MDBaFw0yODEwMTYwMzQ4MDBa\\nMGwxCzAJBgNVBAYTAlVTMRMwEQYDVQQIEwpDYWxpZm9ybmlhMRYwFAYDVQQHEw1T\\nYW4gRnJhbmNpc2NvMQ8wDQYDVQQLEwZjbGllbnQxHzAdBgNVBAMMFkFkbWluQG9y\\nZzEuZXhhbXBsZS5jb20wWTATBgcqhkjOPQIBBggqhkjOPQMBBwNCAAR2zFPDBYIy\\njZSXaB15ILW9MRUYkSiksD6Io+VBbsJex2S7Do7lJhYfpyg5Z1LEHLCQgHH/VJ1F\\nMZmNHgIIHqWPo00wSzAOBgNVHQ8BAf8EBAMCB4AwDAYDVR0TAQH/BAIwADArBgNV\\nHSMEJDAigCBrrGAVZjePzZuDxouWmQ1BrbUVMmQN6w6E+DzsHViX0jAKBggqhkjO\\nPQQDAgNIADBFAiEA0FGz0YuvjPaKGy0h7+AUGJ+02O78VIIJx3wX1SL0ODMCIHSN\\nDX1FwttwXOkNiLBOi9sz04bOXz6ALO0xXtZCE4pi\\n-----END CERTIFICATE-----\\n\\x12\\x18\\xe5\\x8a\\xc7\\xb2s\\xa9\\xd4\\xde|#?~\\x8aH\\xde\\x92\\x87e+\\xa8\\x82\\x1ad\\xd3\\x12F0D\\x02 xF(\\xc8\\xb5y\\x9a\\x08*\\x17A\\xc9\\x95\\xd4B\\xe7{\\x95_\\x9b \\xd5\\xca|\\xfd\\x14\\xaaC\\xf2\\xa2\\x8b\\x89\\x02 G\\x1f[\\xf5&\\x15\\xe0\\xd6&\\x02\\xcc\\x13\\x0b?\\x8bo\\xf3\\xbf\\x8b\\xf3\\xaa8\\xf1X\\xc9K\\xcc\\x92\\xd6\\xae&\\xe0'], 'config': b'\\n\\x0cassetchannel\\x12;\\x12)\\n\\x0bApplication\\x12\\x1a\\x12\\x0b\\n\\x07Org1MSP\\x12\\x00\\x12\\x0b\\n\\x07Org2MSP\\x12\\x00\\x1a\\x0e\\n\\nConsortium\\x12\\x00\\x1a\\xed\\x01\\x12\\xc6\\x01\\n\\x0bApplication\\x12\\xb6\\x01\\x08\\x01\\x12\\x0b\\n\\x07Org1MSP\\x12\\x00\\x12\\x0b\\n\\x07Org2MSP\\x12\\x00\\x1a$\\n\\x0cCapabilities\\x12\\x14\\x12\\n\\n\\x08\\n\\x04V1_3\\x12\\x00\\x1a\\x06Admins\"\"\\n\\x07Writers\\x12\\x17\\x12\\r\\x08\\x03\\x12\\t\\n\\x07Writers\\x1a\\x06Admins\"\"\\n\\x06Admins\\x12\\x18\\x12\\x0e\\x08\\x03\\x12\\n\\n\\x06Admins\\x10\\x02\\x1a\\x06Admins\"\"\\n\\x07Readers\\x12\\x17\\x12\\r\\x08\\x03\\x12\\t\\n\\x07Readers\\x1a\\x06Admins*\\x06Admins\\x1a\"\\n\\nConsortium\\x12\\x14\\x12\\x12\\n\\x10SampleConsortium', 'orderer': <hfc.fabric.orderer.Orderer object at 0x7ff60a59d7f0>, 'channel_name': 'assetchannel'}\n",
      "_create_or_update_channel - start\n",
      "_create_or_update_channel - have config_update\n",
      "New channel with name = assetchannel\n"
     ]
    },
    {
     "name": "stdout",
     "output_type": "stream",
     "text": [
      "True\n",
      "True\n"
     ]
    }
   ],
   "source": [
    "# Create a New Channel, the response should be true if succeed\n",
    "response = loop.run_until_complete(cli.channel_create(\n",
    "            orderer='orderer.example.com',\n",
    "            channel_name='assetchannel',\n",
    "            requestor=org1_admin,\n",
    "            config_yaml='test/fixtures/e2e_cli/',\n",
    "            channel_profile='TwoOrgsChannel'\n",
    "            ))\n",
    "print(response)\n",
    "print(response == True)"
   ]
  },
  {
   "cell_type": "code",
   "execution_count": 5,
   "id": "6a014add-7270-4add-b88f-96850e1f160e",
   "metadata": {},
   "outputs": [
    {
     "name": "stderr",
     "output_type": "stream",
     "text": [
      "get genesis block successfully, block=data_hash: \"\\033\\262g\\336\\366\\215=M2\\233\\352\\177t\\031\\342\\211\\255\\200\\204s[=>\\223d\\240\\226\\021\\254\\246W/\"\n",
      "\n"
     ]
    },
    {
     "name": "stdout",
     "output_type": "stream",
     "text": [
      "[response {\n",
      "  status: 200\n",
      "}\n",
      ", response {\n",
      "  status: 200\n",
      "}\n",
      "]\n",
      "True\n"
     ]
    }
   ],
   "source": [
    "orderer_admin = cli.get_user(org_name='orderer.example.com', name='Admin')\n",
    "responses = loop.run_until_complete(cli.channel_join(\n",
    "               requestor=org1_admin,\n",
    "               channel_name='assetchannel',\n",
    "               peers=['peer0.org1.example.com',\n",
    "                      'peer1.org1.example.com'],\n",
    "               orderer='orderer.example.com'\n",
    "               ))\n",
    "\n",
    "print(responses)\n",
    "print(len(responses) == 2)"
   ]
  },
  {
   "cell_type": "code",
   "execution_count": 6,
   "id": "5368bc09-09f8-40f3-84bb-def1dcc8f141",
   "metadata": {},
   "outputs": [
    {
     "name": "stderr",
     "output_type": "stream",
     "text": [
      "get genesis block successfully, block=data_hash: \"\\033\\262g\\336\\366\\215=M2\\233\\352\\177t\\031\\342\\211\\255\\200\\204s[=>\\223d\\240\\226\\021\\254\\246W/\"\n",
      "\n"
     ]
    },
    {
     "name": "stdout",
     "output_type": "stream",
     "text": [
      "[response {\n",
      "  status: 200\n",
      "}\n",
      ", response {\n",
      "  status: 200\n",
      "}\n",
      "]\n",
      "True\n"
     ]
    }
   ],
   "source": [
    "# Join Peers from a different MSP into Channel\n",
    "org2_admin = cli.get_user(org_name='org2.example.com', name='Admin')\n",
    "\n",
    "# For operations on peers from org2.example.com, org2_admin is required as requestor\n",
    "responses = loop.run_until_complete(cli.channel_join(\n",
    "               requestor=org2_admin,\n",
    "               channel_name='assetchannel',\n",
    "               peers=['peer0.org2.example.com',\n",
    "                      'peer1.org2.example.com'],\n",
    "               orderer='orderer.example.com'\n",
    "               ))\n",
    "print(responses)\n",
    "print(len(responses) == 2)"
   ]
  },
  {
   "cell_type": "code",
   "execution_count": null,
   "id": "61ba6e9f-4b28-40b7-9a6b-f513a263a657",
   "metadata": {},
   "outputs": [],
   "source": []
  },
  {
   "cell_type": "code",
   "execution_count": null,
   "id": "8bc977f0-d237-4d51-88f2-6da05187d0ec",
   "metadata": {},
   "outputs": [],
   "source": []
  }
 ],
 "metadata": {
  "kernelspec": {
   "display_name": "Python 3",
   "language": "python",
   "name": "python3"
  },
  "language_info": {
   "codemirror_mode": {
    "name": "ipython",
    "version": 3
   },
   "file_extension": ".py",
   "mimetype": "text/x-python",
   "name": "python",
   "nbconvert_exporter": "python",
   "pygments_lexer": "ipython3",
   "version": "3.8.8"
  }
 },
 "nbformat": 4,
 "nbformat_minor": 5
}
